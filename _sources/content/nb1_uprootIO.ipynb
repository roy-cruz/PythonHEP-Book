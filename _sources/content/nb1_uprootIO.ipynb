{
 "cells": [
  {
   "cell_type": "markdown",
   "metadata": {},
   "source": [
    "# PURSUE Python for HEP: Uproot I/O\n",
    "\n",
    "## Introduction\n",
    "\n",
    "* Scikit-HEP is a community-driven project. It is a software ecosystem designed to provide a coherent collection of Python libraries for HEP. It is aimed at standardizing data analysis in HEP.\n",
    "* It integrates with other tools such as Numpy, Pandas, Matplotlib and Scikit-Learn.\n",
    "* Among its major packages we have\n",
    "  * Uproot: For reading and writing ROOT files without requiring ROOT.\n",
    "  * Awkward Arrays: For the handling of jagged data structures\n",
    "  * Hist: For creating and manipulating histograms\n",
    "  * Vector: For manipulating and oprating on vectors of different kinds in a high-performance manner\n",
    "  * Boost-Histogram: For fast, multi-dimensional histogramming\n",
    "  * Particle: For handling particle physics data, including properties and PDG codes\n",
    "  * Iminuit: For fitting\n",
    "* In this tutorial, you will be introduced to the main components of the Scikit-HEP project. We will start with Uproot and build from there.\n",
    "* For more information on the Scikit-HEP project and the tools it offers, please visit the official website [Scikit-HEP Project Website](https://scikit-hep.org/)\n",
    "\n",
    "## ROOT Files\n",
    "\n",
    "* ROOT files are a binary format designed for storage and analysis of large amounts of HEP data. It structured hierarchically like a small filesystem which can contain nested directories.\n",
    "* It can contain a variety of data types such as TTrees and histograms.\n",
    "\n",
    "<div style=\"text-align: center;\">\n",
    "  <img src=\"./assets/roottree.png\" alt=\"roottree\" style=\"width: 400px\"/>\n",
    "</div>\n",
    "\n",
    "\n",
    "## Uproot\n",
    "* Uproot allows us to read and write ROOT files. It interacts with Numpy, Pandas as well as the packages offered by Scikit-HEP."
   ]
  },
  {
   "cell_type": "markdown",
   "metadata": {},
   "source": [
    "## Opening a File"
   ]
  },
  {
   "cell_type": "markdown",
   "metadata": {},
   "source": [
    "* To move forward, run the following cells to import `Uproot` and to download the sample data."
   ]
  },
  {
   "cell_type": "code",
   "execution_count": null,
   "metadata": {},
   "outputs": [],
   "source": [
    "# Run this cell to import Uproot\n",
    "import uproot\n",
    "import skhep_testdata\n",
    "\n",
    "# Downloads test file and returns path to it\n",
    "filename = skhep_testdata.data_path(\"uproot-Event.root\")\n",
    "file = uproot.open(filename)\n",
    "file"
   ]
  },
  {
   "cell_type": "markdown",
   "metadata": {},
   "source": [
    "* This file object actually represents a directory and its contents are accesible through a dict-like interface."
   ]
  },
  {
   "cell_type": "code",
   "execution_count": null,
   "metadata": {},
   "outputs": [],
   "source": [
    "file.keys()"
   ]
  },
  {
   "cell_type": "code",
   "execution_count": null,
   "metadata": {},
   "outputs": [],
   "source": [
    "file.values()"
   ]
  },
  {
   "cell_type": "code",
   "execution_count": null,
   "metadata": {},
   "outputs": [],
   "source": [
    "file.items()"
   ]
  },
  {
   "cell_type": "code",
   "execution_count": null,
   "metadata": {},
   "outputs": [],
   "source": [
    "file.classnames()"
   ]
  },
  {
   "cell_type": "markdown",
   "metadata": {},
   "source": [
    "* The types seen here are\n",
    "  * `TProcessID`: \n",
    "    * ROOT class that keeps track of process IDs in ROOT files. It is used internally by ROOT to manage object and their references, ensuring that object have unique identifiers across files or sessions. Typically useful for analysis.\n",
    "  * `TH1F`: \n",
    "    * One-dimensional histogram with floating-point bin contents.\n",
    "  * `TTree`: \n",
    "    * ROOT class used for efficient storage and access of large datasets. \n",
    "    * Can be conceptualized as a table in a database of a DataFrame in pandas, where each column (branch) can contian different types of data, and each row (entry) corresponds toa single event or datapoint.\n",
    "    * If it too large to fit in memory a TBranch can be broken down in to TBaskets which are batches of data. They are the smallest unit to read from a TTree.\n",
    "* We can read the histogram and use use useful methods provided by Uproot to convert the data to something like numpy.\n",
    "* The reason there is a `;1` in front of "
   ]
  },
  {
   "cell_type": "code",
   "execution_count": null,
   "metadata": {},
   "outputs": [],
   "source": [
    "h = file[\"hstat;1\"]\n",
    "h"
   ]
  },
  {
   "cell_type": "code",
   "execution_count": null,
   "metadata": {},
   "outputs": [],
   "source": [
    "# Using the hist Scikit-HEP library (more on that later...)\n",
    "h.to_hist().plot(linewidth=0.75, color=\"red\")"
   ]
  },
  {
   "cell_type": "code",
   "execution_count": null,
   "metadata": {},
   "outputs": [],
   "source": [
    "# Converting the histogram object to numpy arrays\n",
    "h.to_numpy()\n",
    "# First array is the data, second one is for bins"
   ]
  },
  {
   "cell_type": "code",
   "execution_count": null,
   "metadata": {},
   "outputs": [],
   "source": [
    "# We can then use plot this data using matplotlib\n",
    "import matplotlib.pyplot as plt\n",
    "hist_data, bin_edges = h.to_numpy()\n",
    "bin_centers = (bin_edges[:-1] + bin_edges[1:]) / 2\n",
    "plt.hist(bin_edges[:-1], bin_edges, weights=hist_data, histtype=\"step\", color=\"red\", linewidth=0.75)\n",
    "plt.show()"
   ]
  },
  {
   "cell_type": "code",
   "execution_count": null,
   "metadata": {},
   "outputs": [],
   "source": [
    "# `h` also has methods which lets us directly access the values, errors and bin edges\n",
    "print(h.values())\n",
    "print(h.errors())\n",
    "print(h.axis(\"x\").edges())"
   ]
  },
  {
   "cell_type": "markdown",
   "metadata": {},
   "source": [
    "* We can also read the TTree and show a list of its contents as follows"
   ]
  },
  {
   "cell_type": "code",
   "execution_count": null,
   "metadata": {},
   "outputs": [],
   "source": [
    "t = file[\"T;1\"]\n",
    "t.show()"
   ]
  },
  {
   "cell_type": "code",
   "execution_count": null,
   "metadata": {},
   "outputs": [],
   "source": [
    "# Other ways to get the same information\n",
    "print(t[\"event/fNtrack\"].typename)\n",
    "print(t[\"event/fNtrack\"].interpretation)"
   ]
  },
  {
   "cell_type": "markdown",
   "metadata": {},
   "source": [
    "* The most direct way to read the data from each of these branches of this TTree is to use the `array` method."
   ]
  },
  {
   "cell_type": "code",
   "execution_count": null,
   "metadata": {},
   "outputs": [],
   "source": [
    "t[\"event/fNtrack\"].array()"
   ]
  },
  {
   "cell_type": "markdown",
   "metadata": {},
   "source": [
    "* Notice that this is not a regular Numpy array, but is in fact a new class of object. This is an Awkard array. We will see more of them later and see just how powerful they are, but for now, just know that these arrays solve the limitation we saw Numpy arrays have: Awkward arrays can store jagged data (i.e. it can contain sub-arrays of different sizes)."
   ]
  },
  {
   "cell_type": "code",
   "execution_count": null,
   "metadata": {},
   "outputs": [],
   "source": [
    "type(t[\"event/fNtrack\"].array())"
   ]
  },
  {
   "cell_type": "markdown",
   "metadata": {},
   "source": [
    "* The data we have at hand at the moment does not contain anything that would allow us to see this in action, but we can synthesize an example. We will see what other things Awkward arrays allow us to do later."
   ]
  },
  {
   "cell_type": "code",
   "execution_count": null,
   "metadata": {},
   "outputs": [],
   "source": [
    "import awkward as ak\n",
    "\n",
    "arr = ak.Array([\n",
    "    [1, 2],\n",
    "    [1, 2, 5, 8],\n",
    "    [],\n",
    "    [2, 5, 8, 2, 5, 8]\n",
    "])\n",
    "type(arr[0])"
   ]
  },
  {
   "cell_type": "markdown",
   "metadata": {},
   "source": [
    "## Writing to a ROOT file\n",
    "\n",
    "* In addition to reading, you can also write data with Uproot. To do this, the file must be opened first. We can choose to create a completly new file or update an existing one.\n",
    "* The functions we can use to open a ROOT file to write to it are:\n",
    "  * `uproot.recreate()`: Creates a new ROOT file with the given filename. If it already exists, it will be overwritten by an empty ROOT file of the same name. Returns a file handle that can be used to write data.\n",
    "  * `uproot.update()`: Opens an existing ROOT file in \"update\" mode. It is used for modigying existing files without deleting them. Returns a file handle that can be used to write data."
   ]
  },
  {
   "cell_type": "code",
   "execution_count": null,
   "metadata": {},
   "outputs": [],
   "source": [
    "output1 = uproot.recreate(\"newrootfile.root\")\n",
    "output1"
   ]
  },
  {
   "cell_type": "code",
   "execution_count": null,
   "metadata": {},
   "outputs": [],
   "source": [
    "# Adding a string\n",
    "output1[\"some_str\"] = \"Wow! I added this to a ROOT file myself!\"\n",
    "print(f\"Keys: {output1.keys()}\")\n",
    "output1.values()"
   ]
  },
  {
   "cell_type": "code",
   "execution_count": null,
   "metadata": {},
   "outputs": [],
   "source": [
    "# Adding a histogram\n",
    "output1[\"some_histogram\"] = file[\"hstat;1\"]\n",
    "output1.values()"
   ]
  },
  {
   "cell_type": "code",
   "execution_count": null,
   "metadata": {},
   "outputs": [],
   "source": [
    "# Adding a histogram withing a nested directory\n",
    "import numpy as np\n",
    "output1[\"nested_directory/another_histogram\"] = np.histogram(\n",
    "    np.random.normal(0, 1, 1000000)\n",
    ")"
   ]
  },
  {
   "cell_type": "code",
   "execution_count": null,
   "metadata": {},
   "outputs": [],
   "source": [
    "# One way to add branches\n",
    "output1[\"tree1\"] = {\n",
    "    \"x\": np.random.randint(0, 10, 1000000),\n",
    "    \"y\": np.random.normal(0, 1, 1000000),\n",
    "}\n",
    "output1[\"tree1\"].extend(\n",
    "    {\"x\": np.random.randint(0, 10, 1000000), \"y\": np.random.normal(0, 1, 1000000)}\n",
    ")\n",
    "output1[\"tree1\"].extend(\n",
    "    {\"x\": np.random.randint(0, 10, 1000000), \"y\": np.random.normal(0, 1, 1000000)}\n",
    ")"
   ]
  },
  {
   "cell_type": "code",
   "execution_count": null,
   "metadata": {},
   "outputs": [],
   "source": [
    "# Another way to add baskets\n",
    "output1.mktree(\"tree2\", {\"x\": np.int32, \"y\": np.float64})\n",
    "for _ in range(20):\n",
    "    output1[\"tree2\"].extend(\n",
    "        {\"x\": np.random.randint(0, 10, 1000000), \"y\": np.random.normal(0, 1, 1000000)}\n",
    "    )"
   ]
  },
  {
   "cell_type": "code",
   "execution_count": null,
   "metadata": {},
   "outputs": [],
   "source": [
    "# Each call to extend create a new basket in the `tree2` branch\n",
    "output1[\"tree2\"].num_baskets"
   ]
  },
  {
   "cell_type": "markdown",
   "metadata": {},
   "source": [
    "The list of data types that can be written to files can be found here: [link](https://uproot.readthedocs.io/en/latest/basic.html#writing-objects-to-a-file)"
   ]
  }
 ],
 "metadata": {
  "kernelspec": {
   "display_name": "venvscikit",
   "language": "python",
   "name": "python3"
  },
  "language_info": {
   "codemirror_mode": {
    "name": "ipython",
    "version": 3
   },
   "file_extension": ".py",
   "mimetype": "text/x-python",
   "name": "python",
   "nbconvert_exporter": "python",
   "pygments_lexer": "ipython3",
   "version": "3.11.6"
  }
 },
 "nbformat": 4,
 "nbformat_minor": 2
}
