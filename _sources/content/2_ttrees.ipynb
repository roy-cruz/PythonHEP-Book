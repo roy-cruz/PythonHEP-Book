{
 "cells": [
  {
   "cell_type": "markdown",
   "metadata": {},
   "source": [
    "# Awkward Arrays for Simulated Data\n",
    "\n",
    "## Loading the Data\n",
    "\n",
    "* Uproot can open not just local ROOT files, but it can also open remote files. We will be working with a file which is hosted by CERN's Open Data Portal.\n",
    "* Note: If you are unable to access the remote file, uncomment the next cell and run it to download an alternative, smaller file."
   ]
  },
  {
   "cell_type": "markdown",
   "metadata": {},
   "source": [
    "Run the following command to copy another, smaller file in your working directory\n",
    "\n",
    "``` bash\n",
    "wget https://cernbox.cern.ch/remote.php/dav/public-files/d0FqsjN68SsBlul/uproot-tutorial-file.root\n",
    "````"
   ]
  },
  {
   "cell_type": "code",
   "execution_count": 36,
   "metadata": {},
   "outputs": [],
   "source": [
    "# Uncomment the following line and run to download the data file directly from the notebook\n",
    "# !wget wget https://cernbox.cern.ch/remote.php/dav/public-files/d0FqsjN68SsBlul/uproot-tutorial-file.root"
   ]
  },
  {
   "cell_type": "code",
   "execution_count": 37,
   "metadata": {},
   "outputs": [
    {
     "data": {
      "text/plain": [
       "{'Events;1': 'TTree'}"
      ]
     },
     "execution_count": 37,
     "metadata": {},
     "output_type": "execute_result"
    }
   ],
   "source": [
    "import uproot\n",
    "\n",
    "file = uproot.open(\n",
    "    \"./uproot-tutorial-file.root\"\n",
    ")\n",
    "file.classnames()"
   ]
  },
  {
   "cell_type": "markdown",
   "metadata": {},
   "source": [
    "The `uproot.open` function provides a handle to the ROOT file, but does not actually read any data into memory at this stage. Instead, it allows you to explore the file structure and access its contents on demand. This approach is efficient because it avoids loading large datasets until you specifically request them. For example, after opening the file, you can inspect the available objects (such as TTrees or histograms) and only read the branches or entries you need for your analysis. This lazy-loading behavior is especially useful when working with large high-energy physics datasets.\n",
    "\n",
    "Now that we have a hande on the ROOT file we want to use, let's use that to now get a handle on the \"Events\" TTree."
   ]
  },
  {
   "cell_type": "code",
   "execution_count": 38,
   "metadata": {},
   "outputs": [
    {
     "data": {
      "text/plain": [
       "<TTree 'Events' (6 branches) at 0x000131f9d6d0>"
      ]
     },
     "execution_count": 38,
     "metadata": {},
     "output_type": "execute_result"
    }
   ],
   "source": [
    "tree = file[\"Events\"]\n",
    "tree"
   ]
  },
  {
   "cell_type": "markdown",
   "metadata": {},
   "source": [
    "Keep in mind that we still have not read any data. Before doing that, its important that we see what is inside the TTree using the `show` method we learned about in the last chapter."
   ]
  },
  {
   "cell_type": "code",
   "execution_count": 39,
   "metadata": {},
   "outputs": [
    {
     "name": "stdout",
     "output_type": "stream",
     "text": [
      "name                 | typename                 | interpretation                \n",
      "---------------------+--------------------------+-------------------------------\n",
      "nMuon                | uint32_t                 | AsDtype('>u4')\n",
      "Muon_pt              | float[]                  | AsJagged(AsDtype('>f4'))\n",
      "Muon_eta             | float[]                  | AsJagged(AsDtype('>f4'))\n",
      "Muon_phi             | float[]                  | AsJagged(AsDtype('>f4'))\n",
      "Muon_mass            | float[]                  | AsJagged(AsDtype('>f4'))\n",
      "Muon_charge          | int32_t[]                | AsJagged(AsDtype('>i4'))\n"
     ]
    }
   ],
   "source": [
    "tree.show()"
   ]
  },
  {
   "cell_type": "markdown",
   "metadata": {},
   "source": [
    "We can see that it contains some physics observables. Getting some understanding of this data is important for the next steps we will be taking, so lets go through each observable:\n",
    "  \n",
    "  - `nMuon`: The number of muons in the event\n",
    "  - `Muon_pt`: The $p_T$ of each of those muons\n",
    "  - `Muon_eta`: The $\\eta$ coordinate of each muon\n",
    "  - `Muon_phi`: The $\\phi$ coordinate of each muon\n",
    "  - `Muon_mass`: The mass of each muon\n",
    "  - `Muon_charge`: The charge of each muon\n",
    "\n",
    "Here, `Muon_phi` and `Muon_eta` refers to the corresponding spacial coordinates used in the CMS coordinate system. The following figure illustrates these coordinates in the CMS experiemnt.\n",
    "\n",
    "```{figure} ./assets/axis3D_CMS.png\n",
    "---\n",
    "height: 350px\n",
    "name: CMSaxis\n",
    "---\n",
    "Coordinate system in CMS\n",
    "```\n",
    "\n",
    "With this in mind, lets go ahead and finally load some data. We can do this by specifying the TBranch we want through the dict-like interphase of `tree` and then using the `array` or `arrays` method that are provided. For now, however, lets only load some of the data."
   ]
  },
  {
   "cell_type": "code",
   "execution_count": 40,
   "metadata": {},
   "outputs": [
    {
     "data": {
      "text/html": [
       "<pre>[2,\n",
       " 2,\n",
       " 1,\n",
       " 4,\n",
       " 4,\n",
       " 3,\n",
       " 2,\n",
       " 2,\n",
       " 2,\n",
       " 2,\n",
       " ...,\n",
       " 3,\n",
       " 2,\n",
       " 2,\n",
       " 3,\n",
       " 4,\n",
       " 1,\n",
       " 2,\n",
       " 0,\n",
       " 2]\n",
       "------------------\n",
       "backend: cpu\n",
       "nbytes: 400 B\n",
       "type: 100 * uint32</pre>"
      ],
      "text/plain": [
       "<Array [2, 2, 1, 4, 4, 3, 2, 2, ..., 2, 3, 4, 1, 2, 0, 2] type='100 * uint32'>"
      ]
     },
     "execution_count": 40,
     "metadata": {},
     "output_type": "execute_result"
    }
   ],
   "source": [
    "# Only loading 100 events\n",
    "tree[\"nMuon\"].array(entry_start=0, entry_stop=100)"
   ]
  },
  {
   "cell_type": "code",
   "execution_count": 41,
   "metadata": {},
   "outputs": [
    {
     "data": {
      "text/html": [
       "<pre>[{nMuon: 2},\n",
       " {nMuon: 2},\n",
       " {nMuon: 1},\n",
       " {nMuon: 4},\n",
       " {nMuon: 4},\n",
       " {nMuon: 3},\n",
       " {nMuon: 2},\n",
       " {nMuon: 2},\n",
       " {nMuon: 2},\n",
       " {nMuon: 2},\n",
       " ...,\n",
       " {nMuon: 3},\n",
       " {nMuon: 2},\n",
       " {nMuon: 1},\n",
       " {nMuon: 0},\n",
       " {nMuon: 3},\n",
       " {nMuon: 2},\n",
       " {nMuon: 3},\n",
       " {nMuon: 2},\n",
       " {nMuon: 3}]\n",
       "------------------------------------\n",
       "backend: cpu\n",
       "nbytes: 400.0 kB\n",
       "type: 100000 * {\n",
       "    nMuon: uint32\n",
       "}</pre>"
      ],
      "text/plain": [
       "<Array [{nMuon: 2}, {...}, ..., {nMuon: 3}] type='100000 * {nMuon: uint32}'>"
      ]
     },
     "execution_count": 41,
     "metadata": {},
     "output_type": "execute_result"
    }
   ],
   "source": [
    "# Alternative: (Not neccessarily the preferred way if you're only interested in loading a single branch)\n",
    "tree[\"nMuon\"].arrays()"
   ]
  },
  {
   "cell_type": "markdown",
   "metadata": {},
   "source": [
    "If we wanted to load more than a single branch, we could use the `arrays` method."
   ]
  },
  {
   "cell_type": "code",
   "execution_count": 42,
   "metadata": {},
   "outputs": [],
   "source": [
    "event_data = tree.arrays([\"nMuon\", \"Muon_pt\"], entry_stop=100)"
   ]
  },
  {
   "cell_type": "code",
   "execution_count": 43,
   "metadata": {},
   "outputs": [
    {
     "name": "stdout",
     "output_type": "stream",
     "text": [
      "<class 'awkward.highlevel.Array'>\n",
      "<class 'awkward.highlevel.Record'>\n"
     ]
    }
   ],
   "source": [
    "print(type(event_data))\n",
    "print(type(event_data[0]))"
   ]
  },
  {
   "cell_type": "markdown",
   "metadata": {},
   "source": [
    "Note that what we obtain is rather special and it sort of looks like dictionaries inside an array. The object we are working with is actually an Awkward array, the Awkward library's equivalent of a NumPy array, which contains Awkard records, the equivalent to a dictionary. This might seem trivial, but this data structure is actually quite powerful. For instance, suppose you want to only get the `Muon_pt` of this loaded data. To do that, you pass a key value in between brakets to the Awkward array, and you will get in return an Awkward array containing the value for that key for every record/event in that array."
   ]
  },
  {
   "cell_type": "code",
   "execution_count": 44,
   "metadata": {},
   "outputs": [
    {
     "data": {
      "text/html": [
       "<pre>[[10.8, 15.7],\n",
       " [10.5, 16.3],\n",
       " [3.28],\n",
       " [11.4, 17.6, 9.62, 3.5],\n",
       " [3.28, 3.64, 32.9, 23.7],\n",
       " [3.57, 4.57, 4.37],\n",
       " [57.6, 53],\n",
       " [11.3, 23.9],\n",
       " [10.2, 14.2],\n",
       " [11.5, 3.47],\n",
       " ...,\n",
       " [6.24, 14.4, 6.71],\n",
       " [14.9, 9.29],\n",
       " [32.3, 8.69],\n",
       " [22.2, 8.6, 6.3],\n",
       " [22.6, 11, 3.21, 3.96],\n",
       " [16.2],\n",
       " [22.4, 11.6],\n",
       " [],\n",
       " [24.1, 13.1]]\n",
       "--------------------------\n",
       "backend: cpu\n",
       "nbytes: 1.7 kB\n",
       "type: 100 * var * float32</pre>"
      ],
      "text/plain": [
       "<Array [[10.8, 15.7], [...], ..., [], [24.1, 13.1]] type='100 * var * float32'>"
      ]
     },
     "execution_count": 44,
     "metadata": {},
     "output_type": "execute_result"
    }
   ],
   "source": [
    "event_data[\"Muon_pt\"]"
   ]
  },
  {
   "cell_type": "markdown",
   "metadata": {},
   "source": [
    "Note that we are now dealing with a jagged array. We can work with it similarly to how we work with NumPy arrays.*"
   ]
  },
  {
   "cell_type": "code",
   "execution_count": 45,
   "metadata": {},
   "outputs": [
    {
     "data": {
      "text/html": [
       "<pre>[[10.8, 15.7],\n",
       " [10.5, 16.3],\n",
       " [3.28],\n",
       " [11.4, 17.6, 9.62, 3.5],\n",
       " [3.28, 3.64, 32.9, 23.7],\n",
       " [3.57, 4.57, 4.37],\n",
       " [57.6, 53],\n",
       " [11.3, 23.9],\n",
       " [10.2, 14.2],\n",
       " [11.5, 3.47]]\n",
       "--------------------------\n",
       "backend: cpu\n",
       "nbytes: 992 B\n",
       "type: 10 * var * float32</pre>"
      ],
      "text/plain": [
       "<Array [[10.8, 15.7], [10.5, ...], ..., [11.5, 3.47]] type='10 * var * float32'>"
      ]
     },
     "execution_count": 45,
     "metadata": {},
     "output_type": "execute_result"
    }
   ],
   "source": [
    "event_data[\"Muon_pt\"][0:10]"
   ]
  },
  {
   "cell_type": "code",
   "execution_count": 46,
   "metadata": {},
   "outputs": [
    {
     "data": {
      "text/html": [
       "<pre>[10.8,\n",
       " 10.5,\n",
       " 3.28,\n",
       " 11.4,\n",
       " 3.28,\n",
       " 3.57,\n",
       " 57.6,\n",
       " 11.3,\n",
       " 10.2,\n",
       " 11.5]\n",
       "------------------\n",
       "backend: cpu\n",
       "nbytes: 40 B\n",
       "type: 10 * float32</pre>"
      ],
      "text/plain": [
       "<Array [10.8, 10.5, 3.28, 11.4, ..., 11.3, 10.2, 11.5] type='10 * float32'>"
      ]
     },
     "execution_count": 46,
     "metadata": {},
     "output_type": "execute_result"
    }
   ],
   "source": [
    "# Note: Only possible if there is at least one Muon in each event. Try with `event_data[\"nMuon\"][:, 0]` to see what happens if we include events with no Muons.\n",
    "event_data[\"Muon_pt\"][0:10, 0] "
   ]
  },
  {
   "cell_type": "markdown",
   "metadata": {},
   "source": [
    "**Exercise**: Print out the $p_T$ and charge of the muons from events 100 to 115. There are two main ways to do this. Can you figure out what they are? Which method is faster? (Hint: Use the `%%timeit` magic)"
   ]
  },
  {
   "cell_type": "markdown",
   "metadata": {},
   "source": [
    "Before moving on to exploring the data, its important to keep something in mind: because the data we typically deal with is quite large, unless neccesary, its good practice to specify the particular TBranches you want instead of doing something like `tree.arrays()` as this will load in everything, including things you might not be interested in. We already saw one way of loading specific branches, namely:"
   ]
  },
  {
   "cell_type": "code",
   "execution_count": 47,
   "metadata": {},
   "outputs": [
    {
     "data": {
      "text/html": [
       "<pre>[{nMuon: 2, Muon_pt: [10.8, 15.7]},\n",
       " {nMuon: 2, Muon_pt: [10.5, 16.3]},\n",
       " {nMuon: 1, Muon_pt: [3.28]},\n",
       " {nMuon: 4, Muon_pt: [11.4, 17.6, ..., 3.5]},\n",
       " {nMuon: 4, Muon_pt: [3.28, 3.64, ..., 23.7]},\n",
       " {nMuon: 3, Muon_pt: [3.57, 4.57, 4.37]},\n",
       " {nMuon: 2, Muon_pt: [57.6, 53]},\n",
       " {nMuon: 2, Muon_pt: [11.3, 23.9]},\n",
       " {nMuon: 2, Muon_pt: [10.2, 14.2]},\n",
       " {nMuon: 2, Muon_pt: [11.5, 3.47]},\n",
       " ...,\n",
       " {nMuon: 3, Muon_pt: [6.24, 14.4, 6.71]},\n",
       " {nMuon: 2, Muon_pt: [14.9, 9.29]},\n",
       " {nMuon: 2, Muon_pt: [32.3, 8.69]},\n",
       " {nMuon: 3, Muon_pt: [22.2, 8.6, 6.3]},\n",
       " {nMuon: 4, Muon_pt: [22.6, 11, ..., 3.96]},\n",
       " {nMuon: 1, Muon_pt: [16.2]},\n",
       " {nMuon: 2, Muon_pt: [22.4, 11.6]},\n",
       " {nMuon: 0, Muon_pt: []},\n",
       " {nMuon: 2, Muon_pt: [24.1, 13.1]}]\n",
       "-------------------------------------------------------------\n",
       "backend: cpu\n",
       "nbytes: 2.1 kB\n",
       "type: 100 * {\n",
       "    nMuon: uint32,\n",
       "    Muon_pt: var * float32\n",
       "}</pre>"
      ],
      "text/plain": [
       "<Array [{nMuon: 2, Muon_pt: [...]}, ..., {...}] type='100 * {nMuon: uint32,...'>"
      ]
     },
     "execution_count": 47,
     "metadata": {},
     "output_type": "execute_result"
    }
   ],
   "source": [
    "tree.arrays([\"nMuon\", \"Muon_pt\"], entry_stop=100)"
   ]
  },
  {
   "cell_type": "markdown",
   "metadata": {},
   "source": [
    "Another way would be:"
   ]
  },
  {
   "cell_type": "code",
   "execution_count": 48,
   "metadata": {},
   "outputs": [
    {
     "data": {
      "text/html": [
       "<pre>[{nMuon: 2, Muon_pt: [10.8, 15.7]},\n",
       " {nMuon: 2, Muon_pt: [10.5, 16.3]},\n",
       " {nMuon: 1, Muon_pt: [3.28]},\n",
       " {nMuon: 4, Muon_pt: [11.4, 17.6, ..., 3.5]},\n",
       " {nMuon: 4, Muon_pt: [3.28, 3.64, ..., 23.7]},\n",
       " {nMuon: 3, Muon_pt: [3.57, 4.57, 4.37]},\n",
       " {nMuon: 2, Muon_pt: [57.6, 53]},\n",
       " {nMuon: 2, Muon_pt: [11.3, 23.9]},\n",
       " {nMuon: 2, Muon_pt: [10.2, 14.2]},\n",
       " {nMuon: 2, Muon_pt: [11.5, 3.47]},\n",
       " ...,\n",
       " {nMuon: 3, Muon_pt: [6.24, 14.4, 6.71]},\n",
       " {nMuon: 2, Muon_pt: [14.9, 9.29]},\n",
       " {nMuon: 2, Muon_pt: [32.3, 8.69]},\n",
       " {nMuon: 3, Muon_pt: [22.2, 8.6, 6.3]},\n",
       " {nMuon: 4, Muon_pt: [22.6, 11, ..., 3.96]},\n",
       " {nMuon: 1, Muon_pt: [16.2]},\n",
       " {nMuon: 2, Muon_pt: [22.4, 11.6]},\n",
       " {nMuon: 0, Muon_pt: []},\n",
       " {nMuon: 2, Muon_pt: [24.1, 13.1]}]\n",
       "-------------------------------------------------------------\n",
       "backend: cpu\n",
       "nbytes: 2.1 kB\n",
       "type: 100 * {\n",
       "    nMuon: uint32,\n",
       "    Muon_pt: var * float32\n",
       "}</pre>"
      ],
      "text/plain": [
       "<Array [{nMuon: 2, Muon_pt: [...]}, ..., {...}] type='100 * {nMuon: uint32,...'>"
      ]
     },
     "execution_count": 48,
     "metadata": {},
     "output_type": "execute_result"
    }
   ],
   "source": [
    "tree.arrays(filter_name=[\"nMuon\", \"Muon_pt\"], entry_stop=100)"
   ]
  },
  {
   "cell_type": "markdown",
   "metadata": {},
   "source": [
    "Note that we can also use wildcards in the TBranch filter."
   ]
  },
  {
   "cell_type": "code",
   "execution_count": 49,
   "metadata": {},
   "outputs": [
    {
     "data": {
      "text/html": [
       "<pre>[{Muon_pt: [10.8, 15.7], Muon_eta: [1.07, -0.564], Muon_phi: [...], ...},\n",
       " {Muon_pt: [10.5, 16.3], Muon_eta: [-0.428, ...], Muon_phi: [...], ...},\n",
       " {Muon_pt: [3.28], Muon_eta: [2.21], Muon_phi: [-1.22], Muon_mass: ..., ...},\n",
       " {Muon_pt: [11.4, 17.6, 9.62, 3.5], Muon_eta: [-1.59, ...], Muon_phi: ..., ...},\n",
       " {Muon_pt: [3.28, 3.64, 32.9, 23.7], Muon_eta: [-2.17, ...], ...},\n",
       " {Muon_pt: [3.57, 4.57, 4.37], Muon_eta: [-1.37, ...], Muon_phi: [...], ...},\n",
       " {Muon_pt: [57.6, 53], Muon_eta: [-0.532, -1], Muon_phi: [...], ...},\n",
       " {Muon_pt: [11.3, 23.9], Muon_eta: [-0.772, ...], Muon_phi: [...], ...},\n",
       " {Muon_pt: [10.2, 14.2], Muon_eta: [0.442, 0.702], Muon_phi: [...], ...},\n",
       " {Muon_pt: [11.5, 3.47], Muon_eta: [2.34, 2.35], Muon_phi: [...], ...},\n",
       " ...,\n",
       " {Muon_pt: [6.24, 14.4, 6.71], Muon_eta: [-1.18, ...], Muon_phi: [...], ...},\n",
       " {Muon_pt: [14.9, 9.29], Muon_eta: [-0.861, ...], Muon_phi: [...], ...},\n",
       " {Muon_pt: [32.3, 8.69], Muon_eta: [0.148, 0.173], Muon_phi: [...], ...},\n",
       " {Muon_pt: [22.2, 8.6, 6.3], Muon_eta: [-0.291, ...], Muon_phi: [...], ...},\n",
       " {Muon_pt: [22.6, 11, 3.21, 3.96], Muon_eta: [-1.6, ...], Muon_phi: [...], ...},\n",
       " {Muon_pt: [16.2], Muon_eta: [0.167], Muon_phi: [3.02], Muon_mass: ..., ...},\n",
       " {Muon_pt: [22.4, 11.6], Muon_eta: [0.907, 1.02], Muon_phi: [...], ...},\n",
       " {Muon_pt: [], Muon_eta: [], Muon_phi: [], Muon_mass: [], ...},\n",
       " {Muon_pt: [24.1, 13.1], Muon_eta: [-0.0221, ...], Muon_phi: [...], ...}]\n",
       "----------------------------------------------------------------------------------------------------------------------------------------------------------------\n",
       "backend: cpu\n",
       "nbytes: 8.6 kB\n",
       "type: 100 * {\n",
       "    Muon_pt: var * float32,\n",
       "    Muon_eta: var * float32,\n",
       "    Muon_phi: var * float32,\n",
       "    Muon_mass: var * float32,\n",
       "    Muon_charge: var * int32\n",
       "}</pre>"
      ],
      "text/plain": [
       "<Array [{Muon_pt: [...], ...}, ..., {...}] type='100 * {Muon_pt: var * floa...'>"
      ]
     },
     "execution_count": 49,
     "metadata": {},
     "output_type": "execute_result"
    }
   ],
   "source": [
    "tree.arrays(filter_name=\"Muon_*\", entry_stop=100)"
   ]
  },
  {
   "cell_type": "markdown",
   "metadata": {},
   "source": [
    "If your TTree has a lot of branches, and `show` is impractical, you can also use `tree.keys`, which also accepts `filter_name` with wildcards. Then you can also verify the data type contained in each column by doing `tree.typenames()`"
   ]
  },
  {
   "cell_type": "code",
   "execution_count": 50,
   "metadata": {},
   "outputs": [
    {
     "data": {
      "text/plain": [
       "['nMuon', 'Muon_pt', 'Muon_eta', 'Muon_phi', 'Muon_mass', 'Muon_charge']"
      ]
     },
     "execution_count": 50,
     "metadata": {},
     "output_type": "execute_result"
    }
   ],
   "source": [
    "# Note: No filtering. But that's okay, because we're not reading data here.\n",
    "tree.keys()"
   ]
  },
  {
   "cell_type": "code",
   "execution_count": 51,
   "metadata": {},
   "outputs": [
    {
     "data": {
      "text/plain": [
       "{'nMuon': 'uint32_t',\n",
       " 'Muon_pt': 'float[]',\n",
       " 'Muon_eta': 'float[]',\n",
       " 'Muon_phi': 'float[]',\n",
       " 'Muon_mass': 'float[]',\n",
       " 'Muon_charge': 'int32_t[]'}"
      ]
     },
     "execution_count": 51,
     "metadata": {},
     "output_type": "execute_result"
    }
   ],
   "source": [
    "tree.typenames()"
   ]
  },
  {
   "cell_type": "markdown",
   "metadata": {},
   "source": [
    "Just like the `arrays` method, methods accept a `filter_name` argument."
   ]
  },
  {
   "cell_type": "code",
   "execution_count": 52,
   "metadata": {},
   "outputs": [
    {
     "data": {
      "text/plain": [
       "['Muon_pt', 'Muon_eta', 'Muon_phi', 'Muon_mass', 'Muon_charge']"
      ]
     },
     "execution_count": 52,
     "metadata": {},
     "output_type": "execute_result"
    }
   ],
   "source": [
    "tree.keys(filter_name=\"Muon_*\")"
   ]
  },
  {
   "cell_type": "code",
   "execution_count": 53,
   "metadata": {},
   "outputs": [
    {
     "data": {
      "text/plain": [
       "{'nMuon': 'uint32_t',\n",
       " 'Muon_pt': 'float[]',\n",
       " 'Muon_eta': 'float[]',\n",
       " 'Muon_phi': 'float[]',\n",
       " 'Muon_mass': 'float[]',\n",
       " 'Muon_charge': 'int32_t[]'}"
      ]
     },
     "execution_count": 53,
     "metadata": {},
     "output_type": "execute_result"
    }
   ],
   "source": [
    "tree.typenames()"
   ]
  },
  {
   "cell_type": "markdown",
   "metadata": {},
   "source": [
    "As a last point, for pedagogical purposes, we can also load the data in the form of a Pandas DataFrame, which will highlight the tabular nature of the data. Note, however, that doing this is not usual, and it is usually preferrable to use Awkward Arrays to handle your data."
   ]
  },
  {
   "cell_type": "code",
   "execution_count": 54,
   "metadata": {},
   "outputs": [
    {
     "data": {
      "text/html": [
       "<div>\n",
       "<style scoped>\n",
       "    .dataframe tbody tr th:only-of-type {\n",
       "        vertical-align: middle;\n",
       "    }\n",
       "\n",
       "    .dataframe tbody tr th {\n",
       "        vertical-align: top;\n",
       "    }\n",
       "\n",
       "    .dataframe thead th {\n",
       "        text-align: right;\n",
       "    }\n",
       "</style>\n",
       "<table border=\"1\" class=\"dataframe\">\n",
       "  <thead>\n",
       "    <tr style=\"text-align: right;\">\n",
       "      <th></th>\n",
       "      <th>nMuon</th>\n",
       "      <th>Muon_pt</th>\n",
       "      <th>Muon_eta</th>\n",
       "      <th>Muon_phi</th>\n",
       "      <th>Muon_mass</th>\n",
       "      <th>Muon_charge</th>\n",
       "    </tr>\n",
       "  </thead>\n",
       "  <tbody>\n",
       "    <tr>\n",
       "      <th>0</th>\n",
       "      <td>2</td>\n",
       "      <td>[10.763696670532227, 15.736522674560547]</td>\n",
       "      <td>[1.0668272972106934, -0.563786506652832]</td>\n",
       "      <td>[-0.03427272289991379, 2.5426154136657715]</td>\n",
       "      <td>[0.10565836727619171, 0.10565836727619171]</td>\n",
       "      <td>[-1, -1]</td>\n",
       "    </tr>\n",
       "    <tr>\n",
       "      <th>1</th>\n",
       "      <td>2</td>\n",
       "      <td>[10.538490295410156, 16.327096939086914]</td>\n",
       "      <td>[-0.42778006196022034, 0.34922507405281067]</td>\n",
       "      <td>[-0.2747921049594879, 2.539781332015991]</td>\n",
       "      <td>[0.10565836727619171, 0.10565836727619171]</td>\n",
       "      <td>[1, -1]</td>\n",
       "    </tr>\n",
       "    <tr>\n",
       "      <th>2</th>\n",
       "      <td>1</td>\n",
       "      <td>[3.2753264904022217]</td>\n",
       "      <td>[2.210855484008789]</td>\n",
       "      <td>[-1.2234135866165161]</td>\n",
       "      <td>[0.10565836727619171]</td>\n",
       "      <td>[1]</td>\n",
       "    </tr>\n",
       "    <tr>\n",
       "      <th>3</th>\n",
       "      <td>4</td>\n",
       "      <td>[11.429154396057129, 17.634033203125, 9.624728...</td>\n",
       "      <td>[-1.5882395505905151, -1.7511844635009766, -1....</td>\n",
       "      <td>[-2.0773041248321533, 0.25135836005210876, -2....</td>\n",
       "      <td>[0.10565836727619171, 0.10565836727619171, 0.1...</td>\n",
       "      <td>[1, 1, 1, 1]</td>\n",
       "    </tr>\n",
       "    <tr>\n",
       "      <th>4</th>\n",
       "      <td>4</td>\n",
       "      <td>[3.2834417819976807, 3.64400577545166, 32.9112...</td>\n",
       "      <td>[-2.1724836826324463, -2.18253493309021, -1.12...</td>\n",
       "      <td>[-2.3700082302093506, -2.3051390647888184, -0....</td>\n",
       "      <td>[0.10565836727619171, 0.10565836727619171, 0.1...</td>\n",
       "      <td>[-1, -1, 1, 1]</td>\n",
       "    </tr>\n",
       "    <tr>\n",
       "      <th>5</th>\n",
       "      <td>3</td>\n",
       "      <td>[3.566528081893921, 4.572504043579102, 4.37186...</td>\n",
       "      <td>[-1.371932029724121, -0.703264594078064, -1.03...</td>\n",
       "      <td>[-2.9090449810028076, 2.4552080631256104, -3.0...</td>\n",
       "      <td>[0.10565836727619171, 0.10565836727619171, 0.1...</td>\n",
       "      <td>[-1, 1, -1]</td>\n",
       "    </tr>\n",
       "    <tr>\n",
       "      <th>6</th>\n",
       "      <td>2</td>\n",
       "      <td>[57.6067008972168, 53.04507827758789]</td>\n",
       "      <td>[-0.5320892930030823, -1.0041686296463013]</td>\n",
       "      <td>[-0.07179804146289825, 3.089515209197998]</td>\n",
       "      <td>[0.10565836727619171, 0.10565836727619171]</td>\n",
       "      <td>[-1, 1]</td>\n",
       "    </tr>\n",
       "    <tr>\n",
       "      <th>7</th>\n",
       "      <td>2</td>\n",
       "      <td>[11.31967544555664, 23.906352996826172]</td>\n",
       "      <td>[-0.7716585397720337, -0.700996994972229]</td>\n",
       "      <td>[-2.2452728748321533, -2.1809616088867188]</td>\n",
       "      <td>[0.10565836727619171, 0.10565836727619171]</td>\n",
       "      <td>[1, -1]</td>\n",
       "    </tr>\n",
       "    <tr>\n",
       "      <th>8</th>\n",
       "      <td>2</td>\n",
       "      <td>[10.19356918334961, 14.204060554504395]</td>\n",
       "      <td>[0.4418068528175354, 0.7021172642707825]</td>\n",
       "      <td>[0.6778520345687866, -2.0344009399414062]</td>\n",
       "      <td>[0.10565836727619171, 0.10565836727619171]</td>\n",
       "      <td>[-1, 1]</td>\n",
       "    </tr>\n",
       "    <tr>\n",
       "      <th>9</th>\n",
       "      <td>2</td>\n",
       "      <td>[11.470704078674316, 3.4690065383911133]</td>\n",
       "      <td>[2.3417420387268066, 2.3523731231689453]</td>\n",
       "      <td>[3.1309704780578613, 3.0211737155914307]</td>\n",
       "      <td>[0.10565836727619171, 0.10565836727619171]</td>\n",
       "      <td>[-1, 1]</td>\n",
       "    </tr>\n",
       "  </tbody>\n",
       "</table>\n",
       "</div>"
      ],
      "text/plain": [
       "   nMuon                                            Muon_pt  \\\n",
       "0      2           [10.763696670532227, 15.736522674560547]   \n",
       "1      2           [10.538490295410156, 16.327096939086914]   \n",
       "2      1                               [3.2753264904022217]   \n",
       "3      4  [11.429154396057129, 17.634033203125, 9.624728...   \n",
       "4      4  [3.2834417819976807, 3.64400577545166, 32.9112...   \n",
       "5      3  [3.566528081893921, 4.572504043579102, 4.37186...   \n",
       "6      2              [57.6067008972168, 53.04507827758789]   \n",
       "7      2            [11.31967544555664, 23.906352996826172]   \n",
       "8      2            [10.19356918334961, 14.204060554504395]   \n",
       "9      2           [11.470704078674316, 3.4690065383911133]   \n",
       "\n",
       "                                            Muon_eta  \\\n",
       "0           [1.0668272972106934, -0.563786506652832]   \n",
       "1        [-0.42778006196022034, 0.34922507405281067]   \n",
       "2                                [2.210855484008789]   \n",
       "3  [-1.5882395505905151, -1.7511844635009766, -1....   \n",
       "4  [-2.1724836826324463, -2.18253493309021, -1.12...   \n",
       "5  [-1.371932029724121, -0.703264594078064, -1.03...   \n",
       "6         [-0.5320892930030823, -1.0041686296463013]   \n",
       "7          [-0.7716585397720337, -0.700996994972229]   \n",
       "8           [0.4418068528175354, 0.7021172642707825]   \n",
       "9           [2.3417420387268066, 2.3523731231689453]   \n",
       "\n",
       "                                            Muon_phi  \\\n",
       "0         [-0.03427272289991379, 2.5426154136657715]   \n",
       "1           [-0.2747921049594879, 2.539781332015991]   \n",
       "2                              [-1.2234135866165161]   \n",
       "3  [-2.0773041248321533, 0.25135836005210876, -2....   \n",
       "4  [-2.3700082302093506, -2.3051390647888184, -0....   \n",
       "5  [-2.9090449810028076, 2.4552080631256104, -3.0...   \n",
       "6          [-0.07179804146289825, 3.089515209197998]   \n",
       "7         [-2.2452728748321533, -2.1809616088867188]   \n",
       "8          [0.6778520345687866, -2.0344009399414062]   \n",
       "9           [3.1309704780578613, 3.0211737155914307]   \n",
       "\n",
       "                                           Muon_mass     Muon_charge  \n",
       "0         [0.10565836727619171, 0.10565836727619171]        [-1, -1]  \n",
       "1         [0.10565836727619171, 0.10565836727619171]         [1, -1]  \n",
       "2                              [0.10565836727619171]             [1]  \n",
       "3  [0.10565836727619171, 0.10565836727619171, 0.1...    [1, 1, 1, 1]  \n",
       "4  [0.10565836727619171, 0.10565836727619171, 0.1...  [-1, -1, 1, 1]  \n",
       "5  [0.10565836727619171, 0.10565836727619171, 0.1...     [-1, 1, -1]  \n",
       "6         [0.10565836727619171, 0.10565836727619171]         [-1, 1]  \n",
       "7         [0.10565836727619171, 0.10565836727619171]         [1, -1]  \n",
       "8         [0.10565836727619171, 0.10565836727619171]         [-1, 1]  \n",
       "9         [0.10565836727619171, 0.10565836727619171]         [-1, 1]  "
      ]
     },
     "execution_count": 54,
     "metadata": {},
     "output_type": "execute_result"
    }
   ],
   "source": [
    "import pandas as pd\n",
    "\n",
    "tree.arrays(library=\"pd\", entry_stop=10)"
   ]
  },
  {
   "cell_type": "markdown",
   "metadata": {},
   "source": [
    "## Reconstructing the mass\n",
    "\n",
    "Now that we know what the branches look like and what is the data type each one contains, let's explore the data and try to do something useful with it. Note that the data contains physical observables for muons in each collision event. What would happen if we add the mass of two muons in an event? Let's find out! First, lets load a sub-set of the events contained in the sample."
   ]
  },
  {
   "cell_type": "code",
   "execution_count": 55,
   "metadata": {},
   "outputs": [
    {
     "data": {
      "text/html": [
       "<pre>[{nMuon: 2, Muon_pt: [10.8, 15.7], Muon_eta: [1.07, ...], Muon_phi: [...], ...},\n",
       " {nMuon: 2, Muon_pt: [10.5, 16.3], Muon_eta: [-0.428, ...], Muon_phi: ..., ...},\n",
       " {nMuon: 1, Muon_pt: [3.28], Muon_eta: [2.21], Muon_phi: [-1.22], ...},\n",
       " {nMuon: 4, Muon_pt: [11.4, 17.6, ..., 3.5], Muon_eta: [...], ...},\n",
       " {nMuon: 4, Muon_pt: [3.28, 3.64, ..., 23.7], Muon_eta: [...], ...},\n",
       " {nMuon: 3, Muon_pt: [3.57, 4.57, 4.37], Muon_eta: [...], Muon_phi: [...], ...},\n",
       " {nMuon: 2, Muon_pt: [57.6, 53], Muon_eta: [-0.532, ...], Muon_phi: [...], ...},\n",
       " {nMuon: 2, Muon_pt: [11.3, 23.9], Muon_eta: [-0.772, ...], Muon_phi: ..., ...},\n",
       " {nMuon: 2, Muon_pt: [10.2, 14.2], Muon_eta: [0.442, ...], Muon_phi: ..., ...},\n",
       " {nMuon: 2, Muon_pt: [11.5, 3.47], Muon_eta: [2.34, ...], Muon_phi: [...], ...},\n",
       " ...,\n",
       " {nMuon: 2, Muon_pt: [26.3, 14.5], Muon_eta: [-0.0269, ...], ...},\n",
       " {nMuon: 1, Muon_pt: [26.4], Muon_eta: [1.69], Muon_phi: [-0.706], ...},\n",
       " {nMuon: 3, Muon_pt: [8.54, 13.5, 3.98], Muon_eta: [2.33, ...], ...},\n",
       " {nMuon: 3, Muon_pt: [11.6, 8.81, 118], Muon_eta: [1.82, ...], ...},\n",
       " {nMuon: 2, Muon_pt: [13, 6.75], Muon_eta: [1.39, ...], Muon_phi: [...], ...},\n",
       " {nMuon: 3, Muon_pt: [15.7, 9.23, 9.23], Muon_eta: [1.36, ...], ...},\n",
       " {nMuon: 2, Muon_pt: [13.7, 9.42], Muon_eta: [1.13, ...], Muon_phi: [...], ...},\n",
       " {nMuon: 2, Muon_pt: [23.7, 33.6], Muon_eta: [1.71, ...], Muon_phi: [...], ...},\n",
       " {nMuon: 2, Muon_pt: [28.9, 9.25], Muon_eta: [-0.189, ...], Muon_phi: ..., ...}]\n",
       "------------------------------------------------------------------------------------------------------------------------------------------------------------------------------------\n",
       "backend: cpu\n",
       "nbytes: 138.1 kB\n",
       "type: 1500 * {\n",
       "    nMuon: uint32,\n",
       "    Muon_pt: var * float32,\n",
       "    Muon_eta: var * float32,\n",
       "    Muon_phi: var * float32,\n",
       "    Muon_mass: var * float32,\n",
       "    Muon_charge: var * int32\n",
       "}</pre>"
      ],
      "text/plain": [
       "<Array [{nMuon: 2, Muon_pt: [...], ...}, ...] type='1500 * {nMuon: uint32, ...'>"
      ]
     },
     "execution_count": 55,
     "metadata": {},
     "output_type": "execute_result"
    }
   ],
   "source": [
    "# Loading in some data from all branches\n",
    "muons = tree.arrays(entry_stop=1500)\n",
    "muons"
   ]
  },
  {
   "cell_type": "markdown",
   "metadata": {},
   "source": [
    "Just for simplicity, let's ensure there are two muons in each event. Later on, we will do something more sophisticated. To do this, we can create a filer or mask similarly to how we created masks for NumPy arrays. What we want is for mask to be `True` when an event has exactly 2 events, and `False` otherwise. Fortunately, we have the field `nMuon` which immediately provides us with the information we need to construct this mask as follows."
   ]
  },
  {
   "cell_type": "code",
   "execution_count": 56,
   "metadata": {},
   "outputs": [
    {
     "data": {
      "text/html": [
       "<pre>[True,\n",
       " True,\n",
       " False,\n",
       " False,\n",
       " False,\n",
       " False,\n",
       " True,\n",
       " True,\n",
       " True,\n",
       " True,\n",
       " ...,\n",
       " True,\n",
       " False,\n",
       " False,\n",
       " False,\n",
       " True,\n",
       " False,\n",
       " True,\n",
       " True,\n",
       " True]\n",
       "-----------------\n",
       "backend: cpu\n",
       "nbytes: 1.5 kB\n",
       "type: 1500 * bool</pre>"
      ],
      "text/plain": [
       "<Array [True, True, False, False, ..., True, True, True] type='1500 * bool'>"
      ]
     },
     "execution_count": 56,
     "metadata": {},
     "output_type": "execute_result"
    }
   ],
   "source": [
    "# If an event has 2 muons, its corresponding element in the mask is True. False otherwise.\n",
    "mask = muons[\"nMuon\"] == 2\n",
    "mask"
   ]
  },
  {
   "cell_type": "markdown",
   "metadata": {},
   "source": [
    "We can now apply this mask the exact same way we applied masks with NumPy array!"
   ]
  },
  {
   "cell_type": "code",
   "execution_count": 57,
   "metadata": {},
   "outputs": [
    {
     "data": {
      "text/html": [
       "<pre>[{nMuon: 2, Muon_pt: [10.8, 15.7], Muon_eta: [1.07, ...], Muon_phi: [...], ...},\n",
       " {nMuon: 2, Muon_pt: [10.5, 16.3], Muon_eta: [-0.428, ...], Muon_phi: ..., ...},\n",
       " {nMuon: 2, Muon_pt: [57.6, 53], Muon_eta: [-0.532, ...], Muon_phi: [...], ...},\n",
       " {nMuon: 2, Muon_pt: [11.3, 23.9], Muon_eta: [-0.772, ...], Muon_phi: ..., ...},\n",
       " {nMuon: 2, Muon_pt: [10.2, 14.2], Muon_eta: [0.442, ...], Muon_phi: ..., ...},\n",
       " {nMuon: 2, Muon_pt: [11.5, 3.47], Muon_eta: [2.34, ...], Muon_phi: [...], ...},\n",
       " {nMuon: 2, Muon_pt: [8.82, 17.6], Muon_eta: [1.65, ...], Muon_phi: [...], ...},\n",
       " {nMuon: 2, Muon_pt: [14.6, 12.3], Muon_eta: [1.26, ...], Muon_phi: [...], ...},\n",
       " {nMuon: 2, Muon_pt: [4.34, 13.1], Muon_eta: [-1.88, ...], Muon_phi: ..., ...},\n",
       " {nMuon: 2, Muon_pt: [15.2, 10.5], Muon_eta: [1.34, ...], Muon_phi: [...], ...},\n",
       " ...,\n",
       " {nMuon: 2, Muon_pt: [14.1, 5.6], Muon_eta: [-1.27, ...], Muon_phi: [...], ...},\n",
       " {nMuon: 2, Muon_pt: [9.91, 18.6], Muon_eta: [1.02, ...], Muon_phi: [...], ...},\n",
       " {nMuon: 2, Muon_pt: [30.5, 11.7], Muon_eta: [0.0693, ...], Muon_phi: ..., ...},\n",
       " {nMuon: 2, Muon_pt: [18.5, 13.9], Muon_eta: [-1.59, ...], Muon_phi: ..., ...},\n",
       " {nMuon: 2, Muon_pt: [26.3, 14.5], Muon_eta: [-0.0269, ...], ...},\n",
       " {nMuon: 2, Muon_pt: [13, 6.75], Muon_eta: [1.39, ...], Muon_phi: [...], ...},\n",
       " {nMuon: 2, Muon_pt: [13.7, 9.42], Muon_eta: [1.13, ...], Muon_phi: [...], ...},\n",
       " {nMuon: 2, Muon_pt: [23.7, 33.6], Muon_eta: [1.71, ...], Muon_phi: [...], ...},\n",
       " {nMuon: 2, Muon_pt: [28.9, 9.25], Muon_eta: [-0.189, ...], Muon_phi: ..., ...}]\n",
       "-----------------------------------------------------------------------------------------------------------------------------------------------------------------------------------\n",
       "backend: cpu\n",
       "nbytes: 144.6 kB\n",
       "type: 812 * {\n",
       "    nMuon: uint32,\n",
       "    Muon_pt: var * float32,\n",
       "    Muon_eta: var * float32,\n",
       "    Muon_phi: var * float32,\n",
       "    Muon_mass: var * float32,\n",
       "    Muon_charge: var * int32\n",
       "}</pre>"
      ],
      "text/plain": [
       "<Array [{nMuon: 2, Muon_pt: [...], ...}, ...] type='812 * {nMuon: uint32, M...'>"
      ]
     },
     "execution_count": 57,
     "metadata": {},
     "output_type": "execute_result"
    }
   ],
   "source": [
    "# Only keeping di-muon events\n",
    "dimuons = muons[mask]\n",
    "dimuons"
   ]
  },
  {
   "cell_type": "markdown",
   "metadata": {},
   "source": [
    "We can make sure that the resulting filtered array only has events with two muons by using the function `ak.all` provided by Awkward. This function takes in an array of booleans (although not neccesary that the elements are booleans), and tells you whether *all* elements are `True`. This would be equivalent to applying the `AND` boolean operator over the whole array."
   ]
  },
  {
   "cell_type": "code",
   "execution_count": 58,
   "metadata": {},
   "outputs": [
    {
     "data": {
      "text/plain": [
       "np.True_"
      ]
     },
     "execution_count": 58,
     "metadata": {},
     "output_type": "execute_result"
    }
   ],
   "source": [
    "import awkward as ak\n",
    "ak.all(dimuons[\"nMuon\"] == 2)"
   ]
  },
  {
   "cell_type": "markdown",
   "metadata": {},
   "source": [
    "Let's now get the observables into their own variables for future convenience."
   ]
  },
  {
   "cell_type": "code",
   "execution_count": 59,
   "metadata": {},
   "outputs": [],
   "source": [
    "# Getting the eta, pt and phi of each of the muons in the dimuon events\n",
    "pt0 = dimuons[\"Muon_pt\"][:,0]\n",
    "pt1 = dimuons[\"Muon_pt\"][:,1]\n",
    "eta0 = dimuons[\"Muon_eta\"][:,0]\n",
    "eta1 = dimuons[\"Muon_eta\"][:,1]\n",
    "phi0 = dimuons[\"Muon_phi\"][:,0]\n",
    "phi1 = dimuons[\"Muon_phi\"][:,1]"
   ]
  },
  {
   "cell_type": "markdown",
   "metadata": {},
   "source": [
    "Let's assume the two muons came from the decay of a particle $A$. We make use of the fact that the square of the total 4-momentum of the system is an invariant quantity to establish that\n",
    "\n",
    "```{math}\n",
    "(p_A)^\\nu (p_A)_\\nu = (p_1+p_2)^\\sigma (p_1+p_2)_\\sigma\n",
    "```\n",
    "\n",
    "where the left side comes from the initial state of the system, in an inertial reference frame where the $A$ is stationary, and the right side corresponds to the final state of the system (i.e., when we have two muons) in the lab reference frame. This reduces to:\n",
    "\n",
    "```{math}\n",
    "m_{A} = \\sqrt{(E_1 + E_2)^2 - \\|\\textbf{p}_1 + \\textbf{p}_2 \\| ^2} = \\sqrt{(E_1+E_2)^2-((p_{1_x}+p_{2_x})^2+(p_{1_y}+p_{2_y})^2+(p_{1_z}+p_{2_z})^2)}|\n",
    "```\n",
    "\n",
    "which, under the assumption that $E \\gg m$ and changing the coordinates this equation is written in, this reduces to:\n",
    "\n",
    "```{math}\n",
    "m_{A} = \\sqrt{\n",
    "    2p_{T,0} p_{T,1} * \\left(\\cosh(\\eta_0 - \\eta_1) - \\cos(\\phi_0- \\phi_1)\\right)\n",
    "}\n",
    "```\n",
    "\n",
    "We can then use this equation to compute the mass of the hypothetical particle these pairs of muons came from. This is easy to do with Awkward arrays!"
   ]
  },
  {
   "cell_type": "code",
   "execution_count": 60,
   "metadata": {},
   "outputs": [
    {
     "data": {
      "text/html": [
       "<pre>[34.4,\n",
       " 27.9,\n",
       " 114,\n",
       " 1.57,\n",
       " 23.7,\n",
       " 0.696,\n",
       " 27.1,\n",
       " 46.2,\n",
       " 1.55,\n",
       " 1.62,\n",
       " ...,\n",
       " 1.24,\n",
       " 27.6,\n",
       " 2.06,\n",
       " 40.8,\n",
       " 40.2,\n",
       " 3.1,\n",
       " 2.51,\n",
       " 91.1,\n",
       " 29]\n",
       "-------------------\n",
       "backend: cpu\n",
       "nbytes: 3.2 kB\n",
       "type: 812 * float32</pre>"
      ],
      "text/plain": [
       "<Array [34.4, 27.9, 114, 1.57, ..., 3.1, 2.51, 91.1, 29] type='812 * float32'>"
      ]
     },
     "execution_count": 60,
     "metadata": {},
     "output_type": "execute_result"
    }
   ],
   "source": [
    "import numpy as np\n",
    "mass = np.sqrt(2 * pt0 * pt1 * (np.cosh(eta0 - eta1) - np.cos(phi0 - phi1)))\n",
    "mass"
   ]
  },
  {
   "cell_type": "markdown",
   "metadata": {},
   "source": [
    "The raw data for the reconstructed mass is difficult to interpret without an effective way to visualize it. One of the most common tools in a high energy physicist's toolkit is the histogram. Histograms display the frequency of data values within specified ranges (bins). This allows us to see the distribution and identify features such as peaks or tails in the data and will make it much easier for us to understand the underlying physics represented by the reconstructed mass values.\n",
    "\n",
    "To make the histogram, we will use the Hist library, one of the many tools offered by Scikit-HEP. This library offers a user-friendly API for the Boost-histogram Python library which offers a highly efficient and flexible histogramming framework. You can find detailed information about this libarry in the documentation, which you can access through this link: [link](https://hist.readthedocs.io/en/latest/user-guide/axes.html).\n",
    "\n",
    "In addition, to easily make our plot look pretty and to follow the conventions used in HEP publications, we will use the `mplhep` library, also from Scikit-HEP. This library provides convenient plotting styles and functions for HEP data, making it straightforward to produce publication-quality figures that match the look and feel of experiments like CMS or ATLAS. By combining `Hist` for efficient histogramming and `mplhep` for styling, we can quickly generate insightful and professional plots of our reconstructed mass distributions. \n",
    "\n",
    "Under the hood, Hist actually uses Matplotlib to render plots, which means we can take advantage of all the customization and flexibility that Matplotlib offers. Thus, we will import Matplotlib as well to get full access to the plotting tools that this library has to offer."
   ]
  },
  {
   "cell_type": "code",
   "execution_count": 61,
   "metadata": {},
   "outputs": [],
   "source": [
    "import hist\n",
    "import matplotlib.pyplot as plt\n",
    "import mplhep as hep\n",
    "hep.style.use(\"CMS\")"
   ]
  },
  {
   "cell_type": "markdown",
   "metadata": {},
   "source": [
    "Let's create a histogram object (i.e., `hist.Hist`) with a single axis. We do this as follows."
   ]
  },
  {
   "cell_type": "code",
   "execution_count": 84,
   "metadata": {},
   "outputs": [],
   "source": [
    "masshist = hist.Hist(\n",
    "    hist.axis.Regular(120, 0, 200, label=\"Mass [GeV]\", name=\"mass\"),\n",
    ")"
   ]
  },
  {
   "cell_type": "markdown",
   "metadata": {},
   "source": [
    "If we were to plot the histogram right now, we would see that it would be empty, as we have not put any data into it."
   ]
  },
  {
   "cell_type": "code",
   "execution_count": 85,
   "metadata": {},
   "outputs": [
    {
     "data": {
      "text/html": [
       "<html>\n",
       "<div style=\"display:flex; align-items:center;\">\n",
       "<div style=\"width:290px;\">\n",
       "<svg xmlns=\"http://www.w3.org/2000/svg\" viewBox=\"-10 -105 270 120\">\n",
       "<line x1=\"-5\" y1=\"0\" x2=\"255\" y2=\"0\" style=\"fill:none;stroke-width:2;stroke:currentColor\"/>\n",
       "<text text-anchor=\"middle\" x=\"0\" y=\"15\" style=\"fill:currentColor;\">\n",
       "0\n",
       "</text>\n",
       "<text text-anchor=\"middle\" x=\"250\" y=\"15\" style=\"fill:currentColor;\">\n",
       "200\n",
       "</text>\n",
       "<text text-anchor=\"middle\" x=\"125.0\" y=\"15\" style=\"fill:currentColor;\">\n",
       "Mass [GeV]\n",
       "</text>\n",
       "<polyline points=\"  0,0   0,-0 2.08333,-0 2.08333,-0 4.16667,-0 4.16667,-0 6.25,-0 6.25,-0 8.33333,-0 8.33333,-0 10.4167,-0 10.4167,-0 12.5,-0 12.5,-0 14.5833,-0 14.5833,-0 16.6667,-0 16.6667,-0 18.75,-0 18.75,-0 20.8333,-0 20.8333,-0 22.9167,-0 22.9167,-0  25,-0  25,-0 27.0833,-0 27.0833,-0 29.1667,-0 29.1667,-0 31.25,-0 31.25,-0 33.3333,-0 33.3333,-0 35.4167,-0 35.4167,-0 37.5,-0 37.5,-0 39.5833,-0 39.5833,-0 41.6667,-0 41.6667,-0 43.75,-0 43.75,-0 45.8333,-0 45.8333,-0 47.9167,-0 47.9167,-0  50,-0  50,-0 52.0833,-0 52.0833,-0 54.1667,-0 54.1667,-0 56.25,-0 56.25,-0 58.3333,-0 58.3333,-0 60.4167,-0 60.4167,-0 62.5,-0 62.5,-0 64.5833,-0 64.5833,-0 66.6667,-0 66.6667,-0 68.75,-0 68.75,-0 70.8333,-0 70.8333,-0 72.9167,-0 72.9167,-0  75,-0  75,-0 77.0833,-0 77.0833,-0 79.1667,-0 79.1667,-0 81.25,-0 81.25,-0 83.3333,-0 83.3333,-0 85.4167,-0 85.4167,-0 87.5,-0 87.5,-0 89.5833,-0 89.5833,-0 91.6667,-0 91.6667,-0 93.75,-0 93.75,-0 95.8333,-0 95.8333,-0 97.9167,-0 97.9167,-0 100,-0 100,-0 102.083,-0 102.083,-0 104.167,-0 104.167,-0 106.25,-0 106.25,-0 108.333,-0 108.333,-0 110.417,-0 110.417,-0 112.5,-0 112.5,-0 114.583,-0 114.583,-0 116.667,-0 116.667,-0 118.75,-0 118.75,-0 120.833,-0 120.833,-0 122.917,-0 122.917,-0 125,-0 125,-0 127.083,-0 127.083,-0 129.167,-0 129.167,-0 131.25,-0 131.25,-0 133.333,-0 133.333,-0 135.417,-0 135.417,-0 137.5,-0 137.5,-0 139.583,-0 139.583,-0 141.667,-0 141.667,-0 143.75,-0 143.75,-0 145.833,-0 145.833,-0 147.917,-0 147.917,-0 150,-0 150,-0 152.083,-0 152.083,-0 154.167,-0 154.167,-0 156.25,-0 156.25,-0 158.333,-0 158.333,-0 160.417,-0 160.417,-0 162.5,-0 162.5,-0 164.583,-0 164.583,-0 166.667,-0 166.667,-0 168.75,-0 168.75,-0 170.833,-0 170.833,-0 172.917,-0 172.917,-0 175,-0 175,-0 177.083,-0 177.083,-0 179.167,-0 179.167,-0 181.25,-0 181.25,-0 183.333,-0 183.333,-0 185.417,-0 185.417,-0 187.5,-0 187.5,-0 189.583,-0 189.583,-0 191.667,-0 191.667,-0 193.75,-0 193.75,-0 195.833,-0 195.833,-0 197.917,-0 197.917,-0 200,-0 200,-0 202.083,-0 202.083,-0 204.167,-0 204.167,-0 206.25,-0 206.25,-0 208.333,-0 208.333,-0 210.417,-0 210.417,-0 212.5,-0 212.5,-0 214.583,-0 214.583,-0 216.667,-0 216.667,-0 218.75,-0 218.75,-0 220.833,-0 220.833,-0 222.917,-0 222.917,-0 225,-0 225,-0 227.083,-0 227.083,-0 229.167,-0 229.167,-0 231.25,-0 231.25,-0 233.333,-0 233.333,-0 235.417,-0 235.417,-0 237.5,-0 237.5,-0 239.583,-0 239.583,-0 241.667,-0 241.667,-0 243.75,-0 243.75,-0 245.833,-0 245.833,-0 247.917,-0 247.917,-0 250,-0 250,0\" style=\"fill:none; stroke:currentColor;\"/>\n",
       "</svg>\n",
       "</div>\n",
       "<div style=\"flex=grow:1;\">\n",
       "Regular(120, 0, 200, name='mass', label='Mass [GeV]')<br/>\n",
       "<hr style=\"margin-top:.2em; margin-bottom:.2em;\"/>\n",
       "Double() Σ=0.0\n",
       "\n",
       "</div>\n",
       "</div>\n",
       "</html>"
      ],
      "text/plain": [
       "Hist(Regular(120, 0, 200, name='mass', label='Mass [GeV]'), storage=Double())"
      ]
     },
     "execution_count": 85,
     "metadata": {},
     "output_type": "execute_result"
    }
   ],
   "source": [
    "masshist"
   ]
  },
  {
   "cell_type": "markdown",
   "metadata": {},
   "source": [
    "To add our data, we use the `fill` method and pass the array of the reconstructed masses we made. This method immediately returns the histogram, from which we can get a glimpse of how it looks like."
   ]
  },
  {
   "cell_type": "code",
   "execution_count": 86,
   "metadata": {},
   "outputs": [
    {
     "data": {
      "text/html": [
       "<html>\n",
       "<div style=\"display:flex; align-items:center;\">\n",
       "<div style=\"width:290px;\">\n",
       "<svg xmlns=\"http://www.w3.org/2000/svg\" viewBox=\"-10 -105 270 120\">\n",
       "<line x1=\"-5\" y1=\"0\" x2=\"255\" y2=\"0\" style=\"fill:none;stroke-width:2;stroke:currentColor\"/>\n",
       "<text text-anchor=\"middle\" x=\"0\" y=\"15\" style=\"fill:currentColor;\">\n",
       "0\n",
       "</text>\n",
       "<text text-anchor=\"middle\" x=\"250\" y=\"15\" style=\"fill:currentColor;\">\n",
       "200\n",
       "</text>\n",
       "<text text-anchor=\"middle\" x=\"125.0\" y=\"15\" style=\"fill:currentColor;\">\n",
       "Mass [GeV]\n",
       "</text>\n",
       "<polyline points=\"  0,0   0,-72.9 2.08333,-72.9 2.08333,-100 4.16667,-100 4.16667,-17.6 6.25,-17.6 6.25,-11.2 8.33333,-11.2 8.33333,-10.3 10.4167,-10.3 10.4167,-13.9 12.5,-13.9 12.5,-10.9 14.5833,-10.9 14.5833,-8.07 16.6667,-8.07 16.6667,-7.84 18.75,-7.84 18.75,-8.44 20.8333,-8.44 20.8333,-7.97 22.9167,-7.97 22.9167,-7.56  25,-7.56  25,-10.5 27.0833,-10.5 27.0833,-13.2 29.1667,-13.2 29.1667,-15.2 31.25,-15.2 31.25,-15.6 33.3333,-15.6 33.3333,-16 35.4167,-16 35.4167,-14.5 37.5,-14.5 37.5,-13.1 39.5833,-13.1 39.5833,-11.8 41.6667,-11.8 41.6667,-10.4 43.75,-10.4 43.75,-9.47 45.8333,-9.47 45.8333,-8.56 47.9167,-8.56 47.9167,-7  50,-7  50,-6.77 52.0833,-6.77 52.0833,-5.8 54.1667,-5.8 54.1667,-5.24 56.25,-5.24 56.25,-4.88 58.3333,-4.88 58.3333,-4.15 60.4167,-4.15 60.4167,-3.8 62.5,-3.8 62.5,-3.3 64.5833,-3.3 64.5833,-2.88 66.6667,-2.88 66.6667,-2.75 68.75,-2.75 68.75,-3.12 70.8333,-3.12 70.8333,-1.71 72.9167,-1.71 72.9167,-2.19  75,-2.19  75,-1.85 77.0833,-1.85 77.0833,-1.59 79.1667,-1.59 79.1667,-1.66 81.25,-1.66 81.25,-1.65 83.3333,-1.65 83.3333,-1.29 85.4167,-1.29 85.4167,-1.47 87.5,-1.47 87.5,-1.37 89.5833,-1.37 89.5833,-1.33 91.6667,-1.33 91.6667,-1.29 93.75,-1.29 93.75,-1.21 95.8333,-1.21 95.8333,-1.66 97.9167,-1.66 97.9167,-1.64 100,-1.64 100,-1.87 102.083,-1.87 102.083,-2.17 104.167,-2.17 104.167,-2.93 106.25,-2.93 106.25,-4.87 108.333,-4.87 108.333,-7.2 110.417,-7.2 110.417,-14.3 112.5,-14.3 112.5,-21 114.583,-21 114.583,-15 116.667,-15 116.667,-7.06 118.75,-7.06 118.75,-3.14 120.833,-3.14 120.833,-1.81 122.917,-1.81 122.917,-1.04 125,-1.04 125,-1.05 127.083,-1.05 127.083,-0.659 129.167,-0.659 129.167,-0.388 131.25,-0.388 131.25,-0.471 133.333,-0.471 133.333,-0.377 135.417,-0.377 135.417,-0.235 137.5,-0.235 137.5,-0.235 139.583,-0.235 139.583,-0.247 141.667,-0.247 141.667,-0.306 143.75,-0.306 143.75,-0.177 145.833,-0.177 145.833,-0.165 147.917,-0.165 147.917,-0.224 150,-0.224 150,-0.118 152.083,-0.118 152.083,-0.118 154.167,-0.118 154.167,-0.0706 156.25,-0.0706 156.25,-0.106 158.333,-0.106 158.333,-0.0942 160.417,-0.0942 160.417,-0.106 162.5,-0.106 162.5,-0.0942 164.583,-0.0942 164.583,-0.129 166.667,-0.129 166.667,-0.0588 168.75,-0.0588 168.75,-0.106 170.833,-0.106 170.833,-0.0588 172.917,-0.0588 172.917,-0.118 175,-0.118 175,-0.0353 177.083,-0.0353 177.083,-0.0353 179.167,-0.0353 179.167,-0.0471 181.25,-0.0471 181.25,-0.0353 183.333,-0.0353 183.333,-0.0706 185.417,-0.0706 185.417,-0.0353 187.5,-0.0353 187.5,-0.0353 189.583,-0.0353 189.583,-0.0706 191.667,-0.0706 191.667,-0.0588 193.75,-0.0588 193.75,-0.0118 195.833,-0.0118 195.833,-0.0471 197.917,-0.0471 197.917,-0.0471 200,-0.0471 200,-0.0706 202.083,-0.0706 202.083,-0.0235 204.167,-0.0235 204.167,-0.0118 206.25,-0.0118 206.25,-0.0118 208.333,-0.0118 208.333,-0.0353 210.417,-0.0353 210.417,-0.0118 212.5,-0.0118 212.5,-0.0824 214.583,-0.0824 214.583,-0.0235 216.667,-0.0235 216.667,-0.0235 218.75,-0.0235 218.75,-0.0118 220.833,-0.0118 220.833,-0.0235 222.917,-0.0235 222.917,-0.0118 225,-0.0118 225,-0.0118 227.083,-0.0118 227.083,-0.0118 229.167,-0.0118 229.167,-0.0118 231.25,-0.0118 231.25,-0.0235 233.333,-0.0235 233.333,-0.0235 235.417,-0.0235 235.417,-0.0471 237.5,-0.0471 237.5,-0.0235 239.583,-0.0235 239.583,-0.0353 241.667,-0.0353 241.667,-0.0118 243.75,-0.0118 243.75,-0.0353 245.833,-0.0353 245.833,-0 247.917,-0 247.917,-0.0118 250,-0.0118 250,0\" style=\"fill:none; stroke:currentColor;\"/>\n",
       "</svg>\n",
       "</div>\n",
       "<div style=\"flex=grow:1;\">\n",
       "Regular(120, 0, 200, name='mass', label='Mass [GeV]')<br/>\n",
       "<hr style=\"margin-top:.2em; margin-bottom:.2em;\"/>\n",
       "Double() Σ=48922.0 <em>(48976.0 with flow)</em>\n",
       "\n",
       "</div>\n",
       "</div>\n",
       "</html>"
      ],
      "text/plain": [
       "Hist(Regular(120, 0, 200, name='mass', label='Mass [GeV]'), storage=Double()) # Sum: 48922.0 (48976.0 with flow)"
      ]
     },
     "execution_count": 86,
     "metadata": {},
     "output_type": "execute_result"
    }
   ],
   "source": [
    "masshist.fill(mass)"
   ]
  },
  {
   "cell_type": "markdown",
   "metadata": {},
   "source": [
    "To make a proper plot of this histogram, we will use Matplotlib to create a figure with an axis, and then use the `plot1d` method of the `hist.Hist` object to plot the histogram we have created on those axis."
   ]
  },
  {
   "cell_type": "code",
   "execution_count": null,
   "metadata": {},
   "outputs": [
    {
     "data": {
      "image/png": "[encoded data removed]",
      "text/plain": [
       "<Figure size 1000x1000 with 1 Axes>"
      ]
     },
     "metadata": {},
     "output_type": "display_data"
    }
   ],
   "source": [
    "# Using Hist + Matplotlib\n",
    "fig, ax = plt.subplots()\n",
    "\n",
    "masshist.plot1d(\n",
    "    ax=ax, \n",
    "    label=\"Dimuon mass [GeV]\", \n",
    ")\n",
    "\n",
    "# Adding label for the y-axis\n",
    "ax.set_ylabel(\"Count\")\n",
    "# Adding axis title\n",
    "ax.set_title(\"Dimuon Mass Distribution\")\n",
    "# Adding legend\n",
    "ax.legend()\n",
    "\n",
    "# Show the plot\n",
    "plt.show()"
   ]
  },
  {
   "cell_type": "markdown",
   "metadata": {},
   "source": [
    "From this plot, we see multiple peaks. Notice, however that there is a peak very near $90 \\text{ GeV}$. This corresponds to the mass of the Z boson, and it means that we have been able to reconstruct its mass even though our approach was quite rudimentary. We can confirm the exact value for the mass of the Z boson by using the particle Particle library which provides particle data from the Particle Data Group ([PDF website](https://pdg.lbl.gov/)). We will also use the `hepunits` library which provivdes units and constants for the HEP system of units."
   ]
  },
  {
   "cell_type": "code",
   "execution_count": 112,
   "metadata": {},
   "outputs": [
    {
     "name": "stdout",
     "output_type": "stream",
     "text": [
      "Z boson mass in GeV: 91.188\n"
     ]
    }
   ],
   "source": [
    "import particle\n",
    "from hepunits import GeV\n",
    "\n",
    "# Getting the mass of the Z boson\n",
    "z_mass = particle.Particle.from_name(\"Z0\")\n",
    "print(\"Z boson mass in GeV:\", z_mass.mass / GeV)"
   ]
  },
  {
   "cell_type": "markdown",
   "metadata": {},
   "source": [
    "We can also make the previous histogram, but now lets add a vertical line on the Z mass for emphasis."
   ]
  },
  {
   "cell_type": "code",
   "execution_count": 130,
   "metadata": {},
   "outputs": [
    {
     "data": {
      "image/png": "[encoded data removed]",
      "text/plain": [
       "<Figure size 1000x1000 with 1 Axes>"
      ]
     },
     "metadata": {},
     "output_type": "display_data"
    }
   ],
   "source": [
    "# Plotting a a vertical line at the Z boson mass\n",
    "# Using Hist + Matplotlib\n",
    "fig, ax = plt.subplots()\n",
    "\n",
    "masshist.plot1d(\n",
    "    ax=ax, \n",
    "    label=\"Dimuon mass [GeV]\", \n",
    ")\n",
    "\n",
    "ax.set_ylabel(\"Count\")\n",
    "ax.set_title(\"Dimuon Mass Distribution\")\n",
    "ax.legend()\n",
    "ax.axvline(z_mass.mass / GeV, color=\"red\", linestyle=\"--\", label=\"Z boson mass\")\n",
    "ax.text(z_mass.mass / GeV + 2, 7200, \"Z boson mass\", color=\"red\", rotation=90, fontsize=16)\n",
    "\n",
    "plt.show()"
   ]
  },
  {
   "cell_type": "markdown",
   "metadata": {},
   "source": [
    "While we have been successful at reconstructing the mass of the Z boson to some extent, our approach is quite basic. First, we excluded many events that have more than two muons, even though some of these events might contain two or more muons that originated from a Z boson. Additionally, we did not ensure that quantities such as charge were conserved. We simply added the masses of the muons without verifying these important details. We will address these considerations in the next chapter. For now, lets review once again the code we have developed so far for reconstructing the masses."
   ]
  },
  {
   "cell_type": "code",
   "execution_count": 133,
   "metadata": {},
   "outputs": [
    {
     "name": "stderr",
     "output_type": "stream",
     "text": [
      "<>:27: SyntaxWarning: invalid escape sequence '\\m'\n",
      "<>:27: SyntaxWarning: invalid escape sequence '\\m'\n",
      "/var/folders/t8/8pnmh4rj2lbbd7gfq8tf09180000gn/T/ipykernel_23517/3237670559.py:27: SyntaxWarning: invalid escape sequence '\\m'\n",
      "  ax.set_xlabel(\"$m_{\\mu\\mu}$\")\n"
     ]
    },
    {
     "data": {
      "image/png": "[encoded data removed]",
      "text/plain": [
       "<Figure size 1000x1000 with 1 Axes>"
      ]
     },
     "metadata": {},
     "output_type": "display_data"
    }
   ],
   "source": [
    "# Loading data\n",
    "muons = tree.arrays(filter_name=\"/nMuon|Muon_(phi|eta|pt)/\", entry_stop=100000)\n",
    "\n",
    "# Applying a cut\n",
    "dimuons_cut = muons[\"nMuon\"] == 2\n",
    "dimuons = muons[dimuons_cut]\n",
    "\n",
    "# Getting the eta, pt and phi of each of the muons in the dimuon events\n",
    "pt0 = dimuons[\"Muon_pt\"][:,0]\n",
    "pt1 = dimuons[\"Muon_pt\"][:,1]\n",
    "eta0 = dimuons[\"Muon_eta\"][:,0]\n",
    "eta1 = dimuons[\"Muon_eta\"][:,1]\n",
    "phi0 = dimuons[\"Muon_phi\"][:,0]\n",
    "phi1 = dimuons[\"Muon_phi\"][:,1]\n",
    "\n",
    "# Calculating the mass of the dimuon system\n",
    "mass = np.sqrt(2 * pt0 * pt1 * (np.cosh(eta0 - eta1) - np.cos(phi0 - phi1)))\n",
    "\n",
    "# Plotting the mass distribution using Hist + Matplotlib\n",
    "fig, ax = plt.subplots()\n",
    "\n",
    "masshist = hist.Hist(hist.axis.Regular(120, 0, 120, label=\"mass [GeV]\"))\n",
    "masshist.fill(mass)\n",
    "masshist.plot1d(ax=ax)\n",
    "\n",
    "ax.set_title(\"Dimuon Mass\")\n",
    "ax.set_xlabel(\"$m_{\\mu\\mu}$\")\n",
    "ax.set_ylabel(\"Count\")\n",
    "\n",
    "plt.show()"
   ]
  },
  {
   "cell_type": "markdown",
   "metadata": {},
   "source": [
    "For the rest of this workshop, we will focus on the Z and Higgs boson. However, you might be wondering what those extra peaks are to the left of the Z peak. To emphasize these peaks, let's make the plot logarithmic."
   ]
  },
  {
   "cell_type": "code",
   "execution_count": null,
   "metadata": {},
   "outputs": [
    {
     "data": {
      "image/png": "[encoded data removed]",
      "text/plain": [
       "<Figure size 1000x1000 with 1 Axes>"
      ]
     },
     "metadata": {},
     "output_type": "display_data"
    }
   ],
   "source": [
    "fig, ax = plt.subplots()\n",
    "\n",
    "# Note: Making a logarithmic hist axis (i.e. hist with variable binning)\n",
    "hist_data = hist.Hist(\n",
    "    hist.axis.Variable(np.logspace(np.log10(0.1), np.log10(1000), 100), name=\"mass\", label=\"Invariant Mass [GeV]\")\n",
    ")\n",
    "hist_data.fill(mass=mass)\n",
    "hist_data.plot1d(ax=ax, histtype='step', color=\"red\", linewidth=0.75)\n",
    "\n",
    "ax.set_xscale(\"log\")\n",
    "ax.set_yscale(\"log\")\n",
    "ax.set_xlabel(\"Invariant Mass [GeV]\")\n",
    "ax.set_ylabel(\"Counts\")\n",
    "ax.set_title(\"Dimuon Invariant Mass Distribution\")\n",
    "\n",
    "plt.show()"
   ]
  },
  {
   "cell_type": "markdown",
   "metadata": {},
   "source": [
    "Compare this to this cleaner dimuon mass spectrum with labels identifying what each peak corresponds to.\n",
    "\n",
    "```{figure} ./assets/dimuonspectrumplt.png\n",
    "---\n",
    "height: 350px\n",
    "name: Dimuon spectrum\n",
    "---\n",
    "Dimuon mass spectrum\n",
    "```"
   ]
  }
 ],
 "metadata": {
  "kernelspec": {
   "display_name": "venv",
   "language": "python",
   "name": "python3"
  },
  "language_info": {
   "codemirror_mode": {
    "name": "ipython",
    "version": 3
   },
   "file_extension": ".py",
   "mimetype": "text/x-python",
   "name": "python",
   "nbconvert_exporter": "python",
   "pygments_lexer": "ipython3",
   "version": "3.13.1"
  }
 },
 "nbformat": 4,
 "nbformat_minor": 2
}
