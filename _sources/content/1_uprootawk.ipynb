{
 "cells": [
  {
   "cell_type": "markdown",
   "metadata": {},
   "source": [
    "# Uproot I/O and Awkard Arrays\n",
    "\n",
    "## Introduction\n",
    "\n",
    "Scikit-HEP is a community-driven project that provides a comprehensive software ecosystem for high energy physics (HEP) analysis in Python. Its goal is to standardize and streamline data analysis workflows in HEP by offering a coherent collection of libraries that integrate with widely used tools such as Numpy, Pandas, Matplotlib, and Scikit-Learn. Among its major packages are:\n",
    "\n",
    "  * Uproot: For reading and writing ROOT files without requiring ROOT.\n",
    "  * Awkward Arrays: For the handling of jagged data structures.\n",
    "  * Hist: For creating and manipulating histograms.\n",
    "  * Vector: For manipulating and operating on vectors of different kinds in a high-performance manner.\n",
    "  * Boost-Histogram: For fast, multi-dimensional histogramming.\n",
    "  * Particle: For handling particle physics data, including properties and PDG codes.\n",
    "  * Iminuit: For fitting.\n",
    "\n",
    "In this tutorial, you will be introduced to the main components of the Scikit-HEP project, starting with Uproot and building from there. For more information on the Scikit-HEP project and the tools it offers, please visit the official [Scikit-HEP Project Website](https://scikit-hep.org/).\n",
    "\n",
    "## ROOT Files\n",
    "\n",
    "ROOT files are a specialized binary file format developed for the efficient storage and analysis of large-scale data in high energy physics (HEP). They are structured hierarchically, much like a miniature filesystem, allowing for the organization of data into nested directories and subdirectories. Within these directories, ROOT files can store a wide variety of data types, including TTrees (which are analogous to tables or dataframes and are optimized for fast access to large datasets), histograms, graphs, and even user-defined objects. This flexible structure makes ROOT files particularly well-suited for complex experimental data, where different types of information (e.g., event records, calibration constants, and analysis results) need to be stored together in a single, organized file.\n",
    "\n",
    "An example ROOT file structure can be seen in {numref}`roottree`.\n",
    "\n",
    "```{figure} ./assets/roottree.png\n",
    "---\n",
    "height: 350px\n",
    "name: roottree\n",
    "---\n",
    "ROOT file structure example.\n",
    "```\n",
    "\n",
    "Let's look a bit more closely at what each part of this example ROOT file are.\n",
    "\n",
    "- TDirectorys are container objects that act like a directory in a filesystem. I can hold other objects such as histograms, TTrees, or even other TDirectories.\n",
    "- TTrees are a high-performance data structure designed with storing large tabular datasets in ROOT files. It is conceptually similar to a table or a DataFrame, where each row (i.e., \"entry\" or \"event\") represents a single data record, and each column (i.e., \"branch\") holds a specific variable or array of variables.\n",
    "- TBranches corresponds to a column in a TTree. Each contains data for a specific variable or set of variables. They can store simple types (like numbers) or complex objects (like arrays or custom classes).\n",
    "- A TBasket is a chunck or block of data in a TBranch. They allow for more efficient access to parts of the data without having to load the entire branch into memory.\n",
    "\n",
    "## Uproot\n",
    "\n",
    "Uproot allows us to read and write ROOT files. It interacts with Numpy, Pandas as well as the packages offered by Scikit-HEP. It was created to not have to use ROOT in order to quickly work with ROOT files, which can be slow to load."
   ]
  },
  {
   "cell_type": "markdown",
   "metadata": {},
   "source": [
    "## Opening a File"
   ]
  },
  {
   "cell_type": "markdown",
   "metadata": {},
   "source": [
    "To move forward, run the following cells to import `Uproot` and to download the sample data. This data is part of the `skhep_testdata` package which is another Scikit-HEP package which provides example files for testing and development."
   ]
  },
  {
   "cell_type": "code",
   "execution_count": 76,
   "metadata": {},
   "outputs": [
    {
     "data": {
      "text/plain": [
       "<ReadOnlyDirectory '/' at 0x00011e99d090>"
      ]
     },
     "execution_count": 76,
     "metadata": {},
     "output_type": "execute_result"
    }
   ],
   "source": [
    "# Run this cell to import Uproot\n",
    "import uproot\n",
    "import skhep_testdata\n",
    "\n",
    "# Downloads test file and returns path to it\n",
    "filename = skhep_testdata.data_path(\"uproot-Event.root\")\n",
    "file = uproot.open(filename)\n",
    "file"
   ]
  },
  {
   "cell_type": "markdown",
   "metadata": {},
   "source": [
    "This file object actually represents a directory and its contents are accesible through a dict-like interface. Let's see what keys is has available."
   ]
  },
  {
   "cell_type": "code",
   "execution_count": 77,
   "metadata": {},
   "outputs": [
    {
     "data": {
      "text/plain": [
       "[('ProcessID0;1', <TProcessID (version 1) at 0x00011e99d310>),\n",
       " ('htime;1', <TH1F (version 2) at 0x00011e829e00>),\n",
       " ('T;1', <TTree 'T' (1 branches) at 0x00011e99d450>),\n",
       " ('hstat;1', <TH1F (version 2) at 0x00011dfe3bf0>)]"
      ]
     },
     "execution_count": 77,
     "metadata": {},
     "output_type": "execute_result"
    }
   ],
   "source": [
    "file.items()"
   ]
  },
  {
   "cell_type": "markdown",
   "metadata": {},
   "source": [
    "We can see tha it contains multiple values, each of different type. The types seen here are:\n",
    "\n",
    "  - `TProcessID`: \n",
    "    - ROOT class that keeps track of process IDs in ROOT files. It is used internally by ROOT to manage object and their references, ensuring that object have unique identifiers across files or sessions. Typically useful for analysis.\n",
    "  - `TH1F`: \n",
    "    - One-dimensional histogram with floating-point bin contents.\n",
    "  - `TTree`: \n",
    "    - ROOT class used for efficient storage and access of large datasets. \n",
    "    - Can be conceptualized as a table in a database of a DataFrame in pandas, where each column (branch) can contian different types of data, and each row (entry) corresponds toa single event or datapoint.\n",
    "    - If it too large to fit in memory a TBranch can be broken down in to TBaskets which are batches of data. They are the smallest unit to read from a TTree.\n",
    "\n",
    "We can easily read the histograms and utilize useful method provided by Uproot to convert the data to something more friendly, like NumPy or Awkawrd arrays (more on that later). For instance, if we want to do the former, we can access the histogram using the dict-like interphase you should already be familiar with:"
   ]
  },
  {
   "cell_type": "markdown",
   "metadata": {},
   "source": [
    "### Reading the histogram"
   ]
  },
  {
   "cell_type": "code",
   "execution_count": 78,
   "metadata": {},
   "outputs": [
    {
     "data": {
      "text/plain": [
       "<TH1F (version 2) at 0x00011dfe3bf0>"
      ]
     },
     "execution_count": 78,
     "metadata": {},
     "output_type": "execute_result"
    }
   ],
   "source": [
    "h = file[\"hstat;1\"]\n",
    "h"
   ]
  },
  {
   "cell_type": "markdown",
   "metadata": {},
   "source": [
    "That doesn't look like a histogram! If we want to visualize it, we can use the `to_hist` method. The output of this method is an object of type `hist.Hist` which is visualized in a Jupyter Notebook in a simplified way if just displayed directly (we will discuss the `hist` library in more detail later!)."
   ]
  },
  {
   "cell_type": "code",
   "execution_count": 79,
   "metadata": {},
   "outputs": [
    {
     "data": {
      "text/html": [
       "<html>\n",
       "<div style=\"display:flex; align-items:center;\">\n",
       "<div style=\"width:290px;\">\n",
       "<svg xmlns=\"http://www.w3.org/2000/svg\" viewBox=\"-10 -105 270 120\">\n",
       "<line x1=\"-5\" y1=\"0\" x2=\"255\" y2=\"0\" style=\"fill:none;stroke-width:2;stroke:currentColor\"/>\n",
       "<text text-anchor=\"middle\" x=\"0\" y=\"15\" style=\"fill:currentColor;\">\n",
       "0\n",
       "</text>\n",
       "<text text-anchor=\"middle\" x=\"250\" y=\"15\" style=\"fill:currentColor;\">\n",
       "1\n",
       "</text>\n",
       "<text text-anchor=\"middle\" x=\"125.0\" y=\"15\" style=\"fill:currentColor;\">\n",
       "xaxis\n",
       "</text>\n",
       "<polyline points=\"  0,0   0,-77.8 2.5,-77.8 2.5,-100   5,-100   5,-77.8 7.5,-77.8 7.5,-61.1  10,-61.1  10,-83.3 12.5,-83.3 12.5,-72.2  15,-72.2  15,-66.7 17.5,-66.7 17.5,-72.2  20,-72.2  20,-44.4 22.5,-44.4 22.5,-44.4  25,-44.4  25,-50 27.5,-50 27.5,-55.6  30,-55.6  30,-55.6 32.5,-55.6 32.5,-38.9  35,-38.9  35,-44.4 37.5,-44.4 37.5,-55.6  40,-55.6  40,-44.4 42.5,-44.4 42.5,-66.7  45,-66.7  45,-33.3 47.5,-33.3 47.5,-44.4  50,-44.4  50,-38.9 52.5,-38.9 52.5,-50  55,-50  55,-55.6 57.5,-55.6 57.5,-66.7  60,-66.7  60,-55.6 62.5,-55.6 62.5,-61.1  65,-61.1  65,-55.6 67.5,-55.6 67.5,-55.6  70,-55.6  70,-55.6 72.5,-55.6 72.5,-44.4  75,-44.4  75,-77.8 77.5,-77.8 77.5,-72.2  80,-72.2  80,-50 82.5,-50 82.5,-38.9  85,-38.9  85,-66.7 87.5,-66.7 87.5,-55.6  90,-55.6  90,-38.9 92.5,-38.9 92.5,-33.3  95,-33.3  95,-50 97.5,-50 97.5,-72.2 100,-72.2 100,-61.1 102.5,-61.1 102.5,-44.4 105,-44.4 105,-55.6 107.5,-55.6 107.5,-50 110,-50 110,-38.9 112.5,-38.9 112.5,-22.2 115,-22.2 115,-38.9 117.5,-38.9 117.5,-55.6 120,-55.6 120,-44.4 122.5,-44.4 122.5,-44.4 125,-44.4 125,-50 127.5,-50 127.5,-50 130,-50 130,-38.9 132.5,-38.9 132.5,-66.7 135,-66.7 135,-61.1 137.5,-61.1 137.5,-50 140,-50 140,-55.6 142.5,-55.6 142.5,-38.9 145,-38.9 145,-55.6 147.5,-55.6 147.5,-72.2 150,-72.2 150,-72.2 152.5,-72.2 152.5,-61.1 155,-61.1 155,-50 157.5,-50 157.5,-50 160,-50 160,-44.4 162.5,-44.4 162.5,-44.4 165,-44.4 165,-55.6 167.5,-55.6 167.5,-66.7 170,-66.7 170,-38.9 172.5,-38.9 172.5,-27.8 175,-27.8 175,-50 177.5,-50 177.5,-55.6 180,-55.6 180,-66.7 182.5,-66.7 182.5,-72.2 185,-72.2 185,-55.6 187.5,-55.6 187.5,-77.8 190,-77.8 190,-55.6 192.5,-55.6 192.5,-55.6 195,-55.6 195,-44.4 197.5,-44.4 197.5,-66.7 200,-66.7 200,-66.7 202.5,-66.7 202.5,-61.1 205,-61.1 205,-88.9 207.5,-88.9 207.5,-66.7 210,-66.7 210,-44.4 212.5,-44.4 212.5,-66.7 215,-66.7 215,-38.9 217.5,-38.9 217.5,-50 220,-50 220,-50 222.5,-50 222.5,-38.9 225,-38.9 225,-55.6 227.5,-55.6 227.5,-38.9 230,-38.9 230,-61.1 232.5,-61.1 232.5,-61.1 235,-61.1 235,-44.4 237.5,-44.4 237.5,-72.2 240,-72.2 240,-50 242.5,-50 242.5,-44.4 245,-44.4 245,-77.8 247.5,-77.8 247.5,-88.9 250,-88.9 250,0\" style=\"fill:none; stroke:currentColor;\"/>\n",
       "</svg>\n",
       "</div>\n",
       "<div style=\"flex=grow:1;\">\n",
       "Regular(100, 0, 1, name='xaxis')<br/>\n",
       "<hr style=\"margin-top:.2em; margin-bottom:.2em;\"/>\n",
       "Double() Σ=1000.0\n",
       "\n",
       "</div>\n",
       "</div>\n",
       "</html>"
      ],
      "text/plain": [
       "Hist(Regular(100, 0, 1, name='xaxis'), storage=Double()) # Sum: 1000.0"
      ]
     },
     "execution_count": 79,
     "metadata": {},
     "output_type": "execute_result"
    }
   ],
   "source": [
    "h.to_hist()"
   ]
  },
  {
   "cell_type": "markdown",
   "metadata": {},
   "source": [
    "If we want to properly plot this histogram and be able to modify how it looks, we can use the `plot` method of the `hist.Hist` object. This method uses `matplotlib` to make a nice looking plot which we can then modify in any way we wish."
   ]
  },
  {
   "cell_type": "code",
   "execution_count": 80,
   "metadata": {},
   "outputs": [
    {
     "name": "stderr",
     "output_type": "stream",
     "text": [
      "/Users/roycruz/Local/PythonHEP/venv/lib/python3.13/site-packages/mplhep/utils.py:577: UserWarning: Integer weights indicate poissonian data. Will calculate Garwood interval if ``scipy`` is installed. Otherwise errors will be set to ``sqrt(w2)``.\n",
      "  self.errors()\n"
     ]
    },
    {
     "data": {
      "text/plain": [
       "[StairsArtists(stairs=<matplotlib.patches.StepPatch object at 0x11ecb4910>, errorbar=<ErrorbarContainer object of 3 artists>, legend_artist=<ErrorbarContainer object of 3 artists>)]"
      ]
     },
     "execution_count": 80,
     "metadata": {},
     "output_type": "execute_result"
    },
    {
     "data": {
      "image/png": "[encoded data removed]",
      "text/plain": [
       "<Figure size 640x480 with 1 Axes>"
      ]
     },
     "metadata": {},
     "output_type": "display_data"
    }
   ],
   "source": [
    "# Using the hist Scikit-HEP library (more on that later...)\n",
    "h.to_hist().plot(linewidth=0.75, color=\"red\")"
   ]
  },
  {
   "cell_type": "markdown",
   "metadata": {},
   "source": [
    "We can also convert the histogram to NumPy objects by using the `to_numpy` method. This method gives us a tuple. The first element is an array with the height of each bin, and the second element is an array with the edges of the histogram bins."
   ]
  },
  {
   "cell_type": "code",
   "execution_count": 81,
   "metadata": {},
   "outputs": [
    {
     "data": {
      "text/plain": [
       "(array([14., 18., 14., 11., 15., 13., 12., 13.,  8.,  8.,  9., 10., 10.,\n",
       "         7.,  8., 10.,  8., 12.,  6.,  8.,  7.,  9., 10., 12., 10., 11.,\n",
       "        10., 10., 10.,  8., 14., 13.,  9.,  7., 12., 10.,  7.,  6.,  9.,\n",
       "        13., 11.,  8., 10.,  9.,  7.,  4.,  7., 10.,  8.,  8.,  9.,  9.,\n",
       "         7., 12., 11.,  9., 10.,  7., 10., 13., 13., 11.,  9.,  9.,  8.,\n",
       "         8., 10., 12.,  7.,  5.,  9., 10., 12., 13., 10., 14., 10., 10.,\n",
       "         8., 12., 12., 11., 16., 12.,  8., 12.,  7.,  9.,  9.,  7., 10.,\n",
       "         7., 11., 11.,  8., 13.,  9.,  8., 14., 16.], dtype=float32),\n",
       " array([0.  , 0.01, 0.02, 0.03, 0.04, 0.05, 0.06, 0.07, 0.08, 0.09, 0.1 ,\n",
       "        0.11, 0.12, 0.13, 0.14, 0.15, 0.16, 0.17, 0.18, 0.19, 0.2 , 0.21,\n",
       "        0.22, 0.23, 0.24, 0.25, 0.26, 0.27, 0.28, 0.29, 0.3 , 0.31, 0.32,\n",
       "        0.33, 0.34, 0.35, 0.36, 0.37, 0.38, 0.39, 0.4 , 0.41, 0.42, 0.43,\n",
       "        0.44, 0.45, 0.46, 0.47, 0.48, 0.49, 0.5 , 0.51, 0.52, 0.53, 0.54,\n",
       "        0.55, 0.56, 0.57, 0.58, 0.59, 0.6 , 0.61, 0.62, 0.63, 0.64, 0.65,\n",
       "        0.66, 0.67, 0.68, 0.69, 0.7 , 0.71, 0.72, 0.73, 0.74, 0.75, 0.76,\n",
       "        0.77, 0.78, 0.79, 0.8 , 0.81, 0.82, 0.83, 0.84, 0.85, 0.86, 0.87,\n",
       "        0.88, 0.89, 0.9 , 0.91, 0.92, 0.93, 0.94, 0.95, 0.96, 0.97, 0.98,\n",
       "        0.99, 1.  ]))"
      ]
     },
     "execution_count": 81,
     "metadata": {},
     "output_type": "execute_result"
    }
   ],
   "source": [
    "# Converting the histogram object to numpy arrays\n",
    "h.to_numpy()\n",
    "# First array is the data, second one is for bins"
   ]
  },
  {
   "cell_type": "markdown",
   "metadata": {},
   "source": [
    "We can also use these arrays to make a plot of this histogram manually with matplotlib."
   ]
  },
  {
   "cell_type": "code",
   "execution_count": 82,
   "metadata": {},
   "outputs": [
    {
     "data": {
      "image/png": "[encoded data removed]",
      "text/plain": [
       "<Figure size 640x480 with 1 Axes>"
      ]
     },
     "metadata": {},
     "output_type": "display_data"
    }
   ],
   "source": [
    "# We can then use plot this data using matplotlib\n",
    "import matplotlib.pyplot as plt\n",
    "hist_data, bin_edges = h.to_numpy()\n",
    "bin_centers = (bin_edges[:-1] + bin_edges[1:]) / 2\n",
    "plt.hist(bin_edges[:-1], bin_edges, weights=hist_data, histtype=\"step\", color=\"red\", linewidth=0.75)\n",
    "plt.show()"
   ]
  },
  {
   "cell_type": "markdown",
   "metadata": {},
   "source": [
    "The `hist.Hist` object also lets us directly accessthe values, errors and bin edges."
   ]
  },
  {
   "cell_type": "code",
   "execution_count": 83,
   "metadata": {},
   "outputs": [
    {
     "name": "stdout",
     "output_type": "stream",
     "text": [
      "[14. 18. 14. 11. 15. 13. 12. 13.  8.  8.  9. 10. 10.  7.  8. 10.  8. 12.\n",
      "  6.  8.  7.  9. 10. 12. 10. 11. 10. 10. 10.  8. 14. 13.  9.  7. 12. 10.\n",
      "  7.  6.  9. 13. 11.  8. 10.  9.  7.  4.  7. 10.  8.  8.  9.  9.  7. 12.\n",
      " 11.  9. 10.  7. 10. 13. 13. 11.  9.  9.  8.  8. 10. 12.  7.  5.  9. 10.\n",
      " 12. 13. 10. 14. 10. 10.  8. 12. 12. 11. 16. 12.  8. 12.  7.  9.  9.  7.\n",
      " 10.  7. 11. 11.  8. 13.  9.  8. 14. 16.]\n"
     ]
    }
   ],
   "source": [
    "print(h.values())"
   ]
  },
  {
   "cell_type": "code",
   "execution_count": 84,
   "metadata": {},
   "outputs": [
    {
     "name": "stdout",
     "output_type": "stream",
     "text": [
      "[3.74165739 4.24264069 3.74165739 3.31662479 3.87298335 3.60555128\n",
      " 3.46410162 3.60555128 2.82842712 2.82842712 3.         3.16227766\n",
      " 3.16227766 2.64575131 2.82842712 3.16227766 2.82842712 3.46410162\n",
      " 2.44948974 2.82842712 2.64575131 3.         3.16227766 3.46410162\n",
      " 3.16227766 3.31662479 3.16227766 3.16227766 3.16227766 2.82842712\n",
      " 3.74165739 3.60555128 3.         2.64575131 3.46410162 3.16227766\n",
      " 2.64575131 2.44948974 3.         3.60555128 3.31662479 2.82842712\n",
      " 3.16227766 3.         2.64575131 2.         2.64575131 3.16227766\n",
      " 2.82842712 2.82842712 3.         3.         2.64575131 3.46410162\n",
      " 3.31662479 3.         3.16227766 2.64575131 3.16227766 3.60555128\n",
      " 3.60555128 3.31662479 3.         3.         2.82842712 2.82842712\n",
      " 3.16227766 3.46410162 2.64575131 2.23606798 3.         3.16227766\n",
      " 3.46410162 3.60555128 3.16227766 3.74165739 3.16227766 3.16227766\n",
      " 2.82842712 3.46410162 3.46410162 3.31662479 4.         3.46410162\n",
      " 2.82842712 3.46410162 2.64575131 3.         3.         2.64575131\n",
      " 3.16227766 2.64575131 3.31662479 3.31662479 2.82842712 3.60555128\n",
      " 3.         2.82842712 3.74165739 4.        ]\n"
     ]
    }
   ],
   "source": [
    "print(h.errors())"
   ]
  },
  {
   "cell_type": "code",
   "execution_count": 85,
   "metadata": {},
   "outputs": [
    {
     "name": "stdout",
     "output_type": "stream",
     "text": [
      "[0.   0.01 0.02 0.03 0.04 0.05 0.06 0.07 0.08 0.09 0.1  0.11 0.12 0.13\n",
      " 0.14 0.15 0.16 0.17 0.18 0.19 0.2  0.21 0.22 0.23 0.24 0.25 0.26 0.27\n",
      " 0.28 0.29 0.3  0.31 0.32 0.33 0.34 0.35 0.36 0.37 0.38 0.39 0.4  0.41\n",
      " 0.42 0.43 0.44 0.45 0.46 0.47 0.48 0.49 0.5  0.51 0.52 0.53 0.54 0.55\n",
      " 0.56 0.57 0.58 0.59 0.6  0.61 0.62 0.63 0.64 0.65 0.66 0.67 0.68 0.69\n",
      " 0.7  0.71 0.72 0.73 0.74 0.75 0.76 0.77 0.78 0.79 0.8  0.81 0.82 0.83\n",
      " 0.84 0.85 0.86 0.87 0.88 0.89 0.9  0.91 0.92 0.93 0.94 0.95 0.96 0.97\n",
      " 0.98 0.99 1.  ]\n"
     ]
    }
   ],
   "source": [
    "print(h.axis(\"x\").edges())"
   ]
  },
  {
   "cell_type": "markdown",
   "metadata": {},
   "source": [
    "### Accesing the TTree"
   ]
  },
  {
   "cell_type": "markdown",
   "metadata": {},
   "source": [
    "The TTree present in this example file contains simulated collisions data. To get us started, lets read the data using the dict-like interphase."
   ]
  },
  {
   "cell_type": "code",
   "execution_count": 86,
   "metadata": {},
   "outputs": [
    {
     "data": {
      "text/plain": [
       "<TTree 'T' (1 branches) at 0x00011e99d450>"
      ]
     },
     "execution_count": 86,
     "metadata": {},
     "output_type": "execute_result"
    }
   ],
   "source": [
    "t = file[\"T;1\"]\n",
    "t"
   ]
  },
  {
   "cell_type": "markdown",
   "metadata": {},
   "source": [
    "As you can see, directly printing `t` is not very useful and does not gives us much insight into the actual contents of the TTree. In order to get a glimpse of the data, it conveniently has a method called `show` which gives you a list of the name of each branch, as well as the type of data that is contained in each branch."
   ]
  },
  {
   "cell_type": "code",
   "execution_count": 87,
   "metadata": {},
   "outputs": [
    {
     "name": "stdout",
     "output_type": "stream",
     "text": [
      "name                 | typename                 | interpretation                \n",
      "---------------------+--------------------------+-------------------------------\n",
      "event                | Event                    | AsGroup(<TBranchElement 'ev...\n",
      "event/TObject        | (group of fUniqueID:u... | AsGroup(<TBranchElement 'TO...\n",
      "event/TObject/fUn... | uint32_t                 | AsDtype('>u4')\n",
      "event/TObject/fBits  | uint32_t                 | AsDtype('>u4')\n",
      "event/fType[20]      | int8_t[20]               | AsDtype(\"('i1', (20,))\")\n",
      "event/fEventName     | char*                    | AsStrings(length_bytes='4')\n",
      "event/fNtrack        | int32_t                  | AsDtype('>i4')\n",
      "event/fNseg          | int32_t                  | AsDtype('>i4')\n",
      "event/fNvertex       | uint32_t                 | AsDtype('>u4')\n",
      "event/fFlag          | uint32_t                 | AsDtype('>u4')\n",
      "event/fTemperature   | float                    | AsDtype('>f4', 'float64')\n",
      "event/fMeasures[10]  | int32_t[10]              | AsDtype(\"('>i4', (10,))\")\n",
      "event/fMatrix[4][4]  | float[4][4]              | AsDtype(\"('>f4', (4, 4))\", ...\n",
      "event/fClosestDis... | unknown[]                | AsObjects(AsArray(False, Tr...\n",
      "event/fEvtHdr        | EventHeader              | AsGroup(<TBranchElement 'fE...\n",
      "event/fEvtHdr/fEv... | int32_t                  | AsDtype('>i4')\n",
      "event/fEvtHdr/fEv... | int32_t                  | AsDtype('>i4')\n",
      "event/fEvtHdr/fEv... | int32_t                  | AsDtype('>i4')\n",
      "event/fTracks        | TClonesArray*            | AsGroup(<TBranchElement 'fT...\n",
      "event/fTracks/fTr... | uint32_t[]               | AsJagged(AsDtype('>u4'))\n",
      "event/fTracks/fTr... | uint32_t[]               | AsJagged(AsDtype('>u4'))\n",
      "event/fTracks/fTr... | float[]                  | AsJagged(AsDtype('>f4'))\n",
      "event/fTracks/fTr... | float[]                  | AsJagged(AsDtype('>f4'))\n",
      "event/fTracks/fTr... | float[]                  | AsJagged(AsDtype('>f4'))\n",
      "event/fTracks/fTr... | float[]                  | AsJagged(AsDtype('>f4'))\n",
      "event/fTracks/fTr... | Float16_t[]              | AsJagged(AsFloat16(0.0, 0.0...\n",
      "event/fTracks/fTr... | Float16_t[]              | AsJagged(AsFloat16(0.0, 0.0...\n",
      "event/fTracks/fTr... | Float16_t[]              | AsJagged(AsFloat16(0.0, 0.0...\n",
      "event/fTracks/fTr... | float[]                  | AsJagged(AsDtype('>f4'))\n",
      "event/fTracks/fTr... | Float16_t[]              | AsJagged(AsFloat16(0, 0, 12))\n",
      "event/fTracks/fTr... | Float16_t[]              | AsJagged(AsFloat16(0, 0, 12))\n",
      "event/fTracks/fTr... | Float16_t[]              | AsJagged(AsFloat16(0, 0, 12))\n",
      "event/fTracks/fTr... | Float16_t[]              | AsJagged(AsFloat16(0, 0, 12))\n",
      "event/fTracks/fTr... | Float16_t[]              | AsJagged(AsFloat16(0, 0, 12))\n",
      "event/fTracks/fTr... | Float16_t[]              | AsJagged(AsFloat16(0, 0, 12))\n",
      "event/fTracks/fTr... | Double32_t[]             | AsJagged(AsDouble32(-1.0, 1...\n",
      "event/fTracks/fTr... | Double32_t[][3]          | AsJagged(AsDouble32(-30.0, ...\n",
      "event/fTracks/fTr... | int32_t[]                | AsJagged(AsDtype('>i4'))\n",
      "event/fTracks/fTr... | int16_t[]                | AsJagged(AsDtype('>i2'))\n",
      "event/fTracks/fTr... | uint32_t[]               | AsJagged(AsDtype('>u4'))\n",
      "event/fTracks/fTr... | unknown[][]              | AsObjects(AsArray(True, Fal...\n",
      "event/fTracks/fTr... | uint32_t[]               | AsJagged(AsDtype('>u4'))\n",
      "event/fTracks/fTr... | uint32_t[]               | AsJagged(AsDtype('>u4'))\n",
      "event/fTracks/fTr... | uint32_t[]               | AsJagged(AsDtype('>u4'))\n",
      "event/fTracks/fTr... | uint32_t[]               | AsJagged(AsDtype('>u4'))\n",
      "event/fTracks/fTr... | uint8_t[][]              | AsObjects(AsArray(True, Fal...\n",
      "event/fTracks/fTr... | float[][3]               | AsJagged(AsDtype(\"('>f4', (...\n",
      "event/fHighPt        | TRefArray*               | AsObjects(AsPointer(Model_T...\n",
      "event/fMuons         | TRefArray*               | AsObjects(AsPointer(Model_T...\n",
      "event/fLastTrack     | TRef                     | AsStridedObjects(Model_TRef)\n",
      "event/fWebHistogram  | TRef                     | AsStridedObjects(Model_TRef)\n",
      "event/fH             | TH1F                     | AsObjects(Model_TH1F)\n",
      "event/fTriggerBits   | TBits                    | AsGroup(<TBranchElement 'fT...\n",
      "event/fTriggerBit... | (group of fTriggerBit... | AsGroup(<TBranchElement 'fT...\n",
      "event/fTriggerBit... | uint32_t                 | AsDtype('>u4')\n",
      "event/fTriggerBit... | uint32_t                 | AsDtype('>u4')\n",
      "event/fTriggerBit... | uint32_t                 | AsDtype('>u4')\n",
      "event/fTriggerBit... | uint32_t                 | AsDtype('>u4')\n",
      "event/fTriggerBit... | uint8_t[]                | AsJagged(AsDtype('uint8'), ...\n",
      "event/fIsValid       | bool                     | AsDtype('bool')\n"
     ]
    }
   ],
   "source": [
    "t.show()"
   ]
  },
  {
   "cell_type": "markdown",
   "metadata": {},
   "source": [
    "If the large output from the `show` method is not to your liking, you can also use the `keys` method (more dict-like interphase!) to just get a list of the names of each field. Then, once you identify the one you are interested in, you can do the following to get more information on that particular branch."
   ]
  },
  {
   "cell_type": "code",
   "execution_count": 88,
   "metadata": {},
   "outputs": [
    {
     "name": "stdout",
     "output_type": "stream",
     "text": [
      "int32_t\n",
      "AsDtype('>i4')\n"
     ]
    }
   ],
   "source": [
    "# Other ways to get the same information\n",
    "print(t[\"event/fNtrack\"].typename)\n",
    "print(t[\"event/fNtrack\"].interpretation)"
   ]
  },
  {
   "cell_type": "markdown",
   "metadata": {},
   "source": [
    "Suppose you already know the exact branch you want to access, and you just want to work with the data. To do that, you need to use the `array` method for a particular branch, which will return a special type of array."
   ]
  },
  {
   "cell_type": "code",
   "execution_count": 89,
   "metadata": {},
   "outputs": [
    {
     "data": {
      "text/html": [
       "<pre>[600,\n",
       " 604,\n",
       " 603,\n",
       " 594,\n",
       " 595,\n",
       " 598,\n",
       " 595,\n",
       " 600,\n",
       " 592,\n",
       " 598,\n",
       " ...,\n",
       " 603,\n",
       " 605,\n",
       " 609,\n",
       " 599,\n",
       " 587,\n",
       " 598,\n",
       " 600,\n",
       " 596,\n",
       " 593]\n",
       "------------------\n",
       "backend: cpu\n",
       "nbytes: 4.0 kB\n",
       "type: 1000 * int32</pre>"
      ],
      "text/plain": [
       "<Array [600, 604, 603, 594, 595, ..., 598, 600, 596, 593] type='1000 * int32'>"
      ]
     },
     "execution_count": 89,
     "metadata": {},
     "output_type": "execute_result"
    }
   ],
   "source": [
    "t[\"event/fNtrack\"].array()"
   ]
  },
  {
   "cell_type": "markdown",
   "metadata": {},
   "source": [
    "Notice that this is not a regular Numpy array, but is in fact a new class of object. This is an *Awkard* array. We will see more of them later and see just how powerful they are, but for now just know that these arrays solve the limitation we saw Numpy arrays have: Awkward arrays can store jagged data (i.e. it can contain sub-arrays of different sizes)."
   ]
  },
  {
   "cell_type": "code",
   "execution_count": 90,
   "metadata": {},
   "outputs": [
    {
     "data": {
      "text/plain": [
       "awkward.highlevel.Array"
      ]
     },
     "execution_count": 90,
     "metadata": {},
     "output_type": "execute_result"
    }
   ],
   "source": [
    "type(t[\"event/fNtrack\"].array())"
   ]
  },
  {
   "cell_type": "code",
   "execution_count": 91,
   "metadata": {},
   "outputs": [
    {
     "data": {
      "text/plain": [
       "['event',\n",
       " 'event/TObject',\n",
       " 'event/TObject/fUniqueID',\n",
       " 'event/TObject/fBits',\n",
       " 'event/fType[20]',\n",
       " 'event/fEventName',\n",
       " 'event/fNtrack',\n",
       " 'event/fNseg',\n",
       " 'event/fNvertex',\n",
       " 'event/fFlag',\n",
       " 'event/fTemperature',\n",
       " 'event/fMeasures[10]',\n",
       " 'event/fMatrix[4][4]',\n",
       " 'event/fClosestDistance',\n",
       " 'event/fEvtHdr',\n",
       " 'event/fEvtHdr/fEvtHdr.fEvtNum',\n",
       " 'event/fEvtHdr/fEvtHdr.fRun',\n",
       " 'event/fEvtHdr/fEvtHdr.fDate',\n",
       " 'event/fTracks',\n",
       " 'event/fTracks/fTracks.fUniqueID',\n",
       " 'event/fTracks/fTracks.fBits',\n",
       " 'event/fTracks/fTracks.fPx',\n",
       " 'event/fTracks/fTracks.fPy',\n",
       " 'event/fTracks/fTracks.fPz',\n",
       " 'event/fTracks/fTracks.fRandom',\n",
       " 'event/fTracks/fTracks.fMass2',\n",
       " 'event/fTracks/fTracks.fBx',\n",
       " 'event/fTracks/fTracks.fBy',\n",
       " 'event/fTracks/fTracks.fMeanCharge',\n",
       " 'event/fTracks/fTracks.fXfirst',\n",
       " 'event/fTracks/fTracks.fXlast',\n",
       " 'event/fTracks/fTracks.fYfirst',\n",
       " 'event/fTracks/fTracks.fYlast',\n",
       " 'event/fTracks/fTracks.fZfirst',\n",
       " 'event/fTracks/fTracks.fZlast',\n",
       " 'event/fTracks/fTracks.fCharge',\n",
       " 'event/fTracks/fTracks.fVertex[3]',\n",
       " 'event/fTracks/fTracks.fNpoint',\n",
       " 'event/fTracks/fTracks.fValid',\n",
       " 'event/fTracks/fTracks.fNsp',\n",
       " 'event/fTracks/fTracks.fPointValue',\n",
       " 'event/fTracks/fTracks.fTriggerBits.fUniqueID',\n",
       " 'event/fTracks/fTracks.fTriggerBits.fBits',\n",
       " 'event/fTracks/fTracks.fTriggerBits.fNbits',\n",
       " 'event/fTracks/fTracks.fTriggerBits.fNbytes',\n",
       " 'event/fTracks/fTracks.fTriggerBits.fAllBits',\n",
       " 'event/fTracks/fTracks.fTArray[3]',\n",
       " 'event/fHighPt',\n",
       " 'event/fMuons',\n",
       " 'event/fLastTrack',\n",
       " 'event/fWebHistogram',\n",
       " 'event/fH',\n",
       " 'event/fTriggerBits',\n",
       " 'event/fTriggerBits/fTriggerBits.TObject',\n",
       " 'event/fTriggerBits/fTriggerBits.TObject/fTriggerBits.fUniqueID',\n",
       " 'event/fTriggerBits/fTriggerBits.TObject/fTriggerBits.fBits',\n",
       " 'event/fTriggerBits/fTriggerBits.fNbits',\n",
       " 'event/fTriggerBits/fTriggerBits.fNbytes',\n",
       " 'event/fTriggerBits/fTriggerBits.fAllBits',\n",
       " 'event/fIsValid']"
      ]
     },
     "execution_count": 91,
     "metadata": {},
     "output_type": "execute_result"
    }
   ],
   "source": [
    "t.keys()"
   ]
  },
  {
   "cell_type": "markdown",
   "metadata": {},
   "source": [
    "The data we have at hand at the moment does not contain anything that would allow us to see this in action, but we can synthesize an example. We will see what other things Awkward arrays allow us to do later."
   ]
  },
  {
   "cell_type": "code",
   "execution_count": 92,
   "metadata": {},
   "outputs": [
    {
     "data": {
      "text/plain": [
       "awkward.highlevel.Array"
      ]
     },
     "execution_count": 92,
     "metadata": {},
     "output_type": "execute_result"
    }
   ],
   "source": [
    "import awkward as ak\n",
    "\n",
    "arr = ak.Array([\n",
    "    [1, 2],\n",
    "    [1, 2, 5, 8],\n",
    "    [],\n",
    "    [2, 5, 8, 2, 5, 8]\n",
    "])\n",
    "type(arr[0])"
   ]
  },
  {
   "cell_type": "code",
   "execution_count": 93,
   "metadata": {},
   "outputs": [
    {
     "data": {
      "text/html": [
       "<pre>[[1, 2],\n",
       " [1, 2, 5, 8],\n",
       " [],\n",
       " [2, 5, 8, 2, 5, 8]]\n",
       "---------------------\n",
       "backend: cpu\n",
       "nbytes: 136 B\n",
       "type: 4 * var * int64</pre>"
      ],
      "text/plain": [
       "<Array [[1, 2], [1, 2, ..., 8], ..., [2, 5, 8, 2, 5, 8]] type='4 * var * int64'>"
      ]
     },
     "execution_count": 93,
     "metadata": {},
     "output_type": "execute_result"
    }
   ],
   "source": [
    "arr"
   ]
  },
  {
   "cell_type": "markdown",
   "metadata": {},
   "source": [
    "One important thing to note is that not all data in a TTree can be loaded using into Awkard arrays. While Uproot and Awkward Arrays provide powerful tools for reading and manipulating data from ROOt TTrees in Python, there are certain limitations. For instance:\n",
    "\n",
    "- **Unsupported Data Types:** Some complex or custom ROOT data types (such as user-defined C++ classes, certain objects, or containers) may not be fully supported by Uproot or may not map cleanly into Awkward Arrays.\n",
    "- **Unusual Branch Structures:** TTrees with deeply nested or highly irregular structures, or those using features specific to ROOT (like pointers, references, or certain compression schemes), might not be accessible or interpretable outside of ROOT itself.\n",
    "- **ROOT-Specific Functionality:** Features like friend trees, certain types of object references, or on-the-fly C++ computations (via ROOT’s TTree::Draw or TTree::Scan) are not available in Uproot/Awkward.\n",
    "\n",
    "In such cases, you may need to use the ROOT framework directly (typically via PyROOT or C++) to access, interpret, or process the data. Uproot and Awkward Arrays are best suited for standard, well-structured TTrees with basic data types (numbers, arrays, simple objects) and are not a complete replacement for all ROOT functionalities."
   ]
  },
  {
   "cell_type": "markdown",
   "metadata": {},
   "source": [
    "## Writing to a ROOT file\n",
    "\n",
    "Uproot can not only read ROOT files, but it can also write them too! To do this, the file must be opened first. We can choose to create a completly new file to open or update an existing one. The funtions we can use to open a ROOT file to write to it are:\n",
    "\n",
    "  * `uproot.recreate()`: Creates a new ROOT file with the given filename. If it already exists, it will be overwritten by an empty ROOT file of the same name. Returns a file handle that can be used to write data.\n",
    "  * `uproot.update()`: Opens an existing ROOT file in \"update\" mode. It is used for modifying existing files without deleting them. Returns a file handle that can be used to write data.\n",
    "\n",
    "For instance, we can create a file called `newrootfile.root` in the following way."
   ]
  },
  {
   "cell_type": "code",
   "execution_count": 94,
   "metadata": {},
   "outputs": [
    {
     "data": {
      "text/plain": [
       "<WritableDirectory '/' at 0x00011e82a780>"
      ]
     },
     "execution_count": 94,
     "metadata": {},
     "output_type": "execute_result"
    }
   ],
   "source": [
    "myfile = uproot.recreate(\"newrootfile.root\")\n",
    "myfile"
   ]
  },
  {
   "cell_type": "code",
   "execution_count": 95,
   "metadata": {},
   "outputs": [
    {
     "name": "stdout",
     "output_type": "stream",
     "text": [
      "newrootfile.root\n"
     ]
    }
   ],
   "source": [
    "!ls newrootfile.root"
   ]
  },
  {
   "cell_type": "markdown",
   "metadata": {},
   "source": [
    "You can then use the dict-like interphase of the `myfile` object to add things to the root file! For instance, we could store a string in the file."
   ]
  },
  {
   "cell_type": "code",
   "execution_count": 96,
   "metadata": {},
   "outputs": [
    {
     "name": "stdout",
     "output_type": "stream",
     "text": [
      "Keys: ['some_str;1']\n"
     ]
    },
    {
     "data": {
      "text/plain": [
       "[<TObjString 'Wow! I added this to a ROOT file myself!' at 0x00011ee47d10>]"
      ]
     },
     "execution_count": 96,
     "metadata": {},
     "output_type": "execute_result"
    }
   ],
   "source": [
    "# Adding a string\n",
    "myfile[\"some_str\"] = \"Wow! I added this to a ROOT file myself!\"\n",
    "print(f\"Keys: {myfile.keys()}\")\n",
    "myfile.values()"
   ]
  },
  {
   "cell_type": "markdown",
   "metadata": {},
   "source": [
    "Side note: note that if we re-write the string in the ROOT file, it appears as if a new element is added with a new suffix `;2`. What's actually happening is that the old value is conserved, but you can only access it by specifying that you want the value with key `some_str;1`. If you try to access the value with key `some_str`, it will default to the latest version of the value."
   ]
  },
  {
   "cell_type": "code",
   "execution_count": 97,
   "metadata": {},
   "outputs": [
    {
     "name": "stdout",
     "output_type": "stream",
     "text": [
      "Keys: ['some_str;1', 'some_str;2']\n"
     ]
    },
    {
     "data": {
      "text/plain": [
       "[<TObjString 'Wow! I added this to a ROOT file myself!' at 0x00011ee47f50>,\n",
       " <TObjString 'I added the same key again, but with a different value!' at 0x00011ee68110>]"
      ]
     },
     "execution_count": 97,
     "metadata": {},
     "output_type": "execute_result"
    }
   ],
   "source": [
    "myfile[\"some_str\"] = \"I added the same key again, but with a different value!\"\n",
    "print(f\"Keys: {myfile.keys()}\")\n",
    "myfile.values()"
   ]
  },
  {
   "cell_type": "code",
   "execution_count": 98,
   "metadata": {},
   "outputs": [
    {
     "data": {
      "text/plain": [
       "<TObjString 'Wow! I added this to a ROOT file myself!' at 0x00011ee68410>"
      ]
     },
     "execution_count": 98,
     "metadata": {},
     "output_type": "execute_result"
    }
   ],
   "source": [
    "myfile[\"some_str;1\"] # Note the versioning"
   ]
  },
  {
   "cell_type": "code",
   "execution_count": 99,
   "metadata": {},
   "outputs": [
    {
     "data": {
      "text/plain": [
       "<TObjString 'I added the same key again, but with a different value!' at 0x00011ee685f0>"
      ]
     },
     "execution_count": 99,
     "metadata": {},
     "output_type": "execute_result"
    }
   ],
   "source": [
    "myfile[\"some_str;2\"]"
   ]
  },
  {
   "cell_type": "code",
   "execution_count": 100,
   "metadata": {},
   "outputs": [
    {
     "data": {
      "text/plain": [
       "<TObjString 'I added the same key again, but with a different value!' at 0x00011ee68650>"
      ]
     },
     "execution_count": 100,
     "metadata": {},
     "output_type": "execute_result"
    }
   ],
   "source": [
    "myfile[\"some_str\"]"
   ]
  },
  {
   "cell_type": "markdown",
   "metadata": {},
   "source": [
    "Let's now add something a bit more interesting: a histogram! If we already have a `hist.Hist` object, or a histogram that is already in another ROOT file, we can copy that to our own ROOT file."
   ]
  },
  {
   "cell_type": "code",
   "execution_count": 101,
   "metadata": {},
   "outputs": [
    {
     "data": {
      "text/plain": [
       "[<TObjString 'Wow! I added this to a ROOT file myself!' at 0x00011ed6b590>,\n",
       " <TObjString 'I added the same key again, but with a different value!' at 0x00011ed6b0b0>,\n",
       " <TH1F (version 3) at 0x00011ed44050>]"
      ]
     },
     "execution_count": 101,
     "metadata": {},
     "output_type": "execute_result"
    }
   ],
   "source": [
    "# Adding a histogram\n",
    "myfile[\"some_histogram\"] = file[\"hstat;1\"]\n",
    "myfile.values()"
   ]
  },
  {
   "cell_type": "markdown",
   "metadata": {},
   "source": [
    "Alternatively, we can pass a tuple where the first element is an array representing the height of the bins, and the second element corresponds to the edges of these same bins. Just as an illustrative example, lets make a normal distribution that we can generate with NumPy."
   ]
  },
  {
   "cell_type": "code",
   "execution_count": 102,
   "metadata": {},
   "outputs": [
    {
     "data": {
      "text/plain": [
       "(array([    78,   2035,  26527, 142092, 328250, 329578, 142890,  26409,\n",
       "          2069,     72]),\n",
       " array([-4.74956297e+00, -3.79984746e+00, -2.85013196e+00, -1.90041645e+00,\n",
       "        -9.50700940e-01, -9.85432722e-04,  9.48730075e-01,  1.89844558e+00,\n",
       "         2.84816109e+00,  3.79787660e+00,  4.74759211e+00]))"
      ]
     },
     "execution_count": 102,
     "metadata": {},
     "output_type": "execute_result"
    }
   ],
   "source": [
    "import numpy as np\n",
    "hist_data = np.histogram(\n",
    "    np.random.normal(0, 1, 1000000)\n",
    ")\n",
    "hist_data"
   ]
  },
  {
   "cell_type": "markdown",
   "metadata": {},
   "source": [
    "This time, instead of placing the histogram at the root directory of the ROOT file, lets put it in a sub-directory. Doing this is as easy as giving the path and name of the histogram you are introducing into the ROOT file using the dict-like interphase."
   ]
  },
  {
   "cell_type": "code",
   "execution_count": 108,
   "metadata": {},
   "outputs": [],
   "source": [
    "# Adding a histogram within a nested directory\n",
    "myfile[\"nested_directory/another_histogram\"] = np.histogram(\n",
    "    np.random.normal(0, 1, 1000000)\n",
    ")"
   ]
  },
  {
   "cell_type": "code",
   "execution_count": 104,
   "metadata": {},
   "outputs": [
    {
     "name": "stderr",
     "output_type": "stream",
     "text": [
      "/Users/roycruz/Local/PythonHEP/venv/lib/python3.13/site-packages/mplhep/utils.py:577: UserWarning: Integer weights indicate poissonian data. Will calculate Garwood interval if ``scipy`` is installed. Otherwise errors will be set to ``sqrt(w2)``.\n",
      "  self.errors()\n"
     ]
    },
    {
     "data": {
      "text/plain": [
       "[StairsArtists(stairs=<matplotlib.patches.StepPatch object at 0x11ed9ad50>, errorbar=<ErrorbarContainer object of 3 artists>, legend_artist=<ErrorbarContainer object of 3 artists>)]"
      ]
     },
     "execution_count": 104,
     "metadata": {},
     "output_type": "execute_result"
    },
    {
     "data": {
      "image/png": "[encoded data removed]",
      "text/plain": [
       "<Figure size 640x480 with 1 Axes>"
      ]
     },
     "metadata": {},
     "output_type": "display_data"
    }
   ],
   "source": [
    "myfile[\"nested_directory/another_histogram;1\"].to_hist().plot()"
   ]
  },
  {
   "cell_type": "markdown",
   "metadata": {},
   "source": [
    "Lets now add a TTree to our file. We can do this in two ways. First, we can use the dict-like interphase as we have been doing so far, and pass a dictionary as the value. Each key of the dictionary will correspond to the name of the TBranch that forms part of the TTree, and the value for each key corresponds to the actual data."
   ]
  },
  {
   "cell_type": "code",
   "execution_count": null,
   "metadata": {},
   "outputs": [],
   "source": [
    "# One way to add branches\n",
    "myfile[\"tree1\"] = {\n",
    "    \"x\": np.random.randint(0, 10, 1000000),\n",
    "    \"y\": np.random.normal(0, 1, 1000000),\n",
    "}"
   ]
  },
  {
   "cell_type": "markdown",
   "metadata": {},
   "source": [
    "If you wanted to add more data to this TTree, you can use the `extend` method."
   ]
  },
  {
   "cell_type": "code",
   "execution_count": null,
   "metadata": {},
   "outputs": [],
   "source": [
    "myfile[\"tree1\"].extend(\n",
    "    {\"x\": np.random.randint(0, 10, 1000000), \"y\": np.random.normal(0, 1, 1000000)}\n",
    ")\n",
    "myfile[\"tree1\"].extend(\n",
    "    {\"x\": np.random.randint(0, 10, 1000000), \"y\": np.random.normal(0, 1, 1000000)}\n",
    ")"
   ]
  },
  {
   "cell_type": "markdown",
   "metadata": {},
   "source": [
    "Another way to add data to instantiate a TTree and store data in it is by using the `mktree` (i.e., \"make tree\") method. This way of adding data can be better, as it gives you more control over the type of each TBranch (notice that we didn't specify what type of data we put in the tree when we used the previous method; we left the computer to figure that out by itself!)."
   ]
  },
  {
   "cell_type": "code",
   "execution_count": 109,
   "metadata": {},
   "outputs": [],
   "source": [
    "# Another way to add baskets\n",
    "myfile.mktree(\"tree2\", {\"x\": np.int32, \"y\": np.float64})\n",
    "for _ in range(20):\n",
    "    myfile[\"tree2\"].extend(\n",
    "        {\"x\": np.random.randint(0, 10, 1000000), \"y\": np.random.normal(0, 1, 1000000)}\n",
    "    )"
   ]
  },
  {
   "cell_type": "markdown",
   "metadata": {},
   "source": [
    "Once we have stored data in our TTree, we can check the number of baskets into which the data is divided."
   ]
  },
  {
   "cell_type": "code",
   "execution_count": 110,
   "metadata": {},
   "outputs": [
    {
     "data": {
      "text/plain": [
       "20"
      ]
     },
     "execution_count": 110,
     "metadata": {},
     "output_type": "execute_result"
    }
   ],
   "source": [
    "# Each call to extend create a new basket in the `tree2` branch\n",
    "myfile[\"tree2\"].num_baskets"
   ]
  },
  {
   "cell_type": "markdown",
   "metadata": {},
   "source": [
    "The list of data types that can be written to files can be found here: [link](https://uproot.readthedocs.io/en/latest/basic.html#writing-objects-to-a-file)"
   ]
  },
  {
   "cell_type": "markdown",
   "metadata": {},
   "source": [
    "## Moving on\n",
    "\n",
    "We now have some of the basic knowledge required to work with ROOT files using Uproot. We will now go on to apply what we have learned to explore and analyze some simulated data!"
   ]
  }
 ],
 "metadata": {
  "kernelspec": {
   "display_name": "venv",
   "language": "python",
   "name": "python3"
  },
  "language_info": {
   "codemirror_mode": {
    "name": "ipython",
    "version": 3
   },
   "file_extension": ".py",
   "mimetype": "text/x-python",
   "name": "python",
   "nbconvert_exporter": "python",
   "pygments_lexer": "ipython3",
   "version": "3.13.1"
  }
 },
 "nbformat": 4,
 "nbformat_minor": 2
}
