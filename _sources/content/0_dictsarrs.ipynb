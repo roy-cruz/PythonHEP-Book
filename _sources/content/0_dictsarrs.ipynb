{
 "cells": [
  {
   "cell_type": "markdown",
   "metadata": {},
   "source": [
    "# Python Review"
   ]
  },
  {
   "cell_type": "markdown",
   "metadata": {},
   "source": [
    "This tutorial assumes some basic knowledge of Python. However, in order to be able to work with HEP data through Python, it is convenient to review some fundamental objects in Python. In this first chapter, we will be reviewing:\n",
    "- Dictionaries\n",
    "- Arrays and lists"
   ]
  },
  {
   "cell_type": "markdown",
   "metadata": {},
   "source": [
    "## Dictionaries\n",
    "Python dictionaries map a key to a value of arbitrary type. The type of the key must be:\n",
    "- Immutable\n",
    "- Hashable (i.e. `__hash__` method must be defined)\n",
    "- Equality logic (i.e., `__eq__` method must be defined)\n",
    "The most common types that are used as keys that obey these requirements are `int` and `str`. The values of the dictionary, on the other hand, have no restriction and can be of any type. This means it can be `int`, `float`, `list`, `dict`, etc.\n",
    "\n",
    "In order to access a value, you need to give its corresponding key."
   ]
  },
  {
   "cell_type": "code",
   "execution_count": null,
   "metadata": {},
   "outputs": [],
   "source": [
    "fruitdict = {\n",
    "    \"apples\": \"are red\",\n",
    "    \"bananas\": 2,\n",
    "    \"pears\": [3, 4, 5],\n",
    "}\n",
    "\n",
    "fruitdict[\"apples\"]"
   ]
  },
  {
   "cell_type": "markdown",
   "metadata": {},
   "source": [
    "If you wish to add a new key-value pair, you can do it as follows:"
   ]
  },
  {
   "cell_type": "code",
   "execution_count": null,
   "metadata": {},
   "outputs": [],
   "source": [
    "fruitdict[\"oranges\"] = {\"clementines\": \"small\", \"tangerines\": \"large\"}\n",
    "fruitdict"
   ]
  },
  {
   "cell_type": "markdown",
   "metadata": {},
   "source": [
    "You can also iterate over the elements of a dictionary."
   ]
  },
  {
   "cell_type": "code",
   "execution_count": null,
   "metadata": {},
   "outputs": [],
   "source": [
    "for fruit in fruitdict:\n",
    "    print(fruit, fruitdict[fruit])"
   ]
  },
  {
   "cell_type": "code",
   "execution_count": null,
   "metadata": {},
   "outputs": [],
   "source": [
    "for fruit, value in fruitdict.items():\n",
    "    print(\"fruity key: \", fruit)\n",
    "    print(\"fruity value: \", value)"
   ]
  },
  {
   "cell_type": "code",
   "execution_count": null,
   "metadata": {},
   "outputs": [],
   "source": [
    "for value in fruitdict.values():\n",
    "    print(\"fruity value: \", value)"
   ]
  },
  {
   "cell_type": "markdown",
   "metadata": {},
   "source": [
    "As you can see, this type of data structure is very flexible, and can serve as a very convenient way of organizing data obtained during collisions in CMS."
   ]
  },
  {
   "cell_type": "code",
   "execution_count": null,
   "metadata": {},
   "outputs": [],
   "source": [
    "collision_dict = {\n",
    "    \"mu_pt\": [1, 2, 3, 4],\n",
    "    \"mu_energy\": [1, 2, 3, 4],\n",
    "    \"mu_charge\": [1, -1, -1, 1],\n",
    "    \"miss_pt\": 40,\n",
    "}\n",
    "collision_dict[\"mu_charge\"]"
   ]
  },
  {
   "cell_type": "markdown",
   "metadata": {},
   "source": [
    "## Lists and arrays"
   ]
  },
  {
   "cell_type": "markdown",
   "metadata": {},
   "source": [
    "Lists in Python are ordered collections that can hold a variety of object types, such as numbers, strings, or even other lists. They are mutable, meaning you can change their contents (add, remove, or modify elements) after creation. Lists are defined using square brackets, for example... "
   ]
  },
  {
   "cell_type": "code",
   "execution_count": null,
   "metadata": {},
   "outputs": [],
   "source": [
    "lst1 = [1, 2, 3, 4, 5]\n",
    "lst2 = [5, 4, 3, 2, 1]"
   ]
  },
  {
   "cell_type": "markdown",
   "metadata": {},
   "source": [
    "For purposes of data analysis, it turns out that these are too slow, and so an alternative is to use NumPy arrays. NumPy arrays are powerful data structures that allow for efficient storage and manipulation of large numerical datasets. To create a NumPy array, we can do the following:"
   ]
  },
  {
   "cell_type": "code",
   "execution_count": null,
   "metadata": {},
   "outputs": [],
   "source": [
    "import numpy as np\n",
    "\n",
    "arr1 = np.array(\n",
    "    lst1\n",
    ")\n",
    "\n",
    "arr2 = np.array(\n",
    "    lst2\n",
    ")"
   ]
  },
  {
   "cell_type": "markdown",
   "metadata": {},
   "source": [
    "While these two data structures look similar on the surface, they are fundamentally different. The main differences are:\n",
    "  * Type and structure\n",
    "    * Lists can store elements of different data types, are dynamically sized and are implemented as linked lists\n",
    "  * Performance\n",
    "    * NumPy arrays can only store the same data type, has a fixed size once created and is implemented as contiguous blocks of memory.\n",
    "    * Lists < NumPy\n",
    "    * NumPy makes use of highly optimized compiled code\n",
    "    * Allows for vectorized operations\n",
    "  * Features\n",
    "    * NumPy has a wider range of mathematical functions and operations and supports broadcasting.\n",
    "  * Indexing & slicing\n",
    "    * NumPy provides advanced indexing and slicing capabilities."
   ]
  },
  {
   "cell_type": "markdown",
   "metadata": {},
   "source": [
    "### Types and structure\n",
    "Python lists can store elements of different data types and are implemented as linked lists, allowing dynamic resizing and heterogeneous data. In contrast, NumPy arrays require* all elements to be of the same data type and are stored as contiguous blocks of memory, enabling efficient storage and fast numerical operations due to their homogeneous and fixed-size structure."
   ]
  },
  {
   "cell_type": "code",
   "execution_count": null,
   "metadata": {},
   "outputs": [],
   "source": [
    "import sys\n",
    "\n",
    "# Memory usage of Python lists and NumPy arrays\n",
    "print(f\"Memory usage of lst1 (Python list): {sys.getsizeof(lst1)} bytes\")\n",
    "print(f\"Memory usage of arr1 (NumPy array): {arr1.nbytes} bytes\")\n",
    "\n",
    "# Show element types\n",
    "print(f\"Type of elements in lst1: {type(lst1[0])}\")\n",
    "print(f\"Type of elements in arr1: {arr1.dtype}\")"
   ]
  },
  {
   "cell_type": "markdown",
   "metadata": {},
   "source": [
    "In theory, NumPy allows you to create an array of different data types. However, what results is actually an array of pointers to the object themselves, which means you are forgoing the main benefits of using arrays to work with something that could've been a list."
   ]
  },
  {
   "cell_type": "code",
   "execution_count": null,
   "metadata": {},
   "outputs": [],
   "source": [
    "# Show that lists can hold mixed types, arrays cannot\n",
    "mixed_list = [1, \"two\", 3.0]\n",
    "print(f\"Python list with mixed types: {mixed_list}\")\n",
    "\n",
    "mixed_arr = np.array([1, \"two\", 3.0])\n",
    "print(f\"NumPy array with mixed types: {mixed_arr}, dtype: {mixed_arr.dtype}\")"
   ]
  },
  {
   "cell_type": "markdown",
   "metadata": {},
   "source": [
    "### Performance\n",
    "\n",
    "NumPy arrays are significantly faster and more memory-efficient than Python lists for numerical operations. This is because arrays store data in contiguous blocks of memory and use fixed data types, allowing for vectorized operations implemented in optimized C code. In contrast, Python lists are collections of references to objects, which adds overhead and prevents efficient computation. As a result, operations on arrays can be performed much faster and with less memory usage compared to equivalent operations on lists. This performance advantage is especially important when working with large datasets or performing complex mathematical computations."
   ]
  },
  {
   "cell_type": "code",
   "execution_count": null,
   "metadata": {},
   "outputs": [],
   "source": [
    "%%timeit\n",
    "# Slow way\n",
    "sumrslt = []\n",
    "for i, j in zip(arr1, arr2):\n",
    "    sumrslt.append(i + j)"
   ]
  },
  {
   "cell_type": "code",
   "execution_count": null,
   "metadata": {},
   "outputs": [],
   "source": [
    "%%timeit\n",
    "# Faster way!\n",
    "rsltarr = arr1 + arr2 # It also looks much nicer!"
   ]
  },
  {
   "cell_type": "markdown",
   "metadata": {},
   "source": [
    "When we speak of vectorized operations, we mean the application of a single operation to an entire array at once, using optimized low-level code (often in C), which takes advantage of CPU instructions that can process multiple data points in a single step.\n",
    "\n",
    "```{figure} ./assets/vectorized.png\n",
    "---\n",
    "height: 150px\n",
    "name: arrs2d_1\n",
    "---\n",
    "Illutration of a vectorized operation. (Source: [link](https://indico.cern.ch/event/1287965/contributions/5411730/attachments/2685135/4690137/VectorParallelismMultiCoreProcs.pdf))\n",
    "```"
   ]
  },
  {
   "cell_type": "markdown",
   "metadata": {},
   "source": [
    "### Features\n",
    "\n",
    "NumPy offers a wide range of operations that can be performed efficiently between two arrays or to a singular array, providing both speed and syntactic clarity compared to equivalent list-based implementations. Some useful examples are:"
   ]
  },
  {
   "cell_type": "code",
   "execution_count": null,
   "metadata": {},
   "outputs": [],
   "source": [
    "# Mathematical operations\n",
    "print(\"{} - {} = {}\".format(arr1, arr2, arr1 - arr2))\n",
    "print(\"{} / {} = {}\".format(arr1, arr2, arr1 / arr2))\n",
    "print(\"{} * {} = {}\".format(arr1, arr2, arr1 * arr2))\n",
    "print(\"{} % {} = {}\".format(arr1, arr2, arr1 % arr2))\n",
    "print()\n",
    "\n",
    "# Comparison operations\n",
    "eq_comp = arr1 == arr2\n",
    "print(\"{} == {} = {}\".format(arr1, arr2, eq_comp))\n",
    "\n",
    "ineq_comp = arr1 != arr2\n",
    "print(\"{} != {} = {}\".format(arr1, arr2, ineq_comp))\n",
    "\n",
    "print(\"{} < {} = {}\".format(arr1, arr2, arr1 < arr2))\n",
    "print()\n",
    "\n",
    "# Logical operations\n",
    "print(\"NOT: ~{} = {}\".format(eq_comp, ~eq_comp))\n",
    "print(\"AND: {} & {} = {}\".format(ineq_comp, eq_comp, ineq_comp & eq_comp))\n",
    "print(\"OR: {} | {} = {}\".format(eq_comp, ineq_comp, eq_comp | ineq_comp))"
   ]
  },
  {
   "cell_type": "markdown",
   "metadata": {},
   "source": [
    "Note that arrays and lists of booleans can also be used to filter other arrays. For instance..."
   ]
  },
  {
   "cell_type": "code",
   "execution_count": null,
   "metadata": {},
   "outputs": [],
   "source": [
    "print(\"Original:\")\n",
    "print(\n",
    "    arr1\n",
    ")\n",
    "filter = [True, False, True, False, True]\n",
    "print(\"Filtered using {}:\".format(filter))\n",
    "print(\n",
    "    arr1[[True, False, True, False, True]]\n",
    ")  # This will print only the elements of arr1 that are greater than 2"
   ]
  },
  {
   "cell_type": "markdown",
   "metadata": {},
   "source": [
    "**Exercise**: Given the arrays `arr1` and `arr2` defined earlier, create a boolean array that selects elements from `arr1` that satisfy **at least one** of the following conditions:\n",
    "\n",
    "1. The sum of the corresponding elements in `arr1` and `arr2` is greater than 6.\n",
    "2. The element in `arr1` is **not** equal to the element in `arr2`.\n",
    "\n",
    "Construct the boolean array using NumPy operations, comparison operators, and boolean logic (such as `|` for OR, `~` for NOT).\n",
    "\n",
    "*Hint: Use vectorized operations and logical operators to combine the conditions. Be mindful of the order of operations (See included figure)!!*\n",
    "\n",
    "```{figure} ./assets/bitwise-operator-parentheses.png\n",
    "---\n",
    "height: 150px\n",
    "name: operations\n",
    "---\n",
    "Order of operations illustrated\n",
    "```"
   ]
  },
  {
   "cell_type": "markdown",
   "metadata": {},
   "source": [
    "### Indexing & Slicing\n",
    "\n",
    "In order to access the elements of lists or arrays, we can provide the corresponding index. For instance, to obtain a single value from a list/array, we can do"
   ]
  },
  {
   "cell_type": "code",
   "execution_count": null,
   "metadata": {},
   "outputs": [],
   "source": [
    "arr1[4]"
   ]
  },
  {
   "cell_type": "code",
   "execution_count": null,
   "metadata": {},
   "outputs": [],
   "source": [
    "# 0-indexing!\n",
    "arr1[0]"
   ]
  },
  {
   "cell_type": "code",
   "execution_count": null,
   "metadata": {},
   "outputs": [],
   "source": [
    "# Negative indexing also works!\n",
    "arr1[-2]"
   ]
  },
  {
   "cell_type": "markdown",
   "metadata": {},
   "source": [
    "If what we want is a range of elements, we can slice the array/list by putting a colon between the starting and stopping index. Note, however, that the stopping index is *not* included in the result."
   ]
  },
  {
   "cell_type": "code",
   "execution_count": null,
   "metadata": {},
   "outputs": [],
   "source": [
    "arr1[2:4]"
   ]
  },
  {
   "cell_type": "markdown",
   "metadata": {},
   "source": [
    "But what if our data is multi-dimensional? For instance, we could have:"
   ]
  },
  {
   "cell_type": "code",
   "execution_count": null,
   "metadata": {},
   "outputs": [],
   "source": [
    "lst3d = [[[ 0,  1,  2,  3,  4],\n",
    "        [ 5,  6,  7,  8,  9],\n",
    "        [10, 11, 12, 13, 14]],\n",
    "\n",
    "       [[15, 16, 17, 18, 19],\n",
    "        [20, 21, 22, 23, 24],\n",
    "        [25, 26, 27, 28, 29]]]\n",
    "lst3d"
   ]
  },
  {
   "cell_type": "markdown",
   "metadata": {},
   "source": [
    "Because this is a multi-dimensional list (i.e. lists inside lists), we need to provide an index for each dimensions."
   ]
  },
  {
   "cell_type": "code",
   "execution_count": null,
   "metadata": {},
   "outputs": [],
   "source": [
    "lst3d[0][1]"
   ]
  },
  {
   "cell_type": "markdown",
   "metadata": {},
   "source": [
    "If we wanted to obtain the elements highlighted in the following figure, the use of lists as a data structure for multi-dimensional data quickly reaches its limits, and we realize that getting the desired elements is considerably more involved than we would want!\n",
    "\n",
    "```{figure} ./assets/array3d-highlight1.png\n",
    "---\n",
    "height: 150px\n",
    "name: arrs3d_1\n",
    "---\n",
    "3D array slicing example 1\n",
    "```"
   ]
  },
  {
   "cell_type": "code",
   "execution_count": null,
   "metadata": {},
   "outputs": [],
   "source": [
    "lst3d[:][1:][1:]"
   ]
  },
  {
   "cell_type": "markdown",
   "metadata": {},
   "source": [
    "If we represent this same matrix as a multi-dimensional NumPy array, slicing becomes much simpler. In addition, NumPy has helpful and quicker methods for constructing the desired array."
   ]
  },
  {
   "cell_type": "code",
   "execution_count": null,
   "metadata": {},
   "outputs": [],
   "source": [
    "num_elems = 2 * 3 * 5\n",
    "arr1d = np.arange(num_elems)\n",
    "arr3d = arr1d.reshape(2, 3, 5)\n",
    "arr3d"
   ]
  },
  {
   "cell_type": "code",
   "execution_count": null,
   "metadata": {},
   "outputs": [],
   "source": [
    "arr3d[:, 1:, 1:]"
   ]
  },
  {
   "cell_type": "markdown",
   "metadata": {},
   "source": [
    "**Exercise:** Slice the previous 3D array so that you are left with the elements highlighted in the following figure.\n",
    "\n",
    "```{figure} ./assets/array3d-highlight2.png\n",
    "---\n",
    "height: 150px\n",
    "name: arrs3d_2\n",
    "---\n",
    "3D array slicing example 2\n",
    "```"
   ]
  },
  {
   "cell_type": "markdown",
   "metadata": {},
   "source": [
    "Finally, note that similar to how we can use an array of booleans to filter arrays, we can also use an array or list of integers to pick individual elements in an array."
   ]
  },
  {
   "cell_type": "code",
   "execution_count": null,
   "metadata": {},
   "outputs": [],
   "source": [
    "arr1[[0, 2, 4]]"
   ]
  },
  {
   "cell_type": "markdown",
   "metadata": {},
   "source": [
    "## Python Limitations\n",
    "\n",
    "One of the limitations of using the data structures seen so far to handle HEP data is that using them as-is is inneficient. For instance, we could structure our data as follows..."
   ]
  },
  {
   "cell_type": "code",
   "execution_count": null,
   "metadata": {},
   "outputs": [],
   "source": [
    "event_data = [\n",
    "    { # Event 1\n",
    "        \"muon_pt\": np.array([1, 2, 3, 4]),\n",
    "        \"muon_energy\": np.array([1, 2, 3, 4]),\n",
    "        \"n_muons\": 4,\n",
    "        \"e_pt\": np.array([1]),\n",
    "        \"e_energy\": np.array([1]),\n",
    "        \"miss_pt\": 40,\n",
    "    },\n",
    "    { # Event 2\n",
    "        \"muon_pt\": np.array([1, 2]),\n",
    "        \"muon_energy\": np.array([1, 2]),\n",
    "        \"n_muons\": 2,\n",
    "        \"e_pt\": np.array([1, 2]),\n",
    "        \"e_energy\": np.array([1, 2]),\n",
    "        \"miss_pt\": 60,\n",
    "    },\n",
    "    #...\n",
    "]"
   ]
  },
  {
   "cell_type": "markdown",
   "metadata": {},
   "source": [
    "However, this approach means that certain common and neccesary operations become more difficult and very inneficient. For instance, what if we want to only keep events that have two muons? This is certainly possible, but we would lose much of the needed performance to do this over a large amount of data in a reasonable amount of time!"
   ]
  },
  {
   "cell_type": "code",
   "execution_count": null,
   "metadata": {},
   "outputs": [],
   "source": [
    "four_muon_events = []\n",
    "for event in event_data:\n",
    "    if event[\"n_muons\"] == 4:\n",
    "        four_muon_events.append(event)\n",
    "    else:\n",
    "        print(f\"Event with {event[\"n_muons\"]} muons skipped.\")\n",
    "print(four_muon_events)"
   ]
  },
  {
   "cell_type": "markdown",
   "metadata": {},
   "source": [
    "**Quiz:** Why wouldn't making `event_data` an array itself help?"
   ]
  },
  {
   "cell_type": "markdown",
   "metadata": {},
   "source": [
    "Another serious limitation is with NumPy itself, which only allows us to construct homogeneous multi-dimensional arrays. However, in HEP, data is often *not* homogeneous. For instance, if you want an array where each element is an array with the $p_T$ of the muons in a certain event, because the amount of muons can be different for each event, you would be required to make a jagged array (assuming you want efficient computations)! NumPy does not like this..."
   ]
  },
  {
   "cell_type": "code",
   "execution_count": null,
   "metadata": {},
   "outputs": [],
   "source": [
    "# This will produce an error! Read the error message careful and try to understand it.\n",
    "np.array([\n",
    "    [1, 2, 3],\n",
    "    [1],\n",
    "    [5, 7, 8, 100]\n",
    "])"
   ]
  },
  {
   "cell_type": "markdown",
   "metadata": {},
   "source": [
    "In the next chapter, we will be seeing what the HEP community has done in order to allow for the efficient handling of this sort of data in an efficient, Pythonic way."
   ]
  },
  {
   "cell_type": "markdown",
   "metadata": {},
   "source": [
    "## Plotting with Matplotlib"
   ]
  },
  {
   "cell_type": "markdown",
   "metadata": {},
   "source": []
  },
  {
   "cell_type": "code",
   "execution_count": null,
   "metadata": {},
   "outputs": [],
   "source": []
  }
 ],
 "metadata": {
  "kernelspec": {
   "display_name": "venv",
   "language": "python",
   "name": "python3"
  },
  "language_info": {
   "codemirror_mode": {
    "name": "ipython",
    "version": 3
   },
   "file_extension": ".py",
   "mimetype": "text/x-python",
   "name": "python",
   "nbconvert_exporter": "python",
   "pygments_lexer": "ipython3",
   "version": "3.13.1"
  }
 },
 "nbformat": 4,
 "nbformat_minor": 2
}
