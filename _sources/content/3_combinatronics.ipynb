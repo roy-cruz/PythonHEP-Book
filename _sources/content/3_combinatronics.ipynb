{
 "cells": [
  {
   "cell_type": "markdown",
   "metadata": {},
   "source": [
    "# Combinatronics\n",
    "\n",
    "## Review: Awkward Arrays\n",
    "\n",
    "Before we continue, we need to be sure we properly understand how slicing works in Awkard arrays. As we have seen so far, the slicing is just a generalization of slicing in NumPy."
   ]
  },
  {
   "cell_type": "code",
   "execution_count": null,
   "metadata": {},
   "outputs": [],
   "source": [
    "import awkward as ak\n",
    "\n",
    "# Example array\n",
    "array = ak.Array(\n",
    "    [\n",
    "        [0.0, 1.1, 2.2], \n",
    "        [], \n",
    "        [3.3, 4.4], \n",
    "        [5.5], \n",
    "        [6.6, 7.7, 8.8, 9.9]\n",
    "    ]\n",
    ")\n",
    "array"
   ]
  },
  {
   "cell_type": "markdown",
   "metadata": {},
   "source": [
    "**Exercise:** Go over the following examples and try to guess what each of them do before running it. One of them fails. Why?"
   ]
  },
  {
   "cell_type": "code",
   "execution_count": null,
   "metadata": {},
   "outputs": [],
   "source": [
    "array[2]"
   ]
  },
  {
   "cell_type": "code",
   "execution_count": null,
   "metadata": {},
   "outputs": [],
   "source": [
    "array[-1, 1]"
   ]
  },
  {
   "cell_type": "code",
   "execution_count": null,
   "metadata": {},
   "outputs": [],
   "source": [
    "array[2:, 0]"
   ]
  },
  {
   "cell_type": "code",
   "execution_count": null,
   "metadata": {},
   "outputs": [],
   "source": [
    "array[2:, 1:]"
   ]
  },
  {
   "cell_type": "code",
   "execution_count": null,
   "metadata": {},
   "outputs": [],
   "source": [
    "# Why does this one fail?\n",
    "array[:, 0]"
   ]
  },
  {
   "cell_type": "code",
   "execution_count": null,
   "metadata": {},
   "outputs": [],
   "source": [
    "array[[True, False, True, False, True]]"
   ]
  },
  {
   "cell_type": "code",
   "execution_count": null,
   "metadata": {},
   "outputs": [],
   "source": [
    "array > 4"
   ]
  },
  {
   "cell_type": "code",
   "execution_count": null,
   "metadata": {},
   "outputs": [],
   "source": [
    "array"
   ]
  },
  {
   "cell_type": "code",
   "execution_count": null,
   "metadata": {},
   "outputs": [],
   "source": [
    "array[[2, 3, 3, 1]]"
   ]
  },
  {
   "cell_type": "code",
   "execution_count": null,
   "metadata": {},
   "outputs": [],
   "source": [
    "ak.num(array)"
   ]
  },
  {
   "cell_type": "code",
   "execution_count": null,
   "metadata": {},
   "outputs": [],
   "source": [
    "ak.num(array) > 0"
   ]
  },
  {
   "cell_type": "code",
   "execution_count": null,
   "metadata": {},
   "outputs": [],
   "source": [
    "array[ak.num(array) > 0]"
   ]
  },
  {
   "cell_type": "code",
   "execution_count": null,
   "metadata": {},
   "outputs": [],
   "source": [
    "array[ak.num(array) > 0][0]"
   ]
  },
  {
   "cell_type": "code",
   "execution_count": null,
   "metadata": {},
   "outputs": [],
   "source": [
    "array[ak.num(array) > 0, 0]"
   ]
  },
  {
   "cell_type": "code",
   "execution_count": null,
   "metadata": {},
   "outputs": [],
   "source": [
    "array[ak.num(array) > 0][:, 0]"
   ]
  },
  {
   "cell_type": "code",
   "execution_count": null,
   "metadata": {},
   "outputs": [],
   "source": [
    "# A jagged array of booleans!\n",
    "cut = (array * 10 % 2) == 0\n",
    "cut"
   ]
  },
  {
   "cell_type": "code",
   "execution_count": null,
   "metadata": {},
   "outputs": [],
   "source": [
    "array[cut]"
   ]
  },
  {
   "cell_type": "markdown",
   "metadata": {},
   "source": [
    "## Event and particle level cuts\n",
    "\n",
    "Let's now revisit the data we were working with before and see how we could reconstruct the $Z$ peak using a more sound approach."
   ]
  },
  {
   "cell_type": "code",
   "execution_count": null,
   "metadata": {},
   "outputs": [],
   "source": [
    "import uproot\n",
    "\n",
    "file = uproot.open(\n",
    "    \"./uproot-tutorial-file.root\"\n",
    ")\n",
    "tree = file[\"Events\"]"
   ]
  },
  {
   "cell_type": "code",
   "execution_count": null,
   "metadata": {},
   "outputs": [],
   "source": [
    "muons = tree.arrays()"
   ]
  },
  {
   "cell_type": "markdown",
   "metadata": {},
   "source": [
    "From the last chapter, we saw that the $Z$ is quite a massive particle. Thus, we can assume that the muons that result from the decay of this particle tend to have larger momentum. So, lets apply suck a requirement. Notice, however, that this is fundamentally different from what we were doing before, where the mask we made for `tree[\"nMuon\"] == 2` was flat, and thus applied a selection per-event. Now, were apply a selection per-muon. It might seem at first thought that this would be more difficult, but Awkard makes it easy for us!"
   ]
  },
  {
   "cell_type": "code",
   "execution_count": null,
   "metadata": {},
   "outputs": [],
   "source": [
    "# Getting the muon transverse momentum\n",
    "muonpt = muons[\"Muon_pt\"]\n",
    "muonpt"
   ]
  },
  {
   "cell_type": "code",
   "execution_count": null,
   "metadata": {},
   "outputs": [],
   "source": [
    "# Making the muon transverse momentum mask\n",
    "ptcut = muonpt > 20 # GeV\n",
    "ptcut"
   ]
  },
  {
   "cell_type": "markdown",
   "metadata": {},
   "source": [
    "If we now apply this mask to the `muons` array, we effectively filter out all muons that have $p_T \\leq 20\\text{ GeV}$. "
   ]
  },
  {
   "cell_type": "code",
   "execution_count": null,
   "metadata": {},
   "outputs": [],
   "source": [
    "muonpt[ptcut]"
   ]
  },
  {
   "cell_type": "markdown",
   "metadata": {},
   "source": [
    "Using this mask by itself will leave us with events with no muons at all! So, out of this muon-level mask, lets construct an event-level mask which requires there to be at least one muon with over $20 \\text{ GeV}$ in each event. To do this, we will be the `ak.any` function. When applied to an array of booleans, it effectively does the `OR` operation on all of the elements. We specify that we want this to be done per-event, so we include `axis=1` in the argument (`axis=0` would be the outer-most dimension, `axis=1` would be the first innermost dimension, etc.)."
   ]
  },
  {
   "cell_type": "code",
   "execution_count": null,
   "metadata": {},
   "outputs": [],
   "source": [
    "event_ptcut = ak.any(ptcut, axis=1)\n",
    "event_ptcut"
   ]
  },
  {
   "cell_type": "markdown",
   "metadata": {},
   "source": [
    "Let's now apply this to the data."
   ]
  },
  {
   "cell_type": "code",
   "execution_count": null,
   "metadata": {},
   "outputs": [],
   "source": [
    "muons_geq2pt = muons[event_ptcut]\n",
    "muons_geq2pt"
   ]
  },
  {
   "cell_type": "markdown",
   "metadata": {},
   "source": [
    "**Exercise:** Create the exact same `event_cptut` using `ak.max`. Keep in mind that you will have to use the `axis` argument similar to how it was done for `ak.any`."
   ]
  },
  {
   "cell_type": "markdown",
   "metadata": {},
   "source": [
    "## Combinatronics\n",
    "\n",
    "Because we don’t know exactly which process each detected particle originated from (i.e., whether it is part of the signal or background), we must use combinatorics to consider all possible combinations of muons within each event. This combinatorial approach, together with physical constraints such as conservation of charge and energy, allows us to reconstruct the properties of parent particle while helping to suppress background events. Awkward Array provides two key functions for these tasks:\n",
    "\n",
    "- ak.cartesian(): Computes the Cartesian product (cross product) of multiple arrays, generating all possible pairs (or tuples) of elements, one from each array. This is useful for pairing different types of particles or objects within events.\n",
    "- ak.combinations(): Computes all unique combinations of elements from a single array, sampled without replacement. This is especially useful for finding all possible pairs, triplets, etc., of the same particle type within an event, without repeating the same element.\n",
    "\n",
    "In the next chapter, we will be applying these functions to our data in order to improve our dimuon mass spectrum. For now, we will finish this chapter by just seeing how these two functions work.\n",
    "\n",
    "### `ak.cartesian()`"
   ]
  },
  {
   "cell_type": "markdown",
   "metadata": {},
   "source": [
    "As the name suggests, `ak.cartesian()` will perform the cartesian product of an array with another array."
   ]
  },
  {
   "cell_type": "code",
   "execution_count": null,
   "metadata": {},
   "outputs": [],
   "source": [
    "numbers = ak.Array(\n",
    "    [\n",
    "        [1, 2, 3], \n",
    "        [], \n",
    "        [5, 7], \n",
    "        [11]\n",
    "    ]\n",
    ")\n",
    "\n",
    "letters = ak.Array(\n",
    "    [\n",
    "        [\"a\", \"b\"], \n",
    "        [\"c\"], \n",
    "        [\"d\"], \n",
    "        [\"e\", \"f\"]\n",
    "    ]\n",
    ")\n",
    "\n",
    "pairs = ak.cartesian((numbers, letters))\n",
    "pairs"
   ]
  },
  {
   "cell_type": "markdown",
   "metadata": {},
   "source": [
    "To get the first element of each pair, we pass a \"string index\"."
   ]
  },
  {
   "cell_type": "code",
   "execution_count": null,
   "metadata": {},
   "outputs": [],
   "source": [
    "pairs[\"0\"]"
   ]
  },
  {
   "cell_type": "code",
   "execution_count": null,
   "metadata": {},
   "outputs": [],
   "source": [
    "pairs[\"1\"]"
   ]
  },
  {
   "cell_type": "markdown",
   "metadata": {},
   "source": [
    "Note that this is different from passing an integer index."
   ]
  },
  {
   "cell_type": "code",
   "execution_count": null,
   "metadata": {},
   "outputs": [],
   "source": [
    "pairs[0]"
   ]
  },
  {
   "cell_type": "markdown",
   "metadata": {},
   "source": [
    "If you want to separate the first element of each pair to an array and the second element of each pair to another array (something which later on we will see is quite useful), we can use `ak.unzip`."
   ]
  },
  {
   "cell_type": "code",
   "execution_count": null,
   "metadata": {},
   "outputs": [],
   "source": [
    "lefts, rights = ak.unzip(pairs)\n",
    "print(lefts)\n",
    "print(rights)"
   ]
  },
  {
   "cell_type": "markdown",
   "metadata": {},
   "source": [
    "### `ak.combinations`"
   ]
  },
  {
   "cell_type": "markdown",
   "metadata": {},
   "source": [
    "`ak.combinations` generates all unique combinations of a specified size from each sub-array, without repeating elements or considering their order. This is useful for finding all possible pairs, triplets, etc., within each event, allowing you to explore every possible grouping of elements for further analysis."
   ]
  },
  {
   "cell_type": "code",
   "execution_count": null,
   "metadata": {},
   "outputs": [],
   "source": [
    "pairs = ak.combinations(numbers, 2)\n",
    "pairs"
   ]
  },
  {
   "cell_type": "markdown",
   "metadata": {},
   "source": [
    "Because the elements in the sub-arrays line up once they are divided using `ak.unzip`, we can do computations with them"
   ]
  },
  {
   "cell_type": "code",
   "execution_count": null,
   "metadata": {},
   "outputs": [],
   "source": [
    "lefts, rights = ak.unzip(pairs)\n",
    "lefts * rights"
   ]
  },
  {
   "cell_type": "markdown",
   "metadata": {},
   "source": [
    "Moreover, note that we can change the size of the combinations we allow."
   ]
  },
  {
   "cell_type": "code",
   "execution_count": null,
   "metadata": {},
   "outputs": [],
   "source": [
    "ak.combinations(numbers, 3)"
   ]
  },
  {
   "cell_type": "markdown",
   "metadata": {},
   "source": [
    "**Exercise**: See what happens when you increase the size of the combinations to 4. Can you explain the output?"
   ]
  }
 ],
 "metadata": {
  "kernelspec": {
   "display_name": "venv",
   "language": "python",
   "name": "python3"
  },
  "language_info": {
   "codemirror_mode": {
    "name": "ipython",
    "version": 3
   },
   "file_extension": ".py",
   "mimetype": "text/x-python",
   "name": "python",
   "nbconvert_exporter": "python",
   "pygments_lexer": "ipython3",
   "version": "3.13.1"
  }
 },
 "nbformat": 4,
 "nbformat_minor": 2
}
