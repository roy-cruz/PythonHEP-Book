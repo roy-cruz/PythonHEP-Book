{
 "cells": [
  {
   "cell_type": "markdown",
   "metadata": {},
   "source": [
    "# PURSUE Python for HEP: Dimuons"
   ]
  },
  {
   "cell_type": "markdown",
   "metadata": {},
   "source": [
    "* We will now once again reconstruct the mass of the Z using dimuons, but we will take a more careful approach now using the new things we have learned. We will first use a small sample of our data before using a larger one to have increased statistics."
   ]
  },
  {
   "cell_type": "code",
   "execution_count": null,
   "metadata": {},
   "outputs": [],
   "source": [
    "# Import all neccesary libraries\n",
    "import numpy as np\n",
    "import uproot\n",
    "import awkward as ak\n",
    "\n",
    "import hist\n",
    "import matplotlib.pyplot as plt\n",
    "import mplhep as hep\n",
    "hep.style.use(\"CMS\")"
   ]
  },
  {
   "cell_type": "code",
   "execution_count": null,
   "metadata": {},
   "outputs": [],
   "source": [
    "file = uproot.open(\n",
    "    \"root://eospublic.cern.ch//eos/opendata/cms/derived-data/AOD2NanoAODOutreachTool/Run2012BC_DoubleMuParked_Muons.root\"\n",
    ")\n",
    "tree = file[\"Events\"]"
   ]
  },
  {
   "cell_type": "code",
   "execution_count": null,
   "metadata": {},
   "outputs": [],
   "source": [
    "muons = tree.arrays(entry_stop=10000)\n",
    "\n",
    "# For convenience, lets rename the branches\n",
    "muons = ak.zip(\n",
    "    {\n",
    "        \"pt\": muons[\"Muon_pt\"],\n",
    "        \"eta\": muons[\"Muon_eta\"],\n",
    "        \"phi\": muons[\"Muon_phi\"],\n",
    "        \"charge\": muons[\"Muon_charge\"]\n",
    "    }\n",
    ")\n",
    "\n",
    "muons"
   ]
  },
  {
   "cell_type": "markdown",
   "metadata": {},
   "source": [
    "* The process of interest for now is the decay of Z into two leptons, the two leptons being muons.\n",
    "\n",
    "<div style=\"text-align: center;\">\n",
    "  <img src=\"./assets/Zdimuon.png\" alt=\"roottree\" style=\"width: 400px\"/>\n",
    "</div>\n",
    "\n",
    "* Firsltly, we need to find all possible unique combination of two muons per event. For this we use `ak.combinations()`. One of the convenient things with this function is that if there is less than 2 muons in an event, and thus its impossible to make a combination of two muons, the array of pairs for that event is empty (i.e. its \"filtered\" out)."
   ]
  },
  {
   "cell_type": "code",
   "execution_count": null,
   "metadata": {},
   "outputs": [],
   "source": [
    "pairs = ak.combinations(muons, 2)\n",
    "pairs"
   ]
  },
  {
   "cell_type": "markdown",
   "metadata": {},
   "source": [
    "* Now we separate each pair of muons into their own arrays. This will allows us to do computations with these in a simple way."
   ]
  },
  {
   "cell_type": "code",
   "execution_count": null,
   "metadata": {},
   "outputs": [],
   "source": [
    "mu1, mu2 = ak.unzip(pairs)"
   ]
  },
  {
   "cell_type": "markdown",
   "metadata": {},
   "source": [
    "* We can now use the mass formula we used before to compute the dimuon mass.\n",
    "$$\n",
    "m_{\\mu\\mu} = \\sqrt{\n",
    "    2p_{T,0} p_{T,1} * \\left(\\cosh(\\eta_0 - \\eta_1) - \\cos(\\phi_0- \\phi_1)\\right)\n",
    "}\n",
    "$$"
   ]
  },
  {
   "cell_type": "code",
   "execution_count": null,
   "metadata": {},
   "outputs": [],
   "source": [
    "m_dimuon = np.sqrt(\n",
    "    2 * mu1[\"pt\"] * mu2[\"pt\"] * (np.cosh(mu1[\"eta\"] - mu2[\"eta\"]) - np.cos(mu1[\"phi\"] - mu2[\"phi\"]))\n",
    ")\n",
    "m_dimuon"
   ]
  },
  {
   "cell_type": "markdown",
   "metadata": {},
   "source": [
    "* We now want to plot these mass values in a histogram. However, you can't plot a jagged array directly. You must first use a function such as `ak.ravel()` to \"unravel\" the array into a flat array. We then pass that into a histogram object and plot it using Matplotlib."
   ]
  },
  {
   "cell_type": "code",
   "execution_count": null,
   "metadata": {},
   "outputs": [],
   "source": [
    "fig, ax = plt.subplots()\n",
    "\n",
    "hist.Hist(\n",
    "    hist.axis.Regular(120, 0, 120, label=\"mass [GeV]\")\n",
    ").fill(ak.ravel(m_dimuon)).plot1d(ax=ax, histtype=\"step\", color=\"red\", linewidth=0.75, label=\"$m_{\\mu\\mu}$\")\n",
    "\n",
    "ax.set_title(\"Dimuon Mass\")\n",
    "ax.set_ylabel(\"Count\")\n",
    "ax.set_xlabel(\"Mass (GeV)\")\n",
    "ax.legend()\n",
    "\n",
    "plt.show()"
   ]
  },
  {
   "cell_type": "markdown",
   "metadata": {},
   "source": [
    "* This seems to have made things worse! Now the Z peak is very small compared to before. We will need to fix this.\n",
    "* Another thing we can try it plotting the maximum dimuon mass for each event. Doing this can help us in the following ways\n",
    "  * Background reduction: background tends to have lower invariant mass compared to the Z boson\n",
    "  * Highest dimuon mass is more likely to have come from the direct decay of a heavy particle like the Z rather than from lower mass background processes\n",
    "  * Helps reduce contribution of random low-mass pairs that are more likely to be background, increasing StoN ratio."
   ]
  },
  {
   "cell_type": "code",
   "execution_count": null,
   "metadata": {},
   "outputs": [],
   "source": [
    "max_m_dimuon = ak.max(m_dimuon, axis=1)\n",
    "# This next step removes any `None` values that arrise in events for which there are zero entries in m_dimuon\n",
    "max_m_dimuon = ak.flatten(max_m_dimuon, axis=0)\n",
    "max_m_dimuon"
   ]
  },
  {
   "cell_type": "code",
   "execution_count": null,
   "metadata": {},
   "outputs": [],
   "source": [
    "fig, ax = plt.subplots()\n",
    "\n",
    "hist.Hist(\n",
    "    hist.axis.Regular(120, 0, 120, label=\"mass [GeV]\")\n",
    ").fill(max_m_dimuon).plot1d(ax=ax, histtype=\"step\", color=\"red\", linewidth=0.75, label=\"$m_{\\mu\\mu}$\")\n",
    "\n",
    "ax.set_title(\"Dimuon Mass\")\n",
    "ax.set_ylabel(\"Count\")\n",
    "ax.set_xlabel(\"Mass (GeV)\")\n",
    "ax.legend()\n",
    "\n",
    "plt.show()"
   ]
  },
  {
   "cell_type": "markdown",
   "metadata": {},
   "source": [
    "**Exercises**:\n",
    "1. Select pairs of muons with opposite charges.\n",
    "2. Plot the one mass candidate per event that is strictly closest to the Z mass. Use `zmass = 91`. Alternatively, use the value obtained from the Particle library."
   ]
  },
  {
   "cell_type": "code",
   "execution_count": null,
   "metadata": {},
   "outputs": [],
   "source": [
    "# Answer 1"
   ]
  },
  {
   "cell_type": "code",
   "execution_count": null,
   "metadata": {},
   "outputs": [],
   "source": [
    "# Answer 2\n",
    "import particle, hepunits\n",
    "zmass = particle.Particle.findall(\"Z0\")[0].mass / hepunits.GeV"
   ]
  }
 ],
 "metadata": {
  "kernelspec": {
   "display_name": "venvscikit",
   "language": "python",
   "name": "python3"
  },
  "language_info": {
   "codemirror_mode": {
    "name": "ipython",
    "version": 3
   },
   "file_extension": ".py",
   "mimetype": "text/x-python",
   "name": "python",
   "nbconvert_exporter": "python",
   "pygments_lexer": "ipython3",
   "version": "3.11.6"
  }
 },
 "nbformat": 4,
 "nbformat_minor": 2
}
