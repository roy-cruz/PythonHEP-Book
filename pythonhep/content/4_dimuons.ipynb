{
 "cells": [
  {
   "cell_type": "markdown",
   "metadata": {},
   "source": [
    "# Dimuons Revisited"
   ]
  },
  {
   "cell_type": "markdown",
   "metadata": {},
   "source": [
    "We will now reconstruct the mass of the Z boson using dimuon events, applying a more careful and systematic approach based on the techniques we have learned so far. We begin my importing all of the libraries we need, as well as re-loading the muon data we previously downloaded."
   ]
  },
  {
   "cell_type": "code",
   "execution_count": null,
   "metadata": {},
   "outputs": [],
   "source": [
    "# Import all neccesary libraries\n",
    "import numpy as np\n",
    "import uproot\n",
    "import awkward as ak\n",
    "\n",
    "import hist\n",
    "import matplotlib.pyplot as plt\n",
    "import mplhep as hep\n",
    "hep.style.use(\"CMS\") # use CMS style for plots"
   ]
  },
  {
   "cell_type": "code",
   "execution_count": null,
   "metadata": {},
   "outputs": [],
   "source": [
    "file = uproot.open(\n",
    "    \"./uproot-tutorial-file.root\"\n",
    ")\n",
    "tree = file[\"Events\"]\n",
    "muons = tree.arrays()\n",
    "muons"
   ]
  },
  {
   "cell_type": "markdown",
   "metadata": {},
   "source": [
    "For future convenience, we will re-organize the branches of the loaded data to something a bit more intuitive. First, we will have each muon in an event correspond to an Awkard record (recall: the equivalent to a dictionary) with all of the particle's properties. We will also rename the observables to something less redundant, since we know we are dealing only with muon data. We can achieve this by using the `ak.zip` function."
   ]
  },
  {
   "cell_type": "code",
   "execution_count": null,
   "metadata": {},
   "outputs": [],
   "source": [
    "muons = ak.zip(\n",
    "    {\n",
    "        \"pt\": muons[\"Muon_pt\"],\n",
    "        \"eta\": muons[\"Muon_eta\"],\n",
    "        \"phi\": muons[\"Muon_phi\"],\n",
    "        \"charge\": muons[\"Muon_charge\"]\n",
    "    }\n",
    ")\n",
    "muons"
   ]
  },
  {
   "cell_type": "markdown",
   "metadata": {},
   "source": [
    "Before continuing, keep in mind that the process of interest is the decay of the $Z$ into a pair of leptons. The Feynman diagram for this can be seen below.\n",
    "\n",
    "```{figure} ./assets/Zdimuon.png\n",
    "---\n",
    "height: 350px\n",
    "name: Z2mumu\n",
    "---\n",
    "$Z\\to\\mu\\mu$ Feynman diagram\n",
    "```\n",
    "\n",
    "Since we don't know where the muons originated from and whether or not it came from the decay of a $Z$, we will find all possible combinations of two muons in each event. For this we use `ak.combinations()`. One of the convenient things with this function is that if there is less than 2 muons in an event, and thus its impossible to make a combination of two muons, the array of pairs for that event is empty (i.e. its \"filtered\" out)."
   ]
  },
  {
   "cell_type": "code",
   "execution_count": null,
   "metadata": {},
   "outputs": [],
   "source": [
    "pairs = ak.combinations(muons, 2)\n",
    "pairs"
   ]
  },
  {
   "cell_type": "markdown",
   "metadata": {},
   "source": [
    "Now we separate each pair of muons into their own arrays. This will simplify the desired computations later on and make the code readable."
   ]
  },
  {
   "cell_type": "code",
   "execution_count": null,
   "metadata": {},
   "outputs": [],
   "source": [
    "mu1, mu2 = ak.unzip(pairs)"
   ]
  },
  {
   "cell_type": "markdown",
   "metadata": {},
   "source": [
    "Let's now use the mass formula we used before to compute the dimuon mass.\n",
    "\n",
    "```{math}\n",
    "m_{\\mu\\mu} = \\sqrt{\n",
    "    2p_{T,0} p_{T,1} * \\left(\\cosh(\\eta_0 - \\eta_1) - \\cos(\\phi_0- \\phi_1)\\right)\n",
    "}\n",
    "```"
   ]
  },
  {
   "cell_type": "code",
   "execution_count": null,
   "metadata": {},
   "outputs": [],
   "source": [
    "m_dimuon = np.sqrt(\n",
    "    2 * mu1[\"pt\"] * mu2[\"pt\"] * (np.cosh(mu1[\"eta\"] - mu2[\"eta\"]) - np.cos(mu1[\"phi\"] - mu2[\"phi\"]))\n",
    ")\n",
    "m_dimuon"
   ]
  },
  {
   "cell_type": "markdown",
   "metadata": {},
   "source": [
    "We now want to plot these mass values in a histogram. However, you can't plot a jagged array directly. You must first use a function such as `ak.ravel()` to \"unravel\" the array into a flat array. We then pass that into a `hist.Hist` object and plot it using Matplotlib."
   ]
  },
  {
   "cell_type": "code",
   "execution_count": null,
   "metadata": {},
   "outputs": [],
   "source": [
    "fig, ax = plt.subplots()\n",
    "\n",
    "h = hist.Hist(hist.axis.Regular(120, 0, 120, label=\"mass [GeV]\"))\n",
    "h.fill(ak.ravel(m_dimuon))\n",
    "\n",
    "h.plot1d(ax=ax, histtype=\"step\", color=\"red\", linewidth=0.75, label=\"$m_{\\mu\\mu}$\")\n",
    "ax.set_title(\"Dimuon Mass\")\n",
    "ax.set_ylabel(\"Count\")\n",
    "ax.set_xlabel(\"Mass (GeV)\")\n",
    "ax.legend()\n",
    "\n",
    "plt.show()"
   ]
  },
  {
   "cell_type": "markdown",
   "metadata": {},
   "source": [
    "Uh-oh. We seem to have made things worse! The Z peak now looks very small compared to what we obtained before. In order to fix this, we can take into account certain physical considerations which may allow us to reject more of the background. Here are some things to consider:\n",
    "\n",
    "- The highest dimuon mass is more likely to have come from the direct decay of a heavy particle like the Z rather than from lower mass background processes.\n",
    "- The Z boson is electrically neutral so the muons must be of opposite charge in order for there to be charge conservation.\n",
    "- Due to momentum conservation, we expect the muons to not be too far apart in space. (Next chapter!)"
   ]
  },
  {
   "cell_type": "markdown",
   "metadata": {},
   "source": [
    "## Choosing oppositely charged muons"
   ]
  },
  {
   "cell_type": "markdown",
   "metadata": {},
   "source": [
    "We first make a mask using `mu1` and `mu2` that selects muon pairs of opposite charge."
   ]
  },
  {
   "cell_type": "code",
   "execution_count": null,
   "metadata": {},
   "outputs": [],
   "source": [
    "opp_charge_mask = mu1[\"charge\"] + mu2[\"charge\"] == 0\n",
    "pairs_opposite_charge = pairs[opp_charge_mask]\n",
    "mu1_opposite, mu2_opposite = ak.unzip(pairs_opposite_charge)"
   ]
  },
  {
   "cell_type": "markdown",
   "metadata": {},
   "source": [
    "We now compute the mass of these new set of oppositely charged muons."
   ]
  },
  {
   "cell_type": "code",
   "execution_count": null,
   "metadata": {},
   "outputs": [],
   "source": [
    "m_dimuon_opposite = np.sqrt(\n",
    "    2 * mu1_opposite[\"pt\"] * mu2_opposite[\"pt\"] * (np.cosh(mu1_opposite[\"eta\"] - mu2_opposite[\"eta\"]) - np.cos(mu1_opposite[\"phi\"] - mu2_opposite[\"phi\"]))\n",
    ")\n",
    "m_dimuon_opposite"
   ]
  },
  {
   "cell_type": "markdown",
   "metadata": {},
   "source": [
    "Finally, we plot the masses, making sure to flatten the array."
   ]
  },
  {
   "cell_type": "code",
   "execution_count": null,
   "metadata": {},
   "outputs": [],
   "source": [
    "fig, ax = plt.subplots()\n",
    "\n",
    "# Making hist\n",
    "h = hist.Hist(\n",
    "    hist.axis.Regular(120, 0, 120, label=\"mass [GeV]\")\n",
    ")\n",
    "\n",
    "# Filling hist\n",
    "h.fill(\n",
    "    ak.ravel(m_dimuon_opposite)\n",
    ")\n",
    "\n",
    "# Plotting hist\n",
    "h.plot1d(ax=ax, histtype=\"step\", color=\"blue\", linewidth=0.75, label=r\"$m_{\\mu\\mu}$ (opposite charge)\")\n",
    "ax.set_title(\"Dimuon Mass (Opposite Charge)\")\n",
    "ax.set_ylabel(\"Count\")\n",
    "ax.set_xlabel(\"Mass (GeV)\")\n",
    "ax.legend()\n",
    "plt.show()"
   ]
  },
  {
   "cell_type": "markdown",
   "metadata": {},
   "source": [
    "## Choosing highest dimuon mass"
   ]
  },
  {
   "cell_type": "markdown",
   "metadata": {},
   "source": [
    "We first get the maximum per-event mass from the computation we did before."
   ]
  },
  {
   "cell_type": "code",
   "execution_count": null,
   "metadata": {},
   "outputs": [],
   "source": [
    "# Highest dimuon mass with opposite charge\n",
    "max_m_dimuon_opposite = ak.max(m_dimuon_opposite, axis=1)\n",
    "max_m_dimuon_opposite"
   ]
  },
  {
   "cell_type": "markdown",
   "metadata": {},
   "source": [
    "The array can't be used as-is, because it contains `None` values which we cannot use to fill out histogram. Fortunately, a neat feature of `ak.flatten` is that it can be used to remove the `None` values from a flat array."
   ]
  },
  {
   "cell_type": "code",
   "execution_count": null,
   "metadata": {},
   "outputs": [],
   "source": [
    "# ak.flatten is used here to remove None values\n",
    "max_m_dimuon_opposite = ak.flatten(max_m_dimuon_opposite, axis=0)\n",
    "max_m_dimuon_opposite"
   ]
  },
  {
   "cell_type": "markdown",
   "metadata": {},
   "source": [
    "We are now ready to plot!"
   ]
  },
  {
   "cell_type": "code",
   "execution_count": null,
   "metadata": {},
   "outputs": [],
   "source": [
    "# Highest dimuon mass with opposite charge plot\n",
    "fig, ax = plt.subplots()\n",
    "hist.Hist(\n",
    "    hist.axis.Regular(120, 0, 120, label=\"mass [GeV]\")\n",
    ").fill(max_m_dimuon_opposite).plot1d(ax=ax, histtype=\"step\", color=\"green\", linewidth=0.75, label=r\"$m_{\\mu\\mu}$ (max mass, opposite charge)\")\n",
    "ax.set_title(\"Max Dimuon Mass (Opposite Charge)\")\n",
    "ax.set_ylabel(\"Count\")\n",
    "ax.set_xlabel(\"Mass (GeV)\")\n",
    "ax.legend()\n",
    "plt.show()"
   ]
  },
  {
   "cell_type": "markdown",
   "metadata": {},
   "source": [
    "**Exercises**: Instead of maximizing the mass of the dimuon we choose from each event, try selecting the mass closest to the known mass of the $Z$ boson. (Hint: look up `ak.argmin` in Google)"
   ]
  }
 ],
 "metadata": {
  "kernelspec": {
   "display_name": "venv",
   "language": "python",
   "name": "python3"
  },
  "language_info": {
   "codemirror_mode": {
    "name": "ipython",
    "version": 3
   },
   "file_extension": ".py",
   "mimetype": "text/x-python",
   "name": "python",
   "nbconvert_exporter": "python",
   "pygments_lexer": "ipython3",
   "version": "3.13.1"
  }
 },
 "nbformat": 4,
 "nbformat_minor": 2
}
