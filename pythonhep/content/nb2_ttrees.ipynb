{
 "cells": [
  {
   "cell_type": "markdown",
   "metadata": {},
   "source": [
    "# PURSUE Python for HEP: Looking At Real Data\n",
    "\n",
    "## Loading the Data\n",
    "\n",
    "* Uproot can open not just local ROOT files, but it can also open remote files. We will be working with a file which is hosted by CERN's Open Data Portal.\n",
    "* Note: If you are unable to access the remote file, uncomment the next cell and run it to download an alternative, smaller file."
   ]
  },
  {
   "cell_type": "code",
   "execution_count": null,
   "metadata": {},
   "outputs": [],
   "source": [
    "# !wget https://github.com/masonproffitt/uproot-tutorial-notebooks/raw/master/uproot-tutorial-file.root"
   ]
  },
  {
   "cell_type": "code",
   "execution_count": null,
   "metadata": {},
   "outputs": [],
   "source": [
    "import uproot\n",
    "\n",
    "file = uproot.open(\n",
    "    \"root://eospublic.cern.ch//eos/opendata/cms/derived-data/AOD2NanoAODOutreachTool/Run2012BC_DoubleMuParked_Muons.root\"\n",
    "    # \"./uproot-tutorial-file.root\"\n",
    ")\n",
    "file.classnames()"
   ]
  },
  {
   "cell_type": "markdown",
   "metadata": {},
   "source": [
    "* Accesing the tree as such just provides you a handle for it. "
   ]
  },
  {
   "cell_type": "code",
   "execution_count": null,
   "metadata": {},
   "outputs": [],
   "source": [
    "tree = file[\"Events\"]\n",
    "tree"
   ]
  },
  {
   "cell_type": "markdown",
   "metadata": {},
   "source": [
    "* So we use the `.array()` method to access the actual data. However, the amount of data in this file is large, so we can add arguments to this method to limit the amount of entries we read, thus reducing load times."
   ]
  },
  {
   "cell_type": "code",
   "execution_count": null,
   "metadata": {},
   "outputs": [],
   "source": [
    "tree.show()"
   ]
  },
  {
   "cell_type": "code",
   "execution_count": null,
   "metadata": {},
   "outputs": [],
   "source": [
    "tree[\"nMuon\"].array(entry_start=0, entry_stop=100)"
   ]
  },
  {
   "cell_type": "markdown",
   "metadata": {},
   "source": [
    "* To read more than just a single TBranch, we can also specify the particular branches we want to load in the `array()` method.\n",
    "* When we do this, we get an an Awkward array which contains Awkward records\n",
    "  * Awkward array: Awkward equivalent of a Numpy array\n",
    "  * Awkward record: Awkward equivalent of a dictionary\n",
    "* The true power of awkward arrays becomes evident when it contains records. In this situation, you can pass a key value in between brakets to the *array*, and you will get back an array containing the value for that key for every record in that array."
   ]
  },
  {
   "cell_type": "code",
   "execution_count": null,
   "metadata": {},
   "outputs": [],
   "source": [
    "muons_npt = tree.arrays(\n",
    "    [\"nMuon\", \"Muon_pt\"], entry_stop=1000\n",
    ")\n",
    "print(type(muons_npt))\n",
    "print(type(muons_npt[0]))\n",
    "muons_npt"
   ]
  },
  {
   "cell_type": "code",
   "execution_count": null,
   "metadata": {},
   "outputs": [],
   "source": [
    "muons_npt[\"Muon_pt\"]"
   ]
  },
  {
   "cell_type": "markdown",
   "metadata": {},
   "source": [
    "* **This lets us completely shift how we approach problems which might otherwise be cumbersome to deal with while doing analysis with HEP data: by having data structures that accomodate jagged arrays so well, we can adopt a fully array-oriented approach to our programming, allowing us to take advantage of vectorized operations at every step, simplfying the paralellization of our algorithms and helping us avoid slow loops.**\n",
    "\n",
    "**Exercise**: Print out the pt and charge of the muons from events 100 to 115. Do this in two different ways, but only using Awkward array slicing+filtering. Once solved, determine which one of these ways is faster by using the `%%timeit` magic. Why do you think one is faster than the other?"
   ]
  },
  {
   "cell_type": "code",
   "execution_count": null,
   "metadata": {},
   "outputs": [],
   "source": [
    "%%timeit\n",
    "muons_npt[100:115][\"Muon_pt\"]"
   ]
  },
  {
   "cell_type": "code",
   "execution_count": null,
   "metadata": {},
   "outputs": [],
   "source": [
    "%%timeit\n",
    "muons_npt[\"Muon_pt\"][100:115]"
   ]
  },
  {
   "cell_type": "markdown",
   "metadata": {},
   "source": [
    "* Given that the data we typically deal with is huge, unless neccesary, its good practice to specify the particular TBranches you want instead of doing something like `tree.arrays()` as this will load in everything, including things you might not be interested in.\n",
    "* In addition to the way shown before, you can also get a subset of the branches by passing a `filter_name` argument to `tree.arrays()`."
   ]
  },
  {
   "cell_type": "code",
   "execution_count": null,
   "metadata": {},
   "outputs": [],
   "source": [
    "tree.arrays(filter_name=\"Muon_*\", entry_stop=100)"
   ]
  },
  {
   "cell_type": "markdown",
   "metadata": {},
   "source": [
    "* If you don't know what the name of the available branches are and you don't want to print them all, you can search for them using the following syntax."
   ]
  },
  {
   "cell_type": "code",
   "execution_count": null,
   "metadata": {},
   "outputs": [],
   "source": [
    "tree.keys(filter_name=\"Muon_*\")"
   ]
  },
  {
   "cell_type": "markdown",
   "metadata": {},
   "source": [
    "* You can use the same type of filtering when calling `arrays()`"
   ]
  },
  {
   "cell_type": "code",
   "execution_count": null,
   "metadata": {},
   "outputs": [],
   "source": [
    "tree.arrays(filter_name=\"Muon_*\", entry_stop=100)"
   ]
  },
  {
   "cell_type": "markdown",
   "metadata": {},
   "source": [
    "## Exploring the Data"
   ]
  },
  {
   "cell_type": "code",
   "execution_count": null,
   "metadata": {},
   "outputs": [],
   "source": [
    "# Loading in some data from all branches\n",
    "muons = tree.arrays(entry_stop=1500)\n",
    "muons"
   ]
  },
  {
   "cell_type": "markdown",
   "metadata": {},
   "source": [
    "* Accoring to the above cell output, each events in this dataset have 6 total \"attributes\":\n",
    "  * `nMuon`: The number of muons in the event\n",
    "  * `Muon_pt`: The $p_T$ of each of those muons\n",
    "  * `Muon_eta`: The $\\eta$ coordinate of each muon\n",
    "  * `Muon_phi`: The $\\phi$ coordinate of each muon\n",
    "  * `Muon_mass`: The mass of each muon\n",
    "  * `Muon_charge`: The charge of each muon\n",
    "* Here, `Muon_phi` and `Muon_eta` refers to the corresponding spacial coordinates used in the CMS coordinate system.\n",
    "\n",
    "<div style=\"text-align: center;\">\n",
    "  <img src=\"./assets/axis3D_CMS.png\" alt=\"roottree\" style=\"width: 600px\"/>\n",
    "</div>\n",
    "\n",
    "* We can take a quick look at a small sample of the data to get an idea of how it is structured in the following way. Note that this is not the usual way to do it is simply for pedagogical purposes."
   ]
  },
  {
   "cell_type": "code",
   "execution_count": null,
   "metadata": {},
   "outputs": [],
   "source": [
    "import pandas as pd\n",
    "\n",
    "tree.arrays(library=\"pd\", entry_stop=10)"
   ]
  },
  {
   "cell_type": "markdown",
   "metadata": {},
   "source": [
    "* Knowing what is in this data, we can go ahead and start doing something with it. Let's begin by constructing the masses. To do this, we can use a feature that exists for Awkward arrays that we saw in Numpy arrays: filtering through a mask array."
   ]
  },
  {
   "cell_type": "code",
   "execution_count": null,
   "metadata": {},
   "outputs": [],
   "source": [
    "# If an event has 2 muons, its corresponding element in the mask is True. False otherwise.\n",
    "mask = muons[\"nMuon\"] == 2\n",
    "mask"
   ]
  },
  {
   "cell_type": "code",
   "execution_count": null,
   "metadata": {},
   "outputs": [],
   "source": [
    "# Only keeping di-muon events\n",
    "dimuons = muons[mask]\n",
    "dimuons"
   ]
  },
  {
   "cell_type": "code",
   "execution_count": null,
   "metadata": {},
   "outputs": [],
   "source": [
    "# Getting the eta, pt and phi of each of the muons in the dimuon events\n",
    "pt0 = dimuons[\"Muon_pt\"][:,0]\n",
    "pt1 = dimuons[\"Muon_pt\"][:,1]\n",
    "eta0 = dimuons[\"Muon_eta\"][:,0]\n",
    "eta1 = dimuons[\"Muon_eta\"][:,1]\n",
    "phi0 = dimuons[\"Muon_phi\"][:,0]\n",
    "phi1 = dimuons[\"Muon_phi\"][:,1]"
   ]
  },
  {
   "cell_type": "markdown",
   "metadata": {},
   "source": [
    "* The mass is computed using the following equation\n",
    "\n",
    "$$\n",
    "m_{\\mu\\mu} = \\sqrt{(E_1 + E_2)^2 - \\|\\textbf{p}_1 + \\textbf{p}_2 \\| ^2} = \\sqrt{(E_1+E_2)^2-((p_{1_x}+p_{2_x})^2+(p_{1_y}+p_{2_y})^2+(p_{1_z}+p_{2_z})^2)}|\n",
    "$$\n",
    "\n",
    "* If we have that $E >> m$, then we can rewrite this as:\n",
    "$$\n",
    "m_{\\mu\\mu} = \\sqrt{\n",
    "    2p_{T,0} p_{T,1} * \\left(\\cosh(\\eta_0 - \\eta_1) - \\cos(\\phi_0- \\phi_1)\\right)\n",
    "}\n",
    "$$"
   ]
  },
  {
   "cell_type": "code",
   "execution_count": null,
   "metadata": {},
   "outputs": [],
   "source": [
    "import numpy as np\n",
    "mass = np.sqrt(2 * pt0 * pt1 * (np.cosh(eta0 - eta1) - np.cos(phi0 - phi1)))\n",
    "mass"
   ]
  },
  {
   "cell_type": "markdown",
   "metadata": {},
   "source": [
    "* We now use the Hist library, one of the many tools offered by Scikit-HEP. This library offers a user-friendly API for the Boost-histogram Python library which offers a highly efficient and flexible histogramming framework. Some example features are:\n",
    "  * Built on the C++ Boost.Histogram libary, so offers good performance\n",
    "  * Flexibility: supports multiple types of histograms\n",
    "  * N-dimensional histograms\n",
    "  * Axis customization\n",
    "  * Named axes\n",
    "  * Built-in support for plotting histograms using Matplotlib\n",
    "  * Integrates well with numpy and pandas\n",
    "* Making a histogram for the dimuon mass.\n",
    "\n",
    "([Hist docs](https://hist.readthedocs.io/en/latest/user-guide/axes.html))"
   ]
  },
  {
   "cell_type": "code",
   "execution_count": null,
   "metadata": {},
   "outputs": [],
   "source": [
    "import hist\n",
    "import matplotlib.pyplot as plt\n",
    "import mplhep as hep\n",
    "hep.style.use(\"CMS\")"
   ]
  },
  {
   "cell_type": "code",
   "execution_count": null,
   "metadata": {},
   "outputs": [],
   "source": [
    "# Using Hist + Matplotlib\n",
    "fig, ax = plt.subplots()\n",
    "\n",
    "masshist = hist.Hist(\n",
    "    hist.axis.Regular(120, 0, 200, label=\"mass [GeV]\", name=\"mass\"),\n",
    ")\n",
    "masshist.fill(mass)\n",
    "masshist.plot1d(ax=ax, label=\"Dimuon mass [GeV]\", color=\"red\")\n",
    "\n",
    "ax.set_xlabel(\"Mass [GeV]\")\n",
    "ax.set_ylabel(\"Count\")\n",
    "ax.set_title(\"Dimuon Mass Distribution\")\n",
    "ax.legend()\n",
    "\n",
    "plt.show()"
   ]
  },
  {
   "cell_type": "markdown",
   "metadata": {},
   "source": [
    "* In the above plot, you can clearly see a peak around 90 GeV. This corresponds to the mass of the Z bosons and shows that we have been able to succesfully reconstruct its mass! However, what we have done so far is rather rudimentary. Firslty, we got rid of a bunch of events which have more than 2 muons, but which might also have 2 (or more) muons which came from Z. Also, we didn't make sure that quantities such as the charge were conserved. We just added the masses of the muons and hoped for the best. We will deal with these sorts of consdierations later on.\n",
    "* Before we continue, lets pause and see the whole code for procuding out plot."
   ]
  },
  {
   "cell_type": "code",
   "execution_count": null,
   "metadata": {},
   "outputs": [],
   "source": [
    "muons = tree.arrays(filter_name=\"/nMuon|Muon_(phi|eta|pt)/\", entry_stop=100000)\n",
    "dimuons_cut = muons[\"nMuon\"] == 2\n",
    "dimuons = muons[dimuons_cut]\n",
    "\n",
    "pt0 = dimuons[\"Muon_pt\"][:,0]\n",
    "pt1 = dimuons[\"Muon_pt\"][:,1]\n",
    "eta0 = dimuons[\"Muon_eta\"][:,0]\n",
    "eta1 = dimuons[\"Muon_eta\"][:,1]\n",
    "phi0 = dimuons[\"Muon_phi\"][:,0]\n",
    "phi1 = dimuons[\"Muon_phi\"][:,1]\n",
    "\n",
    "mass = np.sqrt(2 * pt0 * pt1 * (np.cosh(eta0 - eta1) - np.cos(phi0 - phi1)))\n"
   ]
  },
  {
   "cell_type": "code",
   "execution_count": null,
   "metadata": {},
   "outputs": [],
   "source": [
    "fig, ax = plt.subplots()\n",
    "\n",
    "masshist = hist.Hist(hist.axis.Regular(120, 0, 120, label=\"mass [GeV]\"))\n",
    "masshist.fill(mass)\n",
    "masshist.plot1d(ax=ax)\n",
    "\n",
    "ax.set_title(\"Dimuon Mass\")\n",
    "ax.set_xlabel(\"$m_{\\mu\\mu}$\")\n",
    "ax.set_ylabel(\"Count\")\n",
    "\n",
    "plt.show()"
   ]
  },
  {
   "cell_type": "markdown",
   "metadata": {},
   "source": [
    "* We will be focusing on Z and H for the most part. However, you might wonder what those extra peaks are from to the left of the Z peak. If we make the plot logarithmic, we'll be able to appreciate what going on there..."
   ]
  },
  {
   "cell_type": "code",
   "execution_count": null,
   "metadata": {},
   "outputs": [],
   "source": [
    "fig, ax = plt.subplots()\n",
    "hist_data = hist.Hist(\n",
    "    hist.axis.Variable(np.logspace(np.log10(0.1), np.log10(1000), 100), name=\"mass\", label=\"Invariant Mass [GeV]\")\n",
    ")\n",
    "hist_data.fill(mass=mass)\n",
    "hist_data.plot1d(ax=ax, histtype='step', color=\"red\", linewidth=0.75)\n",
    "\n",
    "ax.set_xscale(\"log\")\n",
    "ax.set_yscale(\"log\")\n",
    "ax.set_xlabel(\"Invariant Mass [GeV]\")\n",
    "ax.set_ylabel(\"Counts\")\n",
    "ax.set_title(\"Dimuon Invariant Mass Distribution\")\n",
    "\n",
    "plt.show()"
   ]
  },
  {
   "cell_type": "markdown",
   "metadata": {},
   "source": [
    "* Compare the previous plot with this one...\n",
    "  \n",
    "<div style=\"text-align: center;\">\n",
    "  <img src=\"./assets/dimuonspectrumplt.png\" alt=\"roottree\" style=\"width: 400px\"/>\n",
    "</div>"
   ]
  }
 ],
 "metadata": {
  "kernelspec": {
   "display_name": "venvscikit",
   "language": "python",
   "name": "python3"
  },
  "language_info": {
   "codemirror_mode": {
    "name": "ipython",
    "version": 3
   },
   "file_extension": ".py",
   "mimetype": "text/x-python",
   "name": "python",
   "nbconvert_exporter": "python",
   "pygments_lexer": "ipython3",
   "version": "3.11.6"
  }
 },
 "nbformat": 4,
 "nbformat_minor": 2
}
