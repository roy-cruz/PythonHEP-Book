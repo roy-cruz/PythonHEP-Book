{
 "cells": [
  {
   "cell_type": "markdown",
   "metadata": {},
   "source": [
    "# PURSUE Python for HEP: Dictionaries and Arrays"
   ]
  },
  {
   "cell_type": "markdown",
   "metadata": {},
   "source": [
    "## Review of dictionary interface\n",
    "* In dicitonaries, a key is mapped to some sort of value of arbitrary type. The key can be a string or integer."
   ]
  },
  {
   "cell_type": "code",
   "execution_count": null,
   "metadata": {},
   "outputs": [],
   "source": [
    "some_dict = {\n",
    "    \"word\": 1,\n",
    "    \"another word\": 2,\n",
    "    45: 29\n",
    "}\n",
    "\n",
    "some_dict[\"word\"]"
   ]
  },
  {
   "cell_type": "markdown",
   "metadata": {},
   "source": [
    "* You can add new key-value pairs in the following way:"
   ]
  },
  {
   "cell_type": "code",
   "execution_count": null,
   "metadata": {},
   "outputs": [],
   "source": [
    "some_dict[\"cool key\"] = \"values can be of any type!\"\n",
    "\n",
    "some_dict"
   ]
  },
  {
   "cell_type": "markdown",
   "metadata": {},
   "source": [
    "* You can obtain the values and keys using the following methods"
   ]
  },
  {
   "cell_type": "code",
   "execution_count": null,
   "metadata": {},
   "outputs": [],
   "source": [
    "print(some_dict.values())\n",
    "print(some_dict.keys())"
   ]
  },
  {
   "cell_type": "markdown",
   "metadata": {},
   "source": [
    "* And, if you are going to iterate over the dictionary and accesing both simulaneously is something you'd like to do, you can use `.items()`"
   ]
  },
  {
   "cell_type": "code",
   "execution_count": null,
   "metadata": {},
   "outputs": [],
   "source": [
    "for key, value in some_dict.items():\n",
    "    print(key, value)"
   ]
  },
  {
   "cell_type": "markdown",
   "metadata": {},
   "source": [
    "## A Quick Review of Arrays\n",
    "* Lists and arrays are similar, but not the same thing in Python. Here are the main differences between then\n",
    "  * Type and structure\n",
    "    * Lists can store elements of different data types, are dynamically sized and are implemented as linked lists\n",
    "    * Numpy arrays can only store the same data type, has a fixed size once created and is implemented as contiguous blocks of memory.\n",
    "  * Performance\n",
    "    * Lists < Numpy\n",
    "    * Numpy makes use of highly optimized compiled code\n",
    "    * Allows for vectorized operations\n",
    "  * Features\n",
    "    * Numpy has a wider range of mathematical functions and operations, supports broadcasting and provides advanced indexing and slicing capabilities\n",
    "* When running numerical computations involving a collection of numbers, the usual object of choice is the NumPy array. With these we can perform fast computations."
   ]
  },
  {
   "cell_type": "code",
   "execution_count": null,
   "metadata": {},
   "outputs": [],
   "source": [
    "import numpy as np\n",
    "\n",
    "arr1 = np.array(\n",
    "    [1, 2, 3, 4, 5]\n",
    ")\n",
    "\n",
    "arr2 = np.array(\n",
    "    [5, 4, 3, 2, 1]\n",
    ")"
   ]
  },
  {
   "cell_type": "code",
   "execution_count": null,
   "metadata": {},
   "outputs": [],
   "source": [
    "%%timeit\n",
    "# Slow way\n",
    "sumrslt = []\n",
    "for i, j in zip(arr1, arr2):\n",
    "    sumrslt.append(i + j)\n",
    "sumarr = np.array(sumrslt)"
   ]
  },
  {
   "cell_type": "code",
   "execution_count": null,
   "metadata": {},
   "outputs": [],
   "source": [
    "%%timeit\n",
    "# Faster way!\n",
    "rsltarr = arr1 + arr2 # It also looks much nicer!"
   ]
  },
  {
   "cell_type": "markdown",
   "metadata": {},
   "source": [
    "* Vectorized operations such as the ones allowed by numpy are not only faster, but, as you can see, have a more elegant syntax.\n",
    "* Numpy allows us to perform a slew of vectorized operations. In the following cell, we illustrate these operations."
   ]
  },
  {
   "cell_type": "code",
   "execution_count": null,
   "metadata": {},
   "outputs": [],
   "source": [
    "# Mathematical operations\n",
    "print(\"{} - {} = {}\".format(arr1, arr2, arr1 - arr2))\n",
    "print(\"{} / {} = {}\".format(arr1, arr2, arr1 / arr2))\n",
    "print(\"{} * {} = {}\".format(arr1, arr2, arr1 * arr2))\n",
    "print(\"{} % {} = {}\".format(arr1, arr2, arr1 % arr2))\n",
    "print()\n",
    "\n",
    "# Comparison operations\n",
    "eq_comp = arr1 == arr2\n",
    "print(\"{} == {} = {}\".format(arr1, arr2, eq_comp))\n",
    "\n",
    "ineq_comp = arr1 != arr2\n",
    "print(\"{} != {} = {}\".format(arr1, arr2, ineq_comp))\n",
    "\n",
    "print(\"{} < {} = {}\".format(arr1, arr2, arr1 < arr2))\n",
    "print()\n",
    "\n",
    "# Logical operations\n",
    "print(\"NOT: ~{} = {}\".format(eq_comp, ~eq_comp))\n",
    "print(\"AND: {} & {} = {}\".format(ineq_comp, eq_comp, ineq_comp & eq_comp))\n",
    "print(\"OR: {} | {} = {}\".format(eq_comp, ineq_comp, eq_comp | ineq_comp))\n"
   ]
  },
  {
   "cell_type": "markdown",
   "metadata": {},
   "source": [
    "* You can also slice Numpy arrays similarly to how you would slice. Consider the following 3D array\n",
    "\n",
    "<div style=\"text-align: center;\">\n",
    "  <img src=\"./assets/array3d-highlight1.png\" alt=\"array1\" style=\"width: 300px\"/>\n",
    "</div>\n"
   ]
  },
  {
   "cell_type": "code",
   "execution_count": null,
   "metadata": {},
   "outputs": [],
   "source": [
    "num_elems = 2 * 3 * 5\n",
    "arr1d = np.arange(num_elems)\n",
    "arr1d"
   ]
  },
  {
   "cell_type": "code",
   "execution_count": null,
   "metadata": {},
   "outputs": [],
   "source": [
    "arr3d = arr1d.reshape(2, 3, 5)\n",
    "arr3d"
   ]
  },
  {
   "cell_type": "markdown",
   "metadata": {},
   "source": [
    "* If we wanted to get the highlighted elements, we could do something like this:"
   ]
  },
  {
   "cell_type": "code",
   "execution_count": null,
   "metadata": {},
   "outputs": [],
   "source": [
    "arr3d[:, 1:, 1:]"
   ]
  },
  {
   "cell_type": "markdown",
   "metadata": {},
   "source": [
    "**Exercise:** How would you slice this array in order to get the elements highlighed in blue in the following image?\n",
    "\n",
    "<div style=\"text-align: center;\">\n",
    "  <img src=\"./assets/array3d-highlight2.png\" alt=\"array1\" style=\"width: 300px\"/>\n",
    "</div>"
   ]
  },
  {
   "cell_type": "code",
   "execution_count": null,
   "metadata": {},
   "outputs": [],
   "source": [
    "# Answer here"
   ]
  },
  {
   "cell_type": "markdown",
   "metadata": {},
   "source": [
    "* In addition to slicing, you can also filter Numpy arrays using arrays of booleans of the same shape as the array you wish to filter. \n",
    "* This can be useful in HEP when, for instance, you only want to keep events where a particle of interest has a $p_T$ above a certain amount. For Numpy arrays, we can do this type of filtering like this."
   ]
  },
  {
   "cell_type": "code",
   "execution_count": null,
   "metadata": {},
   "outputs": [],
   "source": [
    "print(f\"arr1 = {arr1}\")\n",
    "print(f\"arr2 = {arr2}\")\n",
    "filter_arr = arr1 != arr2\n",
    "print(f\"filter = {filter_arr}\")\n",
    "arr1[filter_arr]"
   ]
  },
  {
   "cell_type": "code",
   "execution_count": null,
   "metadata": {},
   "outputs": [],
   "source": [
    "some_array = np.array([0.0, 1.1, 2.2, 3.3, 4.4, 5.5, 6.6, 7.7, 8.8, 9.9])\n",
    "boolean_array = np.array(\n",
    "    [True, True, True, True, True, False, True, False, True, False]\n",
    ")\n",
    "\n",
    "some_array[boolean_array]"
   ]
  },
  {
   "cell_type": "markdown",
   "metadata": {},
   "source": [
    "## Limitations of Numpy"
   ]
  },
  {
   "cell_type": "markdown",
   "metadata": {},
   "source": [
    "* One of the limitations of NumPy is that it only allows us to construct homogeneous arrays. However, in HEP, data is often *not* homogeneous: you might have that each event have different numbers of the same particle, each one having their own $p_T$, $\\eta$, etc. In order to see this, we will load some data to get us started."
   ]
  },
  {
   "cell_type": "code",
   "execution_count": null,
   "metadata": {},
   "outputs": [],
   "source": [
    "# This will produce an error! Read the error message careful and try to understand it.\n",
    "np.array([\n",
    "    [1, 2, 3],\n",
    "    [1],\n",
    "    [5, 7, 8, 100]\n",
    "])"
   ]
  }
 ],
 "metadata": {
  "kernelspec": {
   "display_name": "Python 3 (ipykernel)",
   "language": "python",
   "name": "python3"
  },
  "language_info": {
   "codemirror_mode": {
    "name": "ipython",
    "version": 3
   },
   "file_extension": ".py",
   "mimetype": "text/x-python",
   "name": "python",
   "nbconvert_exporter": "python",
   "pygments_lexer": "ipython3",
   "version": "3.11.6"
  }
 },
 "nbformat": 4,
 "nbformat_minor": 2
}
